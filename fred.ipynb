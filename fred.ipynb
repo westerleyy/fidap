{
 "cells": [
  {
   "cell_type": "code",
   "execution_count": 1,
   "metadata": {},
   "outputs": [],
   "source": [
    "import numpy as np\n",
    "import pandas as pd\n",
    "import altair as alt\n",
    "import fidap\n",
    "import config\n",
    "\n",
    "# instantiate connection\n",
    "fidap = fidap.fidap_client(api_key = config.api_key)"
   ]
  },
  {
   "cell_type": "code",
   "execution_count": null,
   "metadata": {},
   "outputs": [],
   "source": [
    "fred_meta = fidap.sql(\"\"\"\n",
    "SELECT *\n",
    "FROM fidap-301014.fred.INFORMATION_SCHEMA.TABLES\n",
    "\"\"\")"
   ]
  },
  {
   "cell_type": "code",
   "execution_count": null,
   "metadata": {
    "scrolled": true
   },
   "outputs": [],
   "source": [
    "# get all table names\n",
    "print(fred_meta.table_name)"
   ]
  },
  {
   "cell_type": "code",
   "execution_count": null,
   "metadata": {},
   "outputs": [],
   "source": [
    "#meta for each of the tables to figure out which might be useful \n",
    "categories_meta = fidap.sql(\"\"\"\n",
    "SELECT * EXCEPT(is_generated, generation_expression, is_stored, is_updatable)\n",
    "FROM fidap-301014.fred.INFORMATION_SCHEMA.COLUMNS\n",
    "WHERE table_name = 'categories'\n",
    "\"\"\")\n",
    "\n",
    "series_info_meta = fidap.sql(\"\"\"\n",
    "SELECT * EXCEPT(is_generated, generation_expression, is_stored, is_updatable)\n",
    "FROM fidap-301014.fred.INFORMATION_SCHEMA.COLUMNS\n",
    "WHERE table_name = 'series_info'\n",
    "\"\"\")\n",
    "\n",
    "series_observations_meta = fidap.sql(\"\"\"\n",
    "SELECT * EXCEPT(is_generated, generation_expression, is_stored, is_updatable)\n",
    "FROM fidap-301014.fred.INFORMATION_SCHEMA.COLUMNS\n",
    "WHERE table_name = 'series_observations'\n",
    "\"\"\")"
   ]
  },
  {
   "cell_type": "markdown",
   "metadata": {},
   "source": [
    "Suppose I want information on these few tables:  \n",
    "1) Monthly Supply of Houses in the United States  \n",
    "2) New Privately-Owned Housing Units Started: Total Units  \n",
    "3) New Houses Sold by Stage of Construction, Total  \n",
    "4) New One Family Houses for Sale in the United States  \n",
    "5) Producer Price Index by Commodity: Lumber and Wood Products: Hardwood Lumber  \n",
    "6) Producer Price Index by Commodity: Lumber and Wood Products: Oak and Maple Hardwood Flooring    \n",
    "  \n",
    "I can obtain some information from the `series_info` table of the `fred` project.  "
   ]
  },
  {
   "cell_type": "code",
   "execution_count": 3,
   "metadata": {},
   "outputs": [],
   "source": [
    "housing_data = fidap.sql(\"\"\"\n",
    "SELECT *\n",
    "FROM fidap-301014.fred.series_info\n",
    "WHERE series_id IN ('HOUST', 'MSACSR', 'NHSDPTS', 'HNFSUSNSA', 'WPU0812', 'WPU08120401', 'COMPUTSA', 'UNDCONTSA', 'RELDCBMO27SBOG', 'H8B1026NCBCMG', 'MRTSSM444USN', 'MRTSSM4423XUSS', 'PRRESCONS', 'MPCV00XXS')\n",
    "\"\"\")"
   ]
  },
  {
   "cell_type": "markdown",
   "metadata": {},
   "source": [
    "Now that I know what I am looking at, I can begin querying in earnest. What I would really like to find out is whether we can eyeball any relationship between supply of houses and construction of new houses. A quick inspection of the data tells us that we can get most of the data starting from the 1960s except for `Producer Price Index by Commodity: Lumber and Wood Products: Oak and Maple Hardwood Flooring` where the earliest records were from 1984.   "
   ]
  },
  {
   "cell_type": "code",
   "execution_count": null,
   "metadata": {},
   "outputs": [],
   "source": [
    "# query for housing supply data \n",
    "monthly_supply_df = fidap.sql(\"\"\"\n",
    "SELECT series_id, date, value\n",
    "FROM fidap-301014.fred.series_observations\n",
    "WHERE series_id = 'MSACSR';\n",
    "\"\"\")\n",
    "\n",
    "flooring_pricing = fidap.sql(\"\"\"\n",
    "SELECT series_id, date, value\n",
    "FROM fidap-301014.fred.series_observations\n",
    "WHERE series_id = 'WPU080120401'\n",
    "\"\"\")\n",
    "\n",
    "# houses sold\n",
    "new_houses_sold = fidap.sql(\"\"\"\n",
    "SELECT series_id, date, value\n",
    "FROM fidap-301014.fred.series_observations\n",
    "WHERE series_id = 'NHSDPTS'\n",
    "\"\"\")"
   ]
  },
  {
   "cell_type": "markdown",
   "metadata": {},
   "source": [
    "The queries above were duds. Those series were not available in the table for some reason."
   ]
  },
  {
   "cell_type": "code",
   "execution_count": null,
   "metadata": {},
   "outputs": [],
   "source": [
    "# id the series available \n",
    "available_series = fidap.sql(\"\"\"\n",
    "WITH all_series AS (\n",
    "SELECT DISTINCT series_id \n",
    "FROM fidap-301014.fred.series_observations\n",
    ")\n",
    "\n",
    "SELECT * \n",
    "FROM fidap-301014.fred.series_info AS i\n",
    "INNER JOIN all_series as s\n",
    "ON s.series_id = i.series_id;\n",
    "\"\"\")"
   ]
  },
  {
   "cell_type": "markdown",
   "metadata": {},
   "source": [
    "A quick manual trawl through the data suggested that some datasets are not imported. But that is okay, we can work with others instead. It is a little weird because we know that they exist from the `series_observations` table.  "
   ]
  },
  {
   "cell_type": "code",
   "execution_count": 2,
   "metadata": {},
   "outputs": [],
   "source": [
    "# housing construction has started\n",
    "housing_started = fidap.sql(\"\"\"\n",
    "SELECT series_id, date, value\n",
    "FROM fidap-301014.fred.series_observations\n",
    "WHERE series_id = 'HOUST';\n",
    "\"\"\")\n",
    "\n",
    "# lumber pricing index\n",
    "hardwood_lumber_pricing = fidap.sql(\"\"\"\n",
    "SELECT series_id, date, value\n",
    "FROM fidap-301014.fred.series_observations\n",
    "WHERE series_id = 'WPU0812'; \n",
    "\"\"\")\n",
    "\n",
    "# real estate loans \n",
    "delta_real_estate_loans = fidap.sql(\"\"\"\n",
    "SELECT series_id, date, value\n",
    "FROM fidap-301014.fred.series_observations\n",
    "WHERE series_id = 'H8B1026NCBCMG'; \n",
    "\"\"\")\n",
    "\n",
    "# private residential spending\n",
    "building_materials_expenditure = fidap.sql(\"\"\"\n",
    "SELECT series_id, date, value\n",
    "FROM fidap-301014.fred.series_observations\n",
    "WHERE series_id = 'MRTSSM444USS'; \n",
    "\"\"\")\n",
    "\n",
    "furnishing_expenditure = fidap.sql(\"\"\"\n",
    "SELECT series_id, date, value\n",
    "FROM fidap-301014.fred.series_observations\n",
    "WHERE series_id = 'MRTSSM4423XUSS'; \n",
    "\"\"\")\n",
    "\n",
    "# housing expenditure\n",
    "private_residential_expenditure = fidap.sql(\"\"\"\n",
    "SELECT series_id, date, value\n",
    "FROM fidap-301014.fred.series_observations\n",
    "WHERE series_id = 'PRRESCONS'; \n",
    "\"\"\")\n",
    "\n"
   ]
  },
  {
   "cell_type": "markdown",
   "metadata": {},
   "source": [
    "Let us start by seeing if there is a relationship between retail spending of building materials and home furnishings."
   ]
  },
  {
   "cell_type": "code",
   "execution_count": 25,
   "metadata": {
    "scrolled": true
   },
   "outputs": [
    {
     "data": {
      "text/html": [
       "\n",
       "<div id=\"altair-viz-191270b10e1b44799c9cc4e71cfbb29b\"></div>\n",
       "<script type=\"text/javascript\">\n",
       "  (function(spec, embedOpt){\n",
       "    let outputDiv = document.currentScript.previousElementSibling;\n",
       "    if (outputDiv.id !== \"altair-viz-191270b10e1b44799c9cc4e71cfbb29b\") {\n",
       "      outputDiv = document.getElementById(\"altair-viz-191270b10e1b44799c9cc4e71cfbb29b\");\n",
       "    }\n",
       "    const paths = {\n",
       "      \"vega\": \"https://cdn.jsdelivr.net/npm//vega@5?noext\",\n",
       "      \"vega-lib\": \"https://cdn.jsdelivr.net/npm//vega-lib?noext\",\n",
       "      \"vega-lite\": \"https://cdn.jsdelivr.net/npm//vega-lite@4.8.1?noext\",\n",
       "      \"vega-embed\": \"https://cdn.jsdelivr.net/npm//vega-embed@6?noext\",\n",
       "    };\n",
       "\n",
       "    function loadScript(lib) {\n",
       "      return new Promise(function(resolve, reject) {\n",
       "        var s = document.createElement('script');\n",
       "        s.src = paths[lib];\n",
       "        s.async = true;\n",
       "        s.onload = () => resolve(paths[lib]);\n",
       "        s.onerror = () => reject(`Error loading script: ${paths[lib]}`);\n",
       "        document.getElementsByTagName(\"head\")[0].appendChild(s);\n",
       "      });\n",
       "    }\n",
       "\n",
       "    function showError(err) {\n",
       "      outputDiv.innerHTML = `<div class=\"error\" style=\"color:red;\">${err}</div>`;\n",
       "      throw err;\n",
       "    }\n",
       "\n",
       "    function displayChart(vegaEmbed) {\n",
       "      vegaEmbed(outputDiv, spec, embedOpt)\n",
       "        .catch(err => showError(`Javascript Error: ${err.message}<br>This usually means there's a typo in your chart specification. See the javascript console for the full traceback.`));\n",
       "    }\n",
       "\n",
       "    if(typeof define === \"function\" && define.amd) {\n",
       "      requirejs.config({paths});\n",
       "      require([\"vega-embed\"], displayChart, err => showError(`Error loading script: ${err.message}`));\n",
       "    } else if (typeof vegaEmbed === \"function\") {\n",
       "      displayChart(vegaEmbed);\n",
       "    } else {\n",
       "      loadScript(\"vega\")\n",
       "        .then(() => loadScript(\"vega-lite\"))\n",
       "        .then(() => loadScript(\"vega-embed\"))\n",
       "        .catch(showError)\n",
       "        .then(() => displayChart(vegaEmbed));\n",
       "    }\n",
       "  })({\"config\": {\"view\": {\"continuousWidth\": 400, \"continuousHeight\": 300}}, \"layer\": [{\"mark\": \"circle\", \"encoding\": {\"x\": {\"type\": \"quantitative\", \"field\": \"value_y\", \"title\": \"Building Materials (Mil. of $)\"}, \"y\": {\"type\": \"quantitative\", \"field\": \"value_x\", \"title\": \"Home Furnishings and Appliances (Mil. of $)\"}}, \"title\": \"Building Materials and Home Furnishings Retail Sales\"}, {\"mark\": {\"type\": \"line\", \"color\": \"#fdc086\"}, \"encoding\": {\"x\": {\"type\": \"quantitative\", \"field\": \"value_y\", \"title\": \"Building Materials (Mil. of $)\"}, \"y\": {\"type\": \"quantitative\", \"field\": \"value_x\", \"title\": \"Home Furnishings and Appliances (Mil. of $)\"}}, \"title\": \"Building Materials and Home Furnishings Retail Sales\", \"transform\": [{\"loess\": \"value_x\", \"on\": \"value_y\"}]}, {\"mark\": {\"type\": \"line\", \"color\": \"#fb8072\"}, \"encoding\": {\"x\": {\"type\": \"quantitative\", \"field\": \"value_y\", \"title\": \"Building Materials (Mil. of $)\"}, \"y\": {\"type\": \"quantitative\", \"field\": \"value_x\", \"title\": \"Home Furnishings and Appliances (Mil. of $)\"}}, \"title\": \"Building Materials and Home Furnishings Retail Sales\", \"transform\": [{\"on\": \"value_y\", \"regression\": \"value_x\", \"method\": \"poly\", \"order\": 3}]}], \"data\": {\"name\": \"data-c550207d56d8748ec0c26a010ef4b8cd\"}, \"$schema\": \"https://vega.github.io/schema/vega-lite/v4.8.1.json\", \"datasets\": {\"data-c550207d56d8748ec0c26a010ef4b8cd\": [{\"series_id_x\": \"MRTSSM4423XUSS\", \"date\": \"1992-01-01T00:00:00\", \"value_x\": 8128, \"series_id_y\": \"MRTSSM444USS\", \"value_y\": 10845}, {\"series_id_x\": \"MRTSSM4423XUSS\", \"date\": \"1992-02-01T00:00:00\", \"value_x\": 8246, \"series_id_y\": \"MRTSSM444USS\", \"value_y\": 10904}, {\"series_id_x\": \"MRTSSM4423XUSS\", \"date\": \"1992-03-01T00:00:00\", \"value_x\": 8246, \"series_id_y\": \"MRTSSM444USS\", \"value_y\": 10986}, {\"series_id_x\": \"MRTSSM4423XUSS\", \"date\": \"1992-04-01T00:00:00\", \"value_x\": 8317, \"series_id_y\": \"MRTSSM444USS\", \"value_y\": 10738}, {\"series_id_x\": \"MRTSSM4423XUSS\", \"date\": \"1992-05-01T00:00:00\", \"value_x\": 8312, \"series_id_y\": \"MRTSSM444USS\", \"value_y\": 10777}, {\"series_id_x\": \"MRTSSM4423XUSS\", \"date\": \"1992-06-01T00:00:00\", \"value_x\": 8393, \"series_id_y\": \"MRTSSM444USS\", \"value_y\": 10790}, {\"series_id_x\": \"MRTSSM4423XUSS\", \"date\": \"1992-07-01T00:00:00\", \"value_x\": 8449, \"series_id_y\": \"MRTSSM444USS\", \"value_y\": 10785}, {\"series_id_x\": \"MRTSSM4423XUSS\", \"date\": \"1992-08-01T00:00:00\", \"value_x\": 8420, \"series_id_y\": \"MRTSSM444USS\", \"value_y\": 10915}, {\"series_id_x\": \"MRTSSM4423XUSS\", \"date\": \"1992-09-01T00:00:00\", \"value_x\": 8443, \"series_id_y\": \"MRTSSM444USS\", \"value_y\": 10980}, {\"series_id_x\": \"MRTSSM4423XUSS\", \"date\": \"1992-10-01T00:00:00\", \"value_x\": 8485, \"series_id_y\": \"MRTSSM444USS\", \"value_y\": 10971}, {\"series_id_x\": \"MRTSSM4423XUSS\", \"date\": \"1992-11-01T00:00:00\", \"value_x\": 8486, \"series_id_y\": \"MRTSSM444USS\", \"value_y\": 10873}, {\"series_id_x\": \"MRTSSM4423XUSS\", \"date\": \"1992-12-01T00:00:00\", \"value_x\": 8676, \"series_id_y\": \"MRTSSM444USS\", \"value_y\": 11082}, {\"series_id_x\": \"MRTSSM4423XUSS\", \"date\": \"1993-01-01T00:00:00\", \"value_x\": 9032, \"series_id_y\": \"MRTSSM444USS\", \"value_y\": 11333}, {\"series_id_x\": \"MRTSSM4423XUSS\", \"date\": \"1993-02-01T00:00:00\", \"value_x\": 8850, \"series_id_y\": \"MRTSSM444USS\", \"value_y\": 11410}, {\"series_id_x\": \"MRTSSM4423XUSS\", \"date\": \"1993-03-01T00:00:00\", \"value_x\": 8846, \"series_id_y\": \"MRTSSM444USS\", \"value_y\": 11184}, {\"series_id_x\": \"MRTSSM4423XUSS\", \"date\": \"1993-04-01T00:00:00\", \"value_x\": 9024, \"series_id_y\": \"MRTSSM444USS\", \"value_y\": 11417}, {\"series_id_x\": \"MRTSSM4423XUSS\", \"date\": \"1993-05-01T00:00:00\", \"value_x\": 9127, \"series_id_y\": \"MRTSSM444USS\", \"value_y\": 11720}, {\"series_id_x\": \"MRTSSM4423XUSS\", \"date\": \"1993-06-01T00:00:00\", \"value_x\": 9176, \"series_id_y\": \"MRTSSM444USS\", \"value_y\": 11669}, {\"series_id_x\": \"MRTSSM4423XUSS\", \"date\": \"1993-07-01T00:00:00\", \"value_x\": 9282, \"series_id_y\": \"MRTSSM444USS\", \"value_y\": 11781}, {\"series_id_x\": \"MRTSSM4423XUSS\", \"date\": \"1993-08-01T00:00:00\", \"value_x\": 9312, \"series_id_y\": \"MRTSSM444USS\", \"value_y\": 11875}, {\"series_id_x\": \"MRTSSM4423XUSS\", \"date\": \"1993-09-01T00:00:00\", \"value_x\": 9369, \"series_id_y\": \"MRTSSM444USS\", \"value_y\": 11786}, {\"series_id_x\": \"MRTSSM4423XUSS\", \"date\": \"1993-10-01T00:00:00\", \"value_x\": 9373, \"series_id_y\": \"MRTSSM444USS\", \"value_y\": 11908}, {\"series_id_x\": \"MRTSSM4423XUSS\", \"date\": \"1993-11-01T00:00:00\", \"value_x\": 9434, \"series_id_y\": \"MRTSSM444USS\", \"value_y\": 12297}, {\"series_id_x\": \"MRTSSM4423XUSS\", \"date\": \"1993-12-01T00:00:00\", \"value_x\": 9487, \"series_id_y\": \"MRTSSM444USS\", \"value_y\": 12583}, {\"series_id_x\": \"MRTSSM4423XUSS\", \"date\": \"1994-01-01T00:00:00\", \"value_x\": 9408, \"series_id_y\": \"MRTSSM444USS\", \"value_y\": 12316}, {\"series_id_x\": \"MRTSSM4423XUSS\", \"date\": \"1994-02-01T00:00:00\", \"value_x\": 9724, \"series_id_y\": \"MRTSSM444USS\", \"value_y\": 12233}, {\"series_id_x\": \"MRTSSM4423XUSS\", \"date\": \"1994-03-01T00:00:00\", \"value_x\": 9962, \"series_id_y\": \"MRTSSM444USS\", \"value_y\": 12767}, {\"series_id_x\": \"MRTSSM4423XUSS\", \"date\": \"1994-04-01T00:00:00\", \"value_x\": 10006, \"series_id_y\": \"MRTSSM444USS\", \"value_y\": 13076}, {\"series_id_x\": \"MRTSSM4423XUSS\", \"date\": \"1994-05-01T00:00:00\", \"value_x\": 10156, \"series_id_y\": \"MRTSSM444USS\", \"value_y\": 13033}, {\"series_id_x\": \"MRTSSM4423XUSS\", \"date\": \"1994-06-01T00:00:00\", \"value_x\": 10331, \"series_id_y\": \"MRTSSM444USS\", \"value_y\": 12987}, {\"series_id_x\": \"MRTSSM4423XUSS\", \"date\": \"1994-07-01T00:00:00\", \"value_x\": 10376, \"series_id_y\": \"MRTSSM444USS\", \"value_y\": 13130}, {\"series_id_x\": \"MRTSSM4423XUSS\", \"date\": \"1994-08-01T00:00:00\", \"value_x\": 10576, \"series_id_y\": \"MRTSSM444USS\", \"value_y\": 13224}, {\"series_id_x\": \"MRTSSM4423XUSS\", \"date\": \"1994-09-01T00:00:00\", \"value_x\": 10685, \"series_id_y\": \"MRTSSM444USS\", \"value_y\": 13375}, {\"series_id_x\": \"MRTSSM4423XUSS\", \"date\": \"1994-10-01T00:00:00\", \"value_x\": 10895, \"series_id_y\": \"MRTSSM444USS\", \"value_y\": 13550}, {\"series_id_x\": \"MRTSSM4423XUSS\", \"date\": \"1994-11-01T00:00:00\", \"value_x\": 10952, \"series_id_y\": \"MRTSSM444USS\", \"value_y\": 13384}, {\"series_id_x\": \"MRTSSM4423XUSS\", \"date\": \"1994-12-01T00:00:00\", \"value_x\": 11088, \"series_id_y\": \"MRTSSM444USS\", \"value_y\": 13981}, {\"series_id_x\": \"MRTSSM4423XUSS\", \"date\": \"1995-01-01T00:00:00\", \"value_x\": 11157, \"series_id_y\": \"MRTSSM444USS\", \"value_y\": 13738}, {\"series_id_x\": \"MRTSSM4423XUSS\", \"date\": \"1995-02-01T00:00:00\", \"value_x\": 10908, \"series_id_y\": \"MRTSSM444USS\", \"value_y\": 13613}, {\"series_id_x\": \"MRTSSM4423XUSS\", \"date\": \"1995-03-01T00:00:00\", \"value_x\": 10979, \"series_id_y\": \"MRTSSM444USS\", \"value_y\": 13587}, {\"series_id_x\": \"MRTSSM4423XUSS\", \"date\": \"1995-04-01T00:00:00\", \"value_x\": 10914, \"series_id_y\": \"MRTSSM444USS\", \"value_y\": 13415}, {\"series_id_x\": \"MRTSSM4423XUSS\", \"date\": \"1995-05-01T00:00:00\", \"value_x\": 11172, \"series_id_y\": \"MRTSSM444USS\", \"value_y\": 13370}, {\"series_id_x\": \"MRTSSM4423XUSS\", \"date\": \"1995-06-01T00:00:00\", \"value_x\": 11217, \"series_id_y\": \"MRTSSM444USS\", \"value_y\": 13548}, {\"series_id_x\": \"MRTSSM4423XUSS\", \"date\": \"1995-07-01T00:00:00\", \"value_x\": 11283, \"series_id_y\": \"MRTSSM444USS\", \"value_y\": 13645}, {\"series_id_x\": \"MRTSSM4423XUSS\", \"date\": \"1995-08-01T00:00:00\", \"value_x\": 11463, \"series_id_y\": \"MRTSSM444USS\", \"value_y\": 13683}, {\"series_id_x\": \"MRTSSM4423XUSS\", \"date\": \"1995-09-01T00:00:00\", \"value_x\": 11548, \"series_id_y\": \"MRTSSM444USS\", \"value_y\": 13837}, {\"series_id_x\": \"MRTSSM4423XUSS\", \"date\": \"1995-10-01T00:00:00\", \"value_x\": 11641, \"series_id_y\": \"MRTSSM444USS\", \"value_y\": 13932}, {\"series_id_x\": \"MRTSSM4423XUSS\", \"date\": \"1995-11-01T00:00:00\", \"value_x\": 11779, \"series_id_y\": \"MRTSSM444USS\", \"value_y\": 14092}, {\"series_id_x\": \"MRTSSM4423XUSS\", \"date\": \"1995-12-01T00:00:00\", \"value_x\": 11726, \"series_id_y\": \"MRTSSM444USS\", \"value_y\": 14683}, {\"series_id_x\": \"MRTSSM4423XUSS\", \"date\": \"1996-01-01T00:00:00\", \"value_x\": 11493, \"series_id_y\": \"MRTSSM444USS\", \"value_y\": 14023}, {\"series_id_x\": \"MRTSSM4423XUSS\", \"date\": \"1996-02-01T00:00:00\", \"value_x\": 11594, \"series_id_y\": \"MRTSSM444USS\", \"value_y\": 14036}, {\"series_id_x\": \"MRTSSM4423XUSS\", \"date\": \"1996-03-01T00:00:00\", \"value_x\": 11931, \"series_id_y\": \"MRTSSM444USS\", \"value_y\": 14153}, {\"series_id_x\": \"MRTSSM4423XUSS\", \"date\": \"1996-04-01T00:00:00\", \"value_x\": 11968, \"series_id_y\": \"MRTSSM444USS\", \"value_y\": 14340}, {\"series_id_x\": \"MRTSSM4423XUSS\", \"date\": \"1996-05-01T00:00:00\", \"value_x\": 12014, \"series_id_y\": \"MRTSSM444USS\", \"value_y\": 14450}, {\"series_id_x\": \"MRTSSM4423XUSS\", \"date\": \"1996-06-01T00:00:00\", \"value_x\": 12012, \"series_id_y\": \"MRTSSM444USS\", \"value_y\": 14902}, {\"series_id_x\": \"MRTSSM4423XUSS\", \"date\": \"1996-07-01T00:00:00\", \"value_x\": 11930, \"series_id_y\": \"MRTSSM444USS\", \"value_y\": 14826}, {\"series_id_x\": \"MRTSSM4423XUSS\", \"date\": \"1996-08-01T00:00:00\", \"value_x\": 11995, \"series_id_y\": \"MRTSSM444USS\", \"value_y\": 14981}, {\"series_id_x\": \"MRTSSM4423XUSS\", \"date\": \"1996-09-01T00:00:00\", \"value_x\": 12200, \"series_id_y\": \"MRTSSM444USS\", \"value_y\": 14989}, {\"series_id_x\": \"MRTSSM4423XUSS\", \"date\": \"1996-10-01T00:00:00\", \"value_x\": 12207, \"series_id_y\": \"MRTSSM444USS\", \"value_y\": 15040}, {\"series_id_x\": \"MRTSSM4423XUSS\", \"date\": \"1996-11-01T00:00:00\", \"value_x\": 12124, \"series_id_y\": \"MRTSSM444USS\", \"value_y\": 15264}, {\"series_id_x\": \"MRTSSM4423XUSS\", \"date\": \"1996-12-01T00:00:00\", \"value_x\": 12051, \"series_id_y\": \"MRTSSM444USS\", \"value_y\": 14980}, {\"series_id_x\": \"MRTSSM4423XUSS\", \"date\": \"1997-01-01T00:00:00\", \"value_x\": 11951, \"series_id_y\": \"MRTSSM444USS\", \"value_y\": 15197}, {\"series_id_x\": \"MRTSSM4423XUSS\", \"date\": \"1997-02-01T00:00:00\", \"value_x\": 12217, \"series_id_y\": \"MRTSSM444USS\", \"value_y\": 15561}, {\"series_id_x\": \"MRTSSM4423XUSS\", \"date\": \"1997-03-01T00:00:00\", \"value_x\": 12276, \"series_id_y\": \"MRTSSM444USS\", \"value_y\": 15862}, {\"series_id_x\": \"MRTSSM4423XUSS\", \"date\": \"1997-04-01T00:00:00\", \"value_x\": 12424, \"series_id_y\": \"MRTSSM444USS\", \"value_y\": 15709}, {\"series_id_x\": \"MRTSSM4423XUSS\", \"date\": \"1997-05-01T00:00:00\", \"value_x\": 12404, \"series_id_y\": \"MRTSSM444USS\", \"value_y\": 15805}, {\"series_id_x\": \"MRTSSM4423XUSS\", \"date\": \"1997-06-01T00:00:00\", \"value_x\": 12474, \"series_id_y\": \"MRTSSM444USS\", \"value_y\": 15918}, {\"series_id_x\": \"MRTSSM4423XUSS\", \"date\": \"1997-07-01T00:00:00\", \"value_x\": 12564, \"series_id_y\": \"MRTSSM444USS\", \"value_y\": 15973}, {\"series_id_x\": \"MRTSSM4423XUSS\", \"date\": \"1997-08-01T00:00:00\", \"value_x\": 12687, \"series_id_y\": \"MRTSSM444USS\", \"value_y\": 16027}, {\"series_id_x\": \"MRTSSM4423XUSS\", \"date\": \"1997-09-01T00:00:00\", \"value_x\": 12721, \"series_id_y\": \"MRTSSM444USS\", \"value_y\": 16283}, {\"series_id_x\": \"MRTSSM4423XUSS\", \"date\": \"1997-10-01T00:00:00\", \"value_x\": 12726, \"series_id_y\": \"MRTSSM444USS\", \"value_y\": 16232}, {\"series_id_x\": \"MRTSSM4423XUSS\", \"date\": \"1997-11-01T00:00:00\", \"value_x\": 12895, \"series_id_y\": \"MRTSSM444USS\", \"value_y\": 16158}, {\"series_id_x\": \"MRTSSM4423XUSS\", \"date\": \"1997-12-01T00:00:00\", \"value_x\": 12949, \"series_id_y\": \"MRTSSM444USS\", \"value_y\": 16356}, {\"series_id_x\": \"MRTSSM4423XUSS\", \"date\": \"1998-01-01T00:00:00\", \"value_x\": 13153, \"series_id_y\": \"MRTSSM444USS\", \"value_y\": 16436}, {\"series_id_x\": \"MRTSSM4423XUSS\", \"date\": \"1998-02-01T00:00:00\", \"value_x\": 13139, \"series_id_y\": \"MRTSSM444USS\", \"value_y\": 16462}, {\"series_id_x\": \"MRTSSM4423XUSS\", \"date\": \"1998-03-01T00:00:00\", \"value_x\": 13128, \"series_id_y\": \"MRTSSM444USS\", \"value_y\": 16511}, {\"series_id_x\": \"MRTSSM4423XUSS\", \"date\": \"1998-04-01T00:00:00\", \"value_x\": 13135, \"series_id_y\": \"MRTSSM444USS\", \"value_y\": 16716}, {\"series_id_x\": \"MRTSSM4423XUSS\", \"date\": \"1998-05-01T00:00:00\", \"value_x\": 13188, \"series_id_y\": \"MRTSSM444USS\", \"value_y\": 16741}, {\"series_id_x\": \"MRTSSM4423XUSS\", \"date\": \"1998-06-01T00:00:00\", \"value_x\": 13347, \"series_id_y\": \"MRTSSM444USS\", \"value_y\": 16662}, {\"series_id_x\": \"MRTSSM4423XUSS\", \"date\": \"1998-07-01T00:00:00\", \"value_x\": 13407, \"series_id_y\": \"MRTSSM444USS\", \"value_y\": 16819}, {\"series_id_x\": \"MRTSSM4423XUSS\", \"date\": \"1998-08-01T00:00:00\", \"value_x\": 13491, \"series_id_y\": \"MRTSSM444USS\", \"value_y\": 16828}, {\"series_id_x\": \"MRTSSM4423XUSS\", \"date\": \"1998-09-01T00:00:00\", \"value_x\": 13373, \"series_id_y\": \"MRTSSM444USS\", \"value_y\": 16972}, {\"series_id_x\": \"MRTSSM4423XUSS\", \"date\": \"1998-10-01T00:00:00\", \"value_x\": 13444, \"series_id_y\": \"MRTSSM444USS\", \"value_y\": 17209}, {\"series_id_x\": \"MRTSSM4423XUSS\", \"date\": \"1998-11-01T00:00:00\", \"value_x\": 13666, \"series_id_y\": \"MRTSSM444USS\", \"value_y\": 17341}, {\"series_id_x\": \"MRTSSM4423XUSS\", \"date\": \"1998-12-01T00:00:00\", \"value_x\": 13651, \"series_id_y\": \"MRTSSM444USS\", \"value_y\": 17702}, {\"series_id_x\": \"MRTSSM4423XUSS\", \"date\": \"1999-01-01T00:00:00\", \"value_x\": 13617, \"series_id_y\": \"MRTSSM444USS\", \"value_y\": 17732}, {\"series_id_x\": \"MRTSSM4423XUSS\", \"date\": \"1999-02-01T00:00:00\", \"value_x\": 13791, \"series_id_y\": \"MRTSSM444USS\", \"value_y\": 17943}, {\"series_id_x\": \"MRTSSM4423XUSS\", \"date\": \"1999-03-01T00:00:00\", \"value_x\": 13947, \"series_id_y\": \"MRTSSM444USS\", \"value_y\": 17760}, {\"series_id_x\": \"MRTSSM4423XUSS\", \"date\": \"1999-04-01T00:00:00\", \"value_x\": 13989, \"series_id_y\": \"MRTSSM444USS\", \"value_y\": 17791}, {\"series_id_x\": \"MRTSSM4423XUSS\", \"date\": \"1999-05-01T00:00:00\", \"value_x\": 14114, \"series_id_y\": \"MRTSSM444USS\", \"value_y\": 17914}, {\"series_id_x\": \"MRTSSM4423XUSS\", \"date\": \"1999-06-01T00:00:00\", \"value_x\": 14272, \"series_id_y\": \"MRTSSM444USS\", \"value_y\": 17969}, {\"series_id_x\": \"MRTSSM4423XUSS\", \"date\": \"1999-07-01T00:00:00\", \"value_x\": 14332, \"series_id_y\": \"MRTSSM444USS\", \"value_y\": 18183}, {\"series_id_x\": \"MRTSSM4423XUSS\", \"date\": \"1999-08-01T00:00:00\", \"value_x\": 14428, \"series_id_y\": \"MRTSSM444USS\", \"value_y\": 18341}, {\"series_id_x\": \"MRTSSM4423XUSS\", \"date\": \"1999-09-01T00:00:00\", \"value_x\": 14702, \"series_id_y\": \"MRTSSM444USS\", \"value_y\": 18175}, {\"series_id_x\": \"MRTSSM4423XUSS\", \"date\": \"1999-10-01T00:00:00\", \"value_x\": 14724, \"series_id_y\": \"MRTSSM444USS\", \"value_y\": 18606}, {\"series_id_x\": \"MRTSSM4423XUSS\", \"date\": \"1999-11-01T00:00:00\", \"value_x\": 14622, \"series_id_y\": \"MRTSSM444USS\", \"value_y\": 18944}, {\"series_id_x\": \"MRTSSM4423XUSS\", \"date\": \"1999-12-01T00:00:00\", \"value_x\": 14744, \"series_id_y\": \"MRTSSM444USS\", \"value_y\": 19125}, {\"series_id_x\": \"MRTSSM4423XUSS\", \"date\": \"2000-01-01T00:00:00\", \"value_x\": 15089, \"series_id_y\": \"MRTSSM444USS\", \"value_y\": 19613}, {\"series_id_x\": \"MRTSSM4423XUSS\", \"date\": \"2000-02-01T00:00:00\", \"value_x\": 15222, \"series_id_y\": \"MRTSSM444USS\", \"value_y\": 19193}, {\"series_id_x\": \"MRTSSM4423XUSS\", \"date\": \"2000-03-01T00:00:00\", \"value_x\": 15251, \"series_id_y\": \"MRTSSM444USS\", \"value_y\": 20175}, {\"series_id_x\": \"MRTSSM4423XUSS\", \"date\": \"2000-04-01T00:00:00\", \"value_x\": 15542, \"series_id_y\": \"MRTSSM444USS\", \"value_y\": 18986}, {\"series_id_x\": \"MRTSSM4423XUSS\", \"date\": \"2000-05-01T00:00:00\", \"value_x\": 15284, \"series_id_y\": \"MRTSSM444USS\", \"value_y\": 18941}, {\"series_id_x\": \"MRTSSM4423XUSS\", \"date\": \"2000-06-01T00:00:00\", \"value_x\": 15028, \"series_id_y\": \"MRTSSM444USS\", \"value_y\": 18878}, {\"series_id_x\": \"MRTSSM4423XUSS\", \"date\": \"2000-07-01T00:00:00\", \"value_x\": 15145, \"series_id_y\": \"MRTSSM444USS\", \"value_y\": 18982}, {\"series_id_x\": \"MRTSSM4423XUSS\", \"date\": \"2000-08-01T00:00:00\", \"value_x\": 15122, \"series_id_y\": \"MRTSSM444USS\", \"value_y\": 18951}, {\"series_id_x\": \"MRTSSM4423XUSS\", \"date\": \"2000-09-01T00:00:00\", \"value_x\": 15253, \"series_id_y\": \"MRTSSM444USS\", \"value_y\": 18926}, {\"series_id_x\": \"MRTSSM4423XUSS\", \"date\": \"2000-10-01T00:00:00\", \"value_x\": 15153, \"series_id_y\": \"MRTSSM444USS\", \"value_y\": 18965}, {\"series_id_x\": \"MRTSSM4423XUSS\", \"date\": \"2000-11-01T00:00:00\", \"value_x\": 14972, \"series_id_y\": \"MRTSSM444USS\", \"value_y\": 18689}, {\"series_id_x\": \"MRTSSM4423XUSS\", \"date\": \"2000-12-01T00:00:00\", \"value_x\": 14506, \"series_id_y\": \"MRTSSM444USS\", \"value_y\": 19356}, {\"series_id_x\": \"MRTSSM4423XUSS\", \"date\": \"2001-01-01T00:00:00\", \"value_x\": 15140, \"series_id_y\": \"MRTSSM444USS\", \"value_y\": 19248}, {\"series_id_x\": \"MRTSSM4423XUSS\", \"date\": \"2001-02-01T00:00:00\", \"value_x\": 14945, \"series_id_y\": \"MRTSSM444USS\", \"value_y\": 19698}, {\"series_id_x\": \"MRTSSM4423XUSS\", \"date\": \"2001-03-01T00:00:00\", \"value_x\": 14816, \"series_id_y\": \"MRTSSM444USS\", \"value_y\": 19562}, {\"series_id_x\": \"MRTSSM4423XUSS\", \"date\": \"2001-04-01T00:00:00\", \"value_x\": 14772, \"series_id_y\": \"MRTSSM444USS\", \"value_y\": 20373}, {\"series_id_x\": \"MRTSSM4423XUSS\", \"date\": \"2001-05-01T00:00:00\", \"value_x\": 14694, \"series_id_y\": \"MRTSSM444USS\", \"value_y\": 20147}, {\"series_id_x\": \"MRTSSM4423XUSS\", \"date\": \"2001-06-01T00:00:00\", \"value_x\": 14859, \"series_id_y\": \"MRTSSM444USS\", \"value_y\": 19900}, {\"series_id_x\": \"MRTSSM4423XUSS\", \"date\": \"2001-07-01T00:00:00\", \"value_x\": 14969, \"series_id_y\": \"MRTSSM444USS\", \"value_y\": 19838}, {\"series_id_x\": \"MRTSSM4423XUSS\", \"date\": \"2001-08-01T00:00:00\", \"value_x\": 14904, \"series_id_y\": \"MRTSSM444USS\", \"value_y\": 19920}, {\"series_id_x\": \"MRTSSM4423XUSS\", \"date\": \"2001-09-01T00:00:00\", \"value_x\": 14560, \"series_id_y\": \"MRTSSM444USS\", \"value_y\": 19664}, {\"series_id_x\": \"MRTSSM4423XUSS\", \"date\": \"2001-10-01T00:00:00\", \"value_x\": 14780, \"series_id_y\": \"MRTSSM444USS\", \"value_y\": 20054}, {\"series_id_x\": \"MRTSSM4423XUSS\", \"date\": \"2001-11-01T00:00:00\", \"value_x\": 15356, \"series_id_y\": \"MRTSSM444USS\", \"value_y\": 19982}, {\"series_id_x\": \"MRTSSM4423XUSS\", \"date\": \"2001-12-01T00:00:00\", \"value_x\": 15694, \"series_id_y\": \"MRTSSM444USS\", \"value_y\": 20120}, {\"series_id_x\": \"MRTSSM4423XUSS\", \"date\": \"2002-01-01T00:00:00\", \"value_x\": 15451, \"series_id_y\": \"MRTSSM444USS\", \"value_y\": 20359}, {\"series_id_x\": \"MRTSSM4423XUSS\", \"date\": \"2002-02-01T00:00:00\", \"value_x\": 15575, \"series_id_y\": \"MRTSSM444USS\", \"value_y\": 20515}, {\"series_id_x\": \"MRTSSM4423XUSS\", \"date\": \"2002-03-01T00:00:00\", \"value_x\": 15626, \"series_id_y\": \"MRTSSM444USS\", \"value_y\": 20370}, {\"series_id_x\": \"MRTSSM4423XUSS\", \"date\": \"2002-04-01T00:00:00\", \"value_x\": 15490, \"series_id_y\": \"MRTSSM444USS\", \"value_y\": 21274}, {\"series_id_x\": \"MRTSSM4423XUSS\", \"date\": \"2002-05-01T00:00:00\", \"value_x\": 15637, \"series_id_y\": \"MRTSSM444USS\", \"value_y\": 20874}, {\"series_id_x\": \"MRTSSM4423XUSS\", \"date\": \"2002-06-01T00:00:00\", \"value_x\": 15487, \"series_id_y\": \"MRTSSM444USS\", \"value_y\": 20725}, {\"series_id_x\": \"MRTSSM4423XUSS\", \"date\": \"2002-07-01T00:00:00\", \"value_x\": 15284, \"series_id_y\": \"MRTSSM444USS\", \"value_y\": 20674}, {\"series_id_x\": \"MRTSSM4423XUSS\", \"date\": \"2002-08-01T00:00:00\", \"value_x\": 15357, \"series_id_y\": \"MRTSSM444USS\", \"value_y\": 20683}, {\"series_id_x\": \"MRTSSM4423XUSS\", \"date\": \"2002-09-01T00:00:00\", \"value_x\": 15343, \"series_id_y\": \"MRTSSM444USS\", \"value_y\": 20732}, {\"series_id_x\": \"MRTSSM4423XUSS\", \"date\": \"2002-10-01T00:00:00\", \"value_x\": 15311, \"series_id_y\": \"MRTSSM444USS\", \"value_y\": 20603}, {\"series_id_x\": \"MRTSSM4423XUSS\", \"date\": \"2002-11-01T00:00:00\", \"value_x\": 15508, \"series_id_y\": \"MRTSSM444USS\", \"value_y\": 20969}, {\"series_id_x\": \"MRTSSM4423XUSS\", \"date\": \"2002-12-01T00:00:00\", \"value_x\": 15587, \"series_id_y\": \"MRTSSM444USS\", \"value_y\": 20415}, {\"series_id_x\": \"MRTSSM4423XUSS\", \"date\": \"2003-01-01T00:00:00\", \"value_x\": 15263, \"series_id_y\": \"MRTSSM444USS\", \"value_y\": 21270}, {\"series_id_x\": \"MRTSSM4423XUSS\", \"date\": \"2003-02-01T00:00:00\", \"value_x\": 14855, \"series_id_y\": \"MRTSSM444USS\", \"value_y\": 20041}, {\"series_id_x\": \"MRTSSM4423XUSS\", \"date\": \"2003-03-01T00:00:00\", \"value_x\": 15218, \"series_id_y\": \"MRTSSM444USS\", \"value_y\": 21326}, {\"series_id_x\": \"MRTSSM4423XUSS\", \"date\": \"2003-04-01T00:00:00\", \"value_x\": 15335, \"series_id_y\": \"MRTSSM444USS\", \"value_y\": 21139}, {\"series_id_x\": \"MRTSSM4423XUSS\", \"date\": \"2003-05-01T00:00:00\", \"value_x\": 15625, \"series_id_y\": \"MRTSSM444USS\", \"value_y\": 21328}, {\"series_id_x\": \"MRTSSM4423XUSS\", \"date\": \"2003-06-01T00:00:00\", \"value_x\": 15734, \"series_id_y\": \"MRTSSM444USS\", \"value_y\": 22003}, {\"series_id_x\": \"MRTSSM4423XUSS\", \"date\": \"2003-07-01T00:00:00\", \"value_x\": 15846, \"series_id_y\": \"MRTSSM444USS\", \"value_y\": 22372}, {\"series_id_x\": \"MRTSSM4423XUSS\", \"date\": \"2003-08-01T00:00:00\", \"value_x\": 16070, \"series_id_y\": \"MRTSSM444USS\", \"value_y\": 22489}, {\"series_id_x\": \"MRTSSM4423XUSS\", \"date\": \"2003-09-01T00:00:00\", \"value_x\": 16123, \"series_id_y\": \"MRTSSM444USS\", \"value_y\": 22630}, {\"series_id_x\": \"MRTSSM4423XUSS\", \"date\": \"2003-10-01T00:00:00\", \"value_x\": 16228, \"series_id_y\": \"MRTSSM444USS\", \"value_y\": 22869}, {\"series_id_x\": \"MRTSSM4423XUSS\", \"date\": \"2003-11-01T00:00:00\", \"value_x\": 16388, \"series_id_y\": \"MRTSSM444USS\", \"value_y\": 22864}, {\"series_id_x\": \"MRTSSM4423XUSS\", \"date\": \"2003-12-01T00:00:00\", \"value_x\": 16439, \"series_id_y\": \"MRTSSM444USS\", \"value_y\": 22748}, {\"series_id_x\": \"MRTSSM4423XUSS\", \"date\": \"2004-01-01T00:00:00\", \"value_x\": 16411, \"series_id_y\": \"MRTSSM444USS\", \"value_y\": 22637}, {\"series_id_x\": \"MRTSSM4423XUSS\", \"date\": \"2004-02-01T00:00:00\", \"value_x\": 16455, \"series_id_y\": \"MRTSSM444USS\", \"value_y\": 22727}, {\"series_id_x\": \"MRTSSM4423XUSS\", \"date\": \"2004-03-01T00:00:00\", \"value_x\": 16702, \"series_id_y\": \"MRTSSM444USS\", \"value_y\": 24992}, {\"series_id_x\": \"MRTSSM4423XUSS\", \"date\": \"2004-04-01T00:00:00\", \"value_x\": 16737, \"series_id_y\": \"MRTSSM444USS\", \"value_y\": 24565}, {\"series_id_x\": \"MRTSSM4423XUSS\", \"date\": \"2004-05-01T00:00:00\", \"value_x\": 16630, \"series_id_y\": \"MRTSSM444USS\", \"value_y\": 24420}, {\"series_id_x\": \"MRTSSM4423XUSS\", \"date\": \"2004-06-01T00:00:00\", \"value_x\": 16869, \"series_id_y\": \"MRTSSM444USS\", \"value_y\": 24622}, {\"series_id_x\": \"MRTSSM4423XUSS\", \"date\": \"2004-07-01T00:00:00\", \"value_x\": 17205, \"series_id_y\": \"MRTSSM444USS\", \"value_y\": 24538}, {\"series_id_x\": \"MRTSSM4423XUSS\", \"date\": \"2004-08-01T00:00:00\", \"value_x\": 17010, \"series_id_y\": \"MRTSSM444USS\", \"value_y\": 24713}, {\"series_id_x\": \"MRTSSM4423XUSS\", \"date\": \"2004-09-01T00:00:00\", \"value_x\": 17026, \"series_id_y\": \"MRTSSM444USS\", \"value_y\": 25045}, {\"series_id_x\": \"MRTSSM4423XUSS\", \"date\": \"2004-10-01T00:00:00\", \"value_x\": 17300, \"series_id_y\": \"MRTSSM444USS\", \"value_y\": 24842}, {\"series_id_x\": \"MRTSSM4423XUSS\", \"date\": \"2004-11-01T00:00:00\", \"value_x\": 17201, \"series_id_y\": \"MRTSSM444USS\", \"value_y\": 24974}, {\"series_id_x\": \"MRTSSM4423XUSS\", \"date\": \"2004-12-01T00:00:00\", \"value_x\": 17418, \"series_id_y\": \"MRTSSM444USS\", \"value_y\": 25679}, {\"series_id_x\": \"MRTSSM4423XUSS\", \"date\": \"2005-01-01T00:00:00\", \"value_x\": 17411, \"series_id_y\": \"MRTSSM444USS\", \"value_y\": 26126}, {\"series_id_x\": \"MRTSSM4423XUSS\", \"date\": \"2005-02-01T00:00:00\", \"value_x\": 17673, \"series_id_y\": \"MRTSSM444USS\", \"value_y\": 25797}, {\"series_id_x\": \"MRTSSM4423XUSS\", \"date\": \"2005-03-01T00:00:00\", \"value_x\": 17624, \"series_id_y\": \"MRTSSM444USS\", \"value_y\": 26219}, {\"series_id_x\": \"MRTSSM4423XUSS\", \"date\": \"2005-04-01T00:00:00\", \"value_x\": 17814, \"series_id_y\": \"MRTSSM444USS\", \"value_y\": 26520}, {\"series_id_x\": \"MRTSSM4423XUSS\", \"date\": \"2005-05-01T00:00:00\", \"value_x\": 17738, \"series_id_y\": \"MRTSSM444USS\", \"value_y\": 26510}, {\"series_id_x\": \"MRTSSM4423XUSS\", \"date\": \"2005-06-01T00:00:00\", \"value_x\": 17921, \"series_id_y\": \"MRTSSM444USS\", \"value_y\": 26569}, {\"series_id_x\": \"MRTSSM4423XUSS\", \"date\": \"2005-07-01T00:00:00\", \"value_x\": 17961, \"series_id_y\": \"MRTSSM444USS\", \"value_y\": 26538}, {\"series_id_x\": \"MRTSSM4423XUSS\", \"date\": \"2005-08-01T00:00:00\", \"value_x\": 18061, \"series_id_y\": \"MRTSSM444USS\", \"value_y\": 26814}, {\"series_id_x\": \"MRTSSM4423XUSS\", \"date\": \"2005-09-01T00:00:00\", \"value_x\": 18199, \"series_id_y\": \"MRTSSM444USS\", \"value_y\": 27111}, {\"series_id_x\": \"MRTSSM4423XUSS\", \"date\": \"2005-10-01T00:00:00\", \"value_x\": 18362, \"series_id_y\": \"MRTSSM444USS\", \"value_y\": 27664}, {\"series_id_x\": \"MRTSSM4423XUSS\", \"date\": \"2005-11-01T00:00:00\", \"value_x\": 18284, \"series_id_y\": \"MRTSSM444USS\", \"value_y\": 27674}, {\"series_id_x\": \"MRTSSM4423XUSS\", \"date\": \"2005-12-01T00:00:00\", \"value_x\": 18149, \"series_id_y\": \"MRTSSM444USS\", \"value_y\": 27324}, {\"series_id_x\": \"MRTSSM4423XUSS\", \"date\": \"2006-01-01T00:00:00\", \"value_x\": 18956, \"series_id_y\": \"MRTSSM444USS\", \"value_y\": 29686}, {\"series_id_x\": \"MRTSSM4423XUSS\", \"date\": \"2006-02-01T00:00:00\", \"value_x\": 18540, \"series_id_y\": \"MRTSSM444USS\", \"value_y\": 29479}, {\"series_id_x\": \"MRTSSM4423XUSS\", \"date\": \"2006-03-01T00:00:00\", \"value_x\": 18616, \"series_id_y\": \"MRTSSM444USS\", \"value_y\": 29289}, {\"series_id_x\": \"MRTSSM4423XUSS\", \"date\": \"2006-04-01T00:00:00\", \"value_x\": 18567, \"series_id_y\": \"MRTSSM444USS\", \"value_y\": 28905}, {\"series_id_x\": \"MRTSSM4423XUSS\", \"date\": \"2006-05-01T00:00:00\", \"value_x\": 18500, \"series_id_y\": \"MRTSSM444USS\", \"value_y\": 27864}, {\"series_id_x\": \"MRTSSM4423XUSS\", \"date\": \"2006-06-01T00:00:00\", \"value_x\": 18615, \"series_id_y\": \"MRTSSM444USS\", \"value_y\": 27339}, {\"series_id_x\": \"MRTSSM4423XUSS\", \"date\": \"2006-07-01T00:00:00\", \"value_x\": 18568, \"series_id_y\": \"MRTSSM444USS\", \"value_y\": 27327}, {\"series_id_x\": \"MRTSSM4423XUSS\", \"date\": \"2006-08-01T00:00:00\", \"value_x\": 18546, \"series_id_y\": \"MRTSSM444USS\", \"value_y\": 27358}, {\"series_id_x\": \"MRTSSM4423XUSS\", \"date\": \"2006-09-01T00:00:00\", \"value_x\": 18707, \"series_id_y\": \"MRTSSM444USS\", \"value_y\": 26994}, {\"series_id_x\": \"MRTSSM4423XUSS\", \"date\": \"2006-10-01T00:00:00\", \"value_x\": 18328, \"series_id_y\": \"MRTSSM444USS\", \"value_y\": 27161}, {\"series_id_x\": \"MRTSSM4423XUSS\", \"date\": \"2006-11-01T00:00:00\", \"value_x\": 18469, \"series_id_y\": \"MRTSSM444USS\", \"value_y\": 26647}, {\"series_id_x\": \"MRTSSM4423XUSS\", \"date\": \"2006-12-01T00:00:00\", \"value_x\": 18812, \"series_id_y\": \"MRTSSM444USS\", \"value_y\": 27100}, {\"series_id_x\": \"MRTSSM4423XUSS\", \"date\": \"2007-01-01T00:00:00\", \"value_x\": 18838, \"series_id_y\": \"MRTSSM444USS\", \"value_y\": 27533}, {\"series_id_x\": \"MRTSSM4423XUSS\", \"date\": \"2007-02-01T00:00:00\", \"value_x\": 18492, \"series_id_y\": \"MRTSSM444USS\", \"value_y\": 27088}, {\"series_id_x\": \"MRTSSM4423XUSS\", \"date\": \"2007-03-01T00:00:00\", \"value_x\": 18432, \"series_id_y\": \"MRTSSM444USS\", \"value_y\": 27506}, {\"series_id_x\": \"MRTSSM4423XUSS\", \"date\": \"2007-04-01T00:00:00\", \"value_x\": 18438, \"series_id_y\": \"MRTSSM444USS\", \"value_y\": 26610}, {\"series_id_x\": \"MRTSSM4423XUSS\", \"date\": \"2007-05-01T00:00:00\", \"value_x\": 18421, \"series_id_y\": \"MRTSSM444USS\", \"value_y\": 27144}, {\"series_id_x\": \"MRTSSM4423XUSS\", \"date\": \"2007-06-01T00:00:00\", \"value_x\": 18287, \"series_id_y\": \"MRTSSM444USS\", \"value_y\": 26638}, {\"series_id_x\": \"MRTSSM4423XUSS\", \"date\": \"2007-07-01T00:00:00\", \"value_x\": 18403, \"series_id_y\": \"MRTSSM444USS\", \"value_y\": 26860}, {\"series_id_x\": \"MRTSSM4423XUSS\", \"date\": \"2007-08-01T00:00:00\", \"value_x\": 18574, \"series_id_y\": \"MRTSSM444USS\", \"value_y\": 26625}, {\"series_id_x\": \"MRTSSM4423XUSS\", \"date\": \"2007-09-01T00:00:00\", \"value_x\": 18315, \"series_id_y\": \"MRTSSM444USS\", \"value_y\": 26412}, {\"series_id_x\": \"MRTSSM4423XUSS\", \"date\": \"2007-10-01T00:00:00\", \"value_x\": 18435, \"series_id_y\": \"MRTSSM444USS\", \"value_y\": 26248}, {\"series_id_x\": \"MRTSSM4423XUSS\", \"date\": \"2007-11-01T00:00:00\", \"value_x\": 18656, \"series_id_y\": \"MRTSSM444USS\", \"value_y\": 26566}, {\"series_id_x\": \"MRTSSM4423XUSS\", \"date\": \"2007-12-01T00:00:00\", \"value_x\": 18377, \"series_id_y\": \"MRTSSM444USS\", \"value_y\": 25634}, {\"series_id_x\": \"MRTSSM4423XUSS\", \"date\": \"2008-01-01T00:00:00\", \"value_x\": 18048, \"series_id_y\": \"MRTSSM444USS\", \"value_y\": 25721}, {\"series_id_x\": \"MRTSSM4423XUSS\", \"date\": \"2008-02-01T00:00:00\", \"value_x\": 17790, \"series_id_y\": \"MRTSSM444USS\", \"value_y\": 25659}, {\"series_id_x\": \"MRTSSM4423XUSS\", \"date\": \"2008-03-01T00:00:00\", \"value_x\": 17802, \"series_id_y\": \"MRTSSM444USS\", \"value_y\": 25456}, {\"series_id_x\": \"MRTSSM4423XUSS\", \"date\": \"2008-04-01T00:00:00\", \"value_x\": 17892, \"series_id_y\": \"MRTSSM444USS\", \"value_y\": 25292}, {\"series_id_x\": \"MRTSSM4423XUSS\", \"date\": \"2008-05-01T00:00:00\", \"value_x\": 18117, \"series_id_y\": \"MRTSSM444USS\", \"value_y\": 25650}, {\"series_id_x\": \"MRTSSM4423XUSS\", \"date\": \"2008-06-01T00:00:00\", \"value_x\": 17778, \"series_id_y\": \"MRTSSM444USS\", \"value_y\": 25700}, {\"series_id_x\": \"MRTSSM4423XUSS\", \"date\": \"2008-07-01T00:00:00\", \"value_x\": 17698, \"series_id_y\": \"MRTSSM444USS\", \"value_y\": 25897}, {\"series_id_x\": \"MRTSSM4423XUSS\", \"date\": \"2008-08-01T00:00:00\", \"value_x\": 17355, \"series_id_y\": \"MRTSSM444USS\", \"value_y\": 25329}, {\"series_id_x\": \"MRTSSM4423XUSS\", \"date\": \"2008-09-01T00:00:00\", \"value_x\": 16536, \"series_id_y\": \"MRTSSM444USS\", \"value_y\": 25217}, {\"series_id_x\": \"MRTSSM4423XUSS\", \"date\": \"2008-10-01T00:00:00\", \"value_x\": 16467, \"series_id_y\": \"MRTSSM444USS\", \"value_y\": 24568}, {\"series_id_x\": \"MRTSSM4423XUSS\", \"date\": \"2008-11-01T00:00:00\", \"value_x\": 16377, \"series_id_y\": \"MRTSSM444USS\", \"value_y\": 23196}, {\"series_id_x\": \"MRTSSM4423XUSS\", \"date\": \"2008-12-01T00:00:00\", \"value_x\": 15811, \"series_id_y\": \"MRTSSM444USS\", \"value_y\": 22909}, {\"series_id_x\": \"MRTSSM4423XUSS\", \"date\": \"2009-01-01T00:00:00\", \"value_x\": 16247, \"series_id_y\": \"MRTSSM444USS\", \"value_y\": 22758}, {\"series_id_x\": \"MRTSSM4423XUSS\", \"date\": \"2009-02-01T00:00:00\", \"value_x\": 16129, \"series_id_y\": \"MRTSSM444USS\", \"value_y\": 22498}, {\"series_id_x\": \"MRTSSM4423XUSS\", \"date\": \"2009-03-01T00:00:00\", \"value_x\": 15140, \"series_id_y\": \"MRTSSM444USS\", \"value_y\": 22149}, {\"series_id_x\": \"MRTSSM4423XUSS\", \"date\": \"2009-04-01T00:00:00\", \"value_x\": 15116, \"series_id_y\": \"MRTSSM444USS\", \"value_y\": 22092}, {\"series_id_x\": \"MRTSSM4423XUSS\", \"date\": \"2009-05-01T00:00:00\", \"value_x\": 15113, \"series_id_y\": \"MRTSSM444USS\", \"value_y\": 22310}, {\"series_id_x\": \"MRTSSM4423XUSS\", \"date\": \"2009-06-01T00:00:00\", \"value_x\": 15131, \"series_id_y\": \"MRTSSM444USS\", \"value_y\": 22332}, {\"series_id_x\": \"MRTSSM4423XUSS\", \"date\": \"2009-07-01T00:00:00\", \"value_x\": 15004, \"series_id_y\": \"MRTSSM444USS\", \"value_y\": 21883}, {\"series_id_x\": \"MRTSSM4423XUSS\", \"date\": \"2009-08-01T00:00:00\", \"value_x\": 14991, \"series_id_y\": \"MRTSSM444USS\", \"value_y\": 21474}, {\"series_id_x\": \"MRTSSM4423XUSS\", \"date\": \"2009-09-01T00:00:00\", \"value_x\": 14946, \"series_id_y\": \"MRTSSM444USS\", \"value_y\": 21363}, {\"series_id_x\": \"MRTSSM4423XUSS\", \"date\": \"2009-10-01T00:00:00\", \"value_x\": 14835, \"series_id_y\": \"MRTSSM444USS\", \"value_y\": 20661}, {\"series_id_x\": \"MRTSSM4423XUSS\", \"date\": \"2009-11-01T00:00:00\", \"value_x\": 15199, \"series_id_y\": \"MRTSSM444USS\", \"value_y\": 20931}, {\"series_id_x\": \"MRTSSM4423XUSS\", \"date\": \"2009-12-01T00:00:00\", \"value_x\": 15092, \"series_id_y\": \"MRTSSM444USS\", \"value_y\": 20849}, {\"series_id_x\": \"MRTSSM4423XUSS\", \"date\": \"2010-01-01T00:00:00\", \"value_x\": 15234, \"series_id_y\": \"MRTSSM444USS\", \"value_y\": 20562}, {\"series_id_x\": \"MRTSSM4423XUSS\", \"date\": \"2010-02-01T00:00:00\", \"value_x\": 15622, \"series_id_y\": \"MRTSSM444USS\", \"value_y\": 20448}, {\"series_id_x\": \"MRTSSM4423XUSS\", \"date\": \"2010-03-01T00:00:00\", \"value_x\": 15376, \"series_id_y\": \"MRTSSM444USS\", \"value_y\": 21872}, {\"series_id_x\": \"MRTSSM4423XUSS\", \"date\": \"2010-04-01T00:00:00\", \"value_x\": 15410, \"series_id_y\": \"MRTSSM444USS\", \"value_y\": 23542}, {\"series_id_x\": \"MRTSSM4423XUSS\", \"date\": \"2010-05-01T00:00:00\", \"value_x\": 15483, \"series_id_y\": \"MRTSSM444USS\", \"value_y\": 21737}, {\"series_id_x\": \"MRTSSM4423XUSS\", \"date\": \"2010-06-01T00:00:00\", \"value_x\": 15573, \"series_id_y\": \"MRTSSM444USS\", \"value_y\": 21522}, {\"series_id_x\": \"MRTSSM4423XUSS\", \"date\": \"2010-07-01T00:00:00\", \"value_x\": 15455, \"series_id_y\": \"MRTSSM444USS\", \"value_y\": 21493}, {\"series_id_x\": \"MRTSSM4423XUSS\", \"date\": \"2010-08-01T00:00:00\", \"value_x\": 15467, \"series_id_y\": \"MRTSSM444USS\", \"value_y\": 21296}, {\"series_id_x\": \"MRTSSM4423XUSS\", \"date\": \"2010-09-01T00:00:00\", \"value_x\": 15501, \"series_id_y\": \"MRTSSM444USS\", \"value_y\": 21336}, {\"series_id_x\": \"MRTSSM4423XUSS\", \"date\": \"2010-10-01T00:00:00\", \"value_x\": 15249, \"series_id_y\": \"MRTSSM444USS\", \"value_y\": 22040}, {\"series_id_x\": \"MRTSSM4423XUSS\", \"date\": \"2010-11-01T00:00:00\", \"value_x\": 15219, \"series_id_y\": \"MRTSSM444USS\", \"value_y\": 21977}, {\"series_id_x\": \"MRTSSM4423XUSS\", \"date\": \"2010-12-01T00:00:00\", \"value_x\": 15342, \"series_id_y\": \"MRTSSM444USS\", \"value_y\": 22112}, {\"series_id_x\": \"MRTSSM4423XUSS\", \"date\": \"2011-01-01T00:00:00\", \"value_x\": 15210, \"series_id_y\": \"MRTSSM444USS\", \"value_y\": 21498}, {\"series_id_x\": \"MRTSSM4423XUSS\", \"date\": \"2011-02-01T00:00:00\", \"value_x\": 15501, \"series_id_y\": \"MRTSSM444USS\", \"value_y\": 21202}, {\"series_id_x\": \"MRTSSM4423XUSS\", \"date\": \"2011-03-01T00:00:00\", \"value_x\": 15881, \"series_id_y\": \"MRTSSM444USS\", \"value_y\": 21865}, {\"series_id_x\": \"MRTSSM4423XUSS\", \"date\": \"2011-04-01T00:00:00\", \"value_x\": 15842, \"series_id_y\": \"MRTSSM444USS\", \"value_y\": 22053}, {\"series_id_x\": \"MRTSSM4423XUSS\", \"date\": \"2011-05-01T00:00:00\", \"value_x\": 15670, \"series_id_y\": \"MRTSSM444USS\", \"value_y\": 22326}, {\"series_id_x\": \"MRTSSM4423XUSS\", \"date\": \"2011-06-01T00:00:00\", \"value_x\": 15666, \"series_id_y\": \"MRTSSM444USS\", \"value_y\": 22709}, {\"series_id_x\": \"MRTSSM4423XUSS\", \"date\": \"2011-07-01T00:00:00\", \"value_x\": 15820, \"series_id_y\": \"MRTSSM444USS\", \"value_y\": 22744}, {\"series_id_x\": \"MRTSSM4423XUSS\", \"date\": \"2011-08-01T00:00:00\", \"value_x\": 15948, \"series_id_y\": \"MRTSSM444USS\", \"value_y\": 22775}, {\"series_id_x\": \"MRTSSM4423XUSS\", \"date\": \"2011-09-01T00:00:00\", \"value_x\": 15877, \"series_id_y\": \"MRTSSM444USS\", \"value_y\": 22644}, {\"series_id_x\": \"MRTSSM4423XUSS\", \"date\": \"2011-10-01T00:00:00\", \"value_x\": 16040, \"series_id_y\": \"MRTSSM444USS\", \"value_y\": 23253}, {\"series_id_x\": \"MRTSSM4423XUSS\", \"date\": \"2011-11-01T00:00:00\", \"value_x\": 16031, \"series_id_y\": \"MRTSSM444USS\", \"value_y\": 22908}, {\"series_id_x\": \"MRTSSM4423XUSS\", \"date\": \"2011-12-01T00:00:00\", \"value_x\": 15993, \"series_id_y\": \"MRTSSM444USS\", \"value_y\": 23443}, {\"series_id_x\": \"MRTSSM4423XUSS\", \"date\": \"2012-01-01T00:00:00\", \"value_x\": 16168, \"series_id_y\": \"MRTSSM444USS\", \"value_y\": 23657}, {\"series_id_x\": \"MRTSSM4423XUSS\", \"date\": \"2012-02-01T00:00:00\", \"value_x\": 16165, \"series_id_y\": \"MRTSSM444USS\", \"value_y\": 23588}, {\"series_id_x\": \"MRTSSM4423XUSS\", \"date\": \"2012-03-01T00:00:00\", \"value_x\": 16294, \"series_id_y\": \"MRTSSM444USS\", \"value_y\": 24587}, {\"series_id_x\": \"MRTSSM4423XUSS\", \"date\": \"2012-04-01T00:00:00\", \"value_x\": 16071, \"series_id_y\": \"MRTSSM444USS\", \"value_y\": 23423}, {\"series_id_x\": \"MRTSSM4423XUSS\", \"date\": \"2012-05-01T00:00:00\", \"value_x\": 16375, \"series_id_y\": \"MRTSSM444USS\", \"value_y\": 22721}, {\"series_id_x\": \"MRTSSM4423XUSS\", \"date\": \"2012-06-01T00:00:00\", \"value_x\": 16202, \"series_id_y\": \"MRTSSM444USS\", \"value_y\": 22516}, {\"series_id_x\": \"MRTSSM4423XUSS\", \"date\": \"2012-07-01T00:00:00\", \"value_x\": 16409, \"series_id_y\": \"MRTSSM444USS\", \"value_y\": 22700}, {\"series_id_x\": \"MRTSSM4423XUSS\", \"date\": \"2012-08-01T00:00:00\", \"value_x\": 16240, \"series_id_y\": \"MRTSSM444USS\", \"value_y\": 23071}, {\"series_id_x\": \"MRTSSM4423XUSS\", \"date\": \"2012-09-01T00:00:00\", \"value_x\": 16242, \"series_id_y\": \"MRTSSM444USS\", \"value_y\": 23652}, {\"series_id_x\": \"MRTSSM4423XUSS\", \"date\": \"2012-10-01T00:00:00\", \"value_x\": 15730, \"series_id_y\": \"MRTSSM444USS\", \"value_y\": 23831}, {\"series_id_x\": \"MRTSSM4423XUSS\", \"date\": \"2012-11-01T00:00:00\", \"value_x\": 16273, \"series_id_y\": \"MRTSSM444USS\", \"value_y\": 24146}, {\"series_id_x\": \"MRTSSM4423XUSS\", \"date\": \"2012-12-01T00:00:00\", \"value_x\": 16772, \"series_id_y\": \"MRTSSM444USS\", \"value_y\": 24126}, {\"series_id_x\": \"MRTSSM4423XUSS\", \"date\": \"2013-01-01T00:00:00\", \"value_x\": 16723, \"series_id_y\": \"MRTSSM444USS\", \"value_y\": 24376}, {\"series_id_x\": \"MRTSSM4423XUSS\", \"date\": \"2013-02-01T00:00:00\", \"value_x\": 16727, \"series_id_y\": \"MRTSSM444USS\", \"value_y\": 24759}, {\"series_id_x\": \"MRTSSM4423XUSS\", \"date\": \"2013-03-01T00:00:00\", \"value_x\": 16509, \"series_id_y\": \"MRTSSM444USS\", \"value_y\": 24692}, {\"series_id_x\": \"MRTSSM4423XUSS\", \"date\": \"2013-04-01T00:00:00\", \"value_x\": 16502, \"series_id_y\": \"MRTSSM444USS\", \"value_y\": 24815}, {\"series_id_x\": \"MRTSSM4423XUSS\", \"date\": \"2013-05-01T00:00:00\", \"value_x\": 16422, \"series_id_y\": \"MRTSSM444USS\", \"value_y\": 25320}, {\"series_id_x\": \"MRTSSM4423XUSS\", \"date\": \"2013-06-01T00:00:00\", \"value_x\": 16644, \"series_id_y\": \"MRTSSM444USS\", \"value_y\": 24799}, {\"series_id_x\": \"MRTSSM4423XUSS\", \"date\": \"2013-07-01T00:00:00\", \"value_x\": 16571, \"series_id_y\": \"MRTSSM444USS\", \"value_y\": 25347}, {\"series_id_x\": \"MRTSSM4423XUSS\", \"date\": \"2013-08-01T00:00:00\", \"value_x\": 16614, \"series_id_y\": \"MRTSSM444USS\", \"value_y\": 25284}, {\"series_id_x\": \"MRTSSM4423XUSS\", \"date\": \"2013-09-01T00:00:00\", \"value_x\": 16612, \"series_id_y\": \"MRTSSM444USS\", \"value_y\": 25259}, {\"series_id_x\": \"MRTSSM4423XUSS\", \"date\": \"2013-10-01T00:00:00\", \"value_x\": 16807, \"series_id_y\": \"MRTSSM444USS\", \"value_y\": 24917}, {\"series_id_x\": \"MRTSSM4423XUSS\", \"date\": \"2013-11-01T00:00:00\", \"value_x\": 16747, \"series_id_y\": \"MRTSSM444USS\", \"value_y\": 24828}, {\"series_id_x\": \"MRTSSM4423XUSS\", \"date\": \"2013-12-01T00:00:00\", \"value_x\": 16461, \"series_id_y\": \"MRTSSM444USS\", \"value_y\": 24956}, {\"series_id_x\": \"MRTSSM4423XUSS\", \"date\": \"2014-01-01T00:00:00\", \"value_x\": 16309, \"series_id_y\": \"MRTSSM444USS\", \"value_y\": 24872}, {\"series_id_x\": \"MRTSSM4423XUSS\", \"date\": \"2014-02-01T00:00:00\", \"value_x\": 16636, \"series_id_y\": \"MRTSSM444USS\", \"value_y\": 24817}, {\"series_id_x\": \"MRTSSM4423XUSS\", \"date\": \"2014-03-01T00:00:00\", \"value_x\": 16851, \"series_id_y\": \"MRTSSM444USS\", \"value_y\": 25282}, {\"series_id_x\": \"MRTSSM4423XUSS\", \"date\": \"2014-04-01T00:00:00\", \"value_x\": 16915, \"series_id_y\": \"MRTSSM444USS\", \"value_y\": 26122}, {\"series_id_x\": \"MRTSSM4423XUSS\", \"date\": \"2014-05-01T00:00:00\", \"value_x\": 16760, \"series_id_y\": \"MRTSSM444USS\", \"value_y\": 26465}, {\"series_id_x\": \"MRTSSM4423XUSS\", \"date\": \"2014-06-01T00:00:00\", \"value_x\": 16697, \"series_id_y\": \"MRTSSM444USS\", \"value_y\": 26620}, {\"series_id_x\": \"MRTSSM4423XUSS\", \"date\": \"2014-07-01T00:00:00\", \"value_x\": 16799, \"series_id_y\": \"MRTSSM444USS\", \"value_y\": 26084}, {\"series_id_x\": \"MRTSSM4423XUSS\", \"date\": \"2014-08-01T00:00:00\", \"value_x\": 17004, \"series_id_y\": \"MRTSSM444USS\", \"value_y\": 26569}, {\"series_id_x\": \"MRTSSM4423XUSS\", \"date\": \"2014-09-01T00:00:00\", \"value_x\": 17101, \"series_id_y\": \"MRTSSM444USS\", \"value_y\": 26494}, {\"series_id_x\": \"MRTSSM4423XUSS\", \"date\": \"2014-10-01T00:00:00\", \"value_x\": 17094, \"series_id_y\": \"MRTSSM444USS\", \"value_y\": 26463}, {\"series_id_x\": \"MRTSSM4423XUSS\", \"date\": \"2014-11-01T00:00:00\", \"value_x\": 17385, \"series_id_y\": \"MRTSSM444USS\", \"value_y\": 26602}, {\"series_id_x\": \"MRTSSM4423XUSS\", \"date\": \"2014-12-01T00:00:00\", \"value_x\": 17517, \"series_id_y\": \"MRTSSM444USS\", \"value_y\": 26268}, {\"series_id_x\": \"MRTSSM4423XUSS\", \"date\": \"2015-01-01T00:00:00\", \"value_x\": 17315, \"series_id_y\": \"MRTSSM444USS\", \"value_y\": 26517}, {\"series_id_x\": \"MRTSSM4423XUSS\", \"date\": \"2015-02-01T00:00:00\", \"value_x\": 16998, \"series_id_y\": \"MRTSSM444USS\", \"value_y\": 25555}, {\"series_id_x\": \"MRTSSM4423XUSS\", \"date\": \"2015-03-01T00:00:00\", \"value_x\": 17114, \"series_id_y\": \"MRTSSM444USS\", \"value_y\": 26534}, {\"series_id_x\": \"MRTSSM4423XUSS\", \"date\": \"2015-04-01T00:00:00\", \"value_x\": 17264, \"series_id_y\": \"MRTSSM444USS\", \"value_y\": 26690}, {\"series_id_x\": \"MRTSSM4423XUSS\", \"date\": \"2015-05-01T00:00:00\", \"value_x\": 17509, \"series_id_y\": \"MRTSSM444USS\", \"value_y\": 26826}, {\"series_id_x\": \"MRTSSM4423XUSS\", \"date\": \"2015-06-01T00:00:00\", \"value_x\": 17440, \"series_id_y\": \"MRTSSM444USS\", \"value_y\": 26570}, {\"series_id_x\": \"MRTSSM4423XUSS\", \"date\": \"2015-07-01T00:00:00\", \"value_x\": 17435, \"series_id_y\": \"MRTSSM444USS\", \"value_y\": 27326}, {\"series_id_x\": \"MRTSSM4423XUSS\", \"date\": \"2015-08-01T00:00:00\", \"value_x\": 17442, \"series_id_y\": \"MRTSSM444USS\", \"value_y\": 27385}, {\"series_id_x\": \"MRTSSM4423XUSS\", \"date\": \"2015-09-01T00:00:00\", \"value_x\": 17432, \"series_id_y\": \"MRTSSM444USS\", \"value_y\": 27138}, {\"series_id_x\": \"MRTSSM4423XUSS\", \"date\": \"2015-10-01T00:00:00\", \"value_x\": 17455, \"series_id_y\": \"MRTSSM444USS\", \"value_y\": 27331}, {\"series_id_x\": \"MRTSSM4423XUSS\", \"date\": \"2015-11-01T00:00:00\", \"value_x\": 17286, \"series_id_y\": \"MRTSSM444USS\", \"value_y\": 27638}, {\"series_id_x\": \"MRTSSM4423XUSS\", \"date\": \"2015-12-01T00:00:00\", \"value_x\": 17503, \"series_id_y\": \"MRTSSM444USS\", \"value_y\": 28165}, {\"series_id_x\": \"MRTSSM4423XUSS\", \"date\": \"2016-01-01T00:00:00\", \"value_x\": 17206, \"series_id_y\": \"MRTSSM444USS\", \"value_y\": 28215}, {\"series_id_x\": \"MRTSSM4423XUSS\", \"date\": \"2016-02-01T00:00:00\", \"value_x\": 17336, \"series_id_y\": \"MRTSSM444USS\", \"value_y\": 28260}, {\"series_id_x\": \"MRTSSM4423XUSS\", \"date\": \"2016-03-01T00:00:00\", \"value_x\": 17174, \"series_id_y\": \"MRTSSM444USS\", \"value_y\": 28956}, {\"series_id_x\": \"MRTSSM4423XUSS\", \"date\": \"2016-04-01T00:00:00\", \"value_x\": 17084, \"series_id_y\": \"MRTSSM444USS\", \"value_y\": 27956}, {\"series_id_x\": \"MRTSSM4423XUSS\", \"date\": \"2016-05-01T00:00:00\", \"value_x\": 17202, \"series_id_y\": \"MRTSSM444USS\", \"value_y\": 27608}, {\"series_id_x\": \"MRTSSM4423XUSS\", \"date\": \"2016-06-01T00:00:00\", \"value_x\": 17300, \"series_id_y\": \"MRTSSM444USS\", \"value_y\": 28271}, {\"series_id_x\": \"MRTSSM4423XUSS\", \"date\": \"2016-07-01T00:00:00\", \"value_x\": 17295, \"series_id_y\": \"MRTSSM444USS\", \"value_y\": 27969}, {\"series_id_x\": \"MRTSSM4423XUSS\", \"date\": \"2016-08-01T00:00:00\", \"value_x\": 17372, \"series_id_y\": \"MRTSSM444USS\", \"value_y\": 27846}, {\"series_id_x\": \"MRTSSM4423XUSS\", \"date\": \"2016-09-01T00:00:00\", \"value_x\": 17219, \"series_id_y\": \"MRTSSM444USS\", \"value_y\": 27876}, {\"series_id_x\": \"MRTSSM4423XUSS\", \"date\": \"2016-10-01T00:00:00\", \"value_x\": 17003, \"series_id_y\": \"MRTSSM444USS\", \"value_y\": 28050}, {\"series_id_x\": \"MRTSSM4423XUSS\", \"date\": \"2016-11-01T00:00:00\", \"value_x\": 16822, \"series_id_y\": \"MRTSSM444USS\", \"value_y\": 28206}, {\"series_id_x\": \"MRTSSM4423XUSS\", \"date\": \"2016-12-01T00:00:00\", \"value_x\": 16897, \"series_id_y\": \"MRTSSM444USS\", \"value_y\": 28155}, {\"series_id_x\": \"MRTSSM4423XUSS\", \"date\": \"2017-01-01T00:00:00\", \"value_x\": 17195, \"series_id_y\": \"MRTSSM444USS\", \"value_y\": 28685}, {\"series_id_x\": \"MRTSSM4423XUSS\", \"date\": \"2017-02-01T00:00:00\", \"value_x\": 17107, \"series_id_y\": \"MRTSSM444USS\", \"value_y\": 28943}, {\"series_id_x\": \"MRTSSM4423XUSS\", \"date\": \"2017-03-01T00:00:00\", \"value_x\": 17400, \"series_id_y\": \"MRTSSM444USS\", \"value_y\": 28755}, {\"series_id_x\": \"MRTSSM4423XUSS\", \"date\": \"2017-04-01T00:00:00\", \"value_x\": 17285, \"series_id_y\": \"MRTSSM444USS\", \"value_y\": 29063}, {\"series_id_x\": \"MRTSSM4423XUSS\", \"date\": \"2017-05-01T00:00:00\", \"value_x\": 17251, \"series_id_y\": \"MRTSSM444USS\", \"value_y\": 28764}, {\"series_id_x\": \"MRTSSM4423XUSS\", \"date\": \"2017-06-01T00:00:00\", \"value_x\": 17242, \"series_id_y\": \"MRTSSM444USS\", \"value_y\": 28720}, {\"series_id_x\": \"MRTSSM4423XUSS\", \"date\": \"2017-07-01T00:00:00\", \"value_x\": 17108, \"series_id_y\": \"MRTSSM444USS\", \"value_y\": 28838}, {\"series_id_x\": \"MRTSSM4423XUSS\", \"date\": \"2017-08-01T00:00:00\", \"value_x\": 17198, \"series_id_y\": \"MRTSSM444USS\", \"value_y\": 28843}, {\"series_id_x\": \"MRTSSM4423XUSS\", \"date\": \"2017-09-01T00:00:00\", \"value_x\": 17158, \"series_id_y\": \"MRTSSM444USS\", \"value_y\": 29763}, {\"series_id_x\": \"MRTSSM4423XUSS\", \"date\": \"2017-10-01T00:00:00\", \"value_x\": 17512, \"series_id_y\": \"MRTSSM444USS\", \"value_y\": 29561}, {\"series_id_x\": \"MRTSSM4423XUSS\", \"date\": \"2017-11-01T00:00:00\", \"value_x\": 17775, \"series_id_y\": \"MRTSSM444USS\", \"value_y\": 29948}, {\"series_id_x\": \"MRTSSM4423XUSS\", \"date\": \"2017-12-01T00:00:00\", \"value_x\": 17758, \"series_id_y\": \"MRTSSM444USS\", \"value_y\": 30044}, {\"series_id_x\": \"MRTSSM4423XUSS\", \"date\": \"2018-01-01T00:00:00\", \"value_x\": 17722, \"series_id_y\": \"MRTSSM444USS\", \"value_y\": 29261}, {\"series_id_x\": \"MRTSSM4423XUSS\", \"date\": \"2018-02-01T00:00:00\", \"value_x\": 17851, \"series_id_y\": \"MRTSSM444USS\", \"value_y\": 30076}, {\"series_id_x\": \"MRTSSM4423XUSS\", \"date\": \"2018-03-01T00:00:00\", \"value_x\": 17817, \"series_id_y\": \"MRTSSM444USS\", \"value_y\": 29792}, {\"series_id_x\": \"MRTSSM4423XUSS\", \"date\": \"2018-04-01T00:00:00\", \"value_x\": 18107, \"series_id_y\": \"MRTSSM444USS\", \"value_y\": 29807}, {\"series_id_x\": \"MRTSSM4423XUSS\", \"date\": \"2018-05-01T00:00:00\", \"value_x\": 17919, \"series_id_y\": \"MRTSSM444USS\", \"value_y\": 30546}, {\"series_id_x\": \"MRTSSM4423XUSS\", \"date\": \"2018-06-01T00:00:00\", \"value_x\": 17962, \"series_id_y\": \"MRTSSM444USS\", \"value_y\": 30974}, {\"series_id_x\": \"MRTSSM4423XUSS\", \"date\": \"2018-07-01T00:00:00\", \"value_x\": 17922, \"series_id_y\": \"MRTSSM444USS\", \"value_y\": 30991}, {\"series_id_x\": \"MRTSSM4423XUSS\", \"date\": \"2018-08-01T00:00:00\", \"value_x\": 17825, \"series_id_y\": \"MRTSSM444USS\", \"value_y\": 30601}, {\"series_id_x\": \"MRTSSM4423XUSS\", \"date\": \"2018-09-01T00:00:00\", \"value_x\": 17596, \"series_id_y\": \"MRTSSM444USS\", \"value_y\": 30735}, {\"series_id_x\": \"MRTSSM4423XUSS\", \"date\": \"2018-10-01T00:00:00\", \"value_x\": 17677, \"series_id_y\": \"MRTSSM444USS\", \"value_y\": 31505}, {\"series_id_x\": \"MRTSSM4423XUSS\", \"date\": \"2018-11-01T00:00:00\", \"value_x\": 17631, \"series_id_y\": \"MRTSSM444USS\", \"value_y\": 30855}, {\"series_id_x\": \"MRTSSM4423XUSS\", \"date\": \"2018-12-01T00:00:00\", \"value_x\": 17463, \"series_id_y\": \"MRTSSM444USS\", \"value_y\": 30971}, {\"series_id_x\": \"MRTSSM4423XUSS\", \"date\": \"2019-01-01T00:00:00\", \"value_x\": 17406, \"series_id_y\": \"MRTSSM444USS\", \"value_y\": 32451}, {\"series_id_x\": \"MRTSSM4423XUSS\", \"date\": \"2019-02-01T00:00:00\", \"value_x\": 17370, \"series_id_y\": \"MRTSSM444USS\", \"value_y\": 30745}, {\"series_id_x\": \"MRTSSM4423XUSS\", \"date\": \"2019-03-01T00:00:00\", \"value_x\": 17579, \"series_id_y\": \"MRTSSM444USS\", \"value_y\": 31106}, {\"series_id_x\": \"MRTSSM4423XUSS\", \"date\": \"2019-04-01T00:00:00\", \"value_x\": 17592, \"series_id_y\": \"MRTSSM444USS\", \"value_y\": 30959}, {\"series_id_x\": \"MRTSSM4423XUSS\", \"date\": \"2019-05-01T00:00:00\", \"value_x\": 17664, \"series_id_y\": \"MRTSSM444USS\", \"value_y\": 30338}, {\"series_id_x\": \"MRTSSM4423XUSS\", \"date\": \"2019-06-01T00:00:00\", \"value_x\": 17620, \"series_id_y\": \"MRTSSM444USS\", \"value_y\": 30385}, {\"series_id_x\": \"MRTSSM4423XUSS\", \"date\": \"2019-07-01T00:00:00\", \"value_x\": 17719, \"series_id_y\": \"MRTSSM444USS\", \"value_y\": 30679}, {\"series_id_x\": \"MRTSSM4423XUSS\", \"date\": \"2019-08-01T00:00:00\", \"value_x\": 17654, \"series_id_y\": \"MRTSSM444USS\", \"value_y\": 31270}, {\"series_id_x\": \"MRTSSM4423XUSS\", \"date\": \"2019-09-01T00:00:00\", \"value_x\": 17795, \"series_id_y\": \"MRTSSM444USS\", \"value_y\": 30806}, {\"series_id_x\": \"MRTSSM4423XUSS\", \"date\": \"2019-10-01T00:00:00\", \"value_x\": 17566, \"series_id_y\": \"MRTSSM444USS\", \"value_y\": 31118}, {\"series_id_x\": \"MRTSSM4423XUSS\", \"date\": \"2019-11-01T00:00:00\", \"value_x\": 17733, \"series_id_y\": \"MRTSSM444USS\", \"value_y\": 31312}, {\"series_id_x\": \"MRTSSM4423XUSS\", \"date\": \"2019-12-01T00:00:00\", \"value_x\": 17487, \"series_id_y\": \"MRTSSM444USS\", \"value_y\": 31952}, {\"series_id_x\": \"MRTSSM4423XUSS\", \"date\": \"2020-01-01T00:00:00\", \"value_x\": 17942, \"series_id_y\": \"MRTSSM444USS\", \"value_y\": 32920}, {\"series_id_x\": \"MRTSSM4423XUSS\", \"date\": \"2020-02-01T00:00:00\", \"value_x\": 17837, \"series_id_y\": \"MRTSSM444USS\", \"value_y\": 32904}, {\"series_id_x\": \"MRTSSM4423XUSS\", \"date\": \"2020-03-01T00:00:00\", \"value_x\": 14360, \"series_id_y\": \"MRTSSM444USS\", \"value_y\": 32810}, {\"series_id_x\": \"MRTSSM4423XUSS\", \"date\": \"2020-04-01T00:00:00\", \"value_x\": 7687, \"series_id_y\": \"MRTSSM444USS\", \"value_y\": 32184}, {\"series_id_x\": \"MRTSSM4423XUSS\", \"date\": \"2020-05-01T00:00:00\", \"value_x\": 11621, \"series_id_y\": \"MRTSSM444USS\", \"value_y\": 36149}, {\"series_id_x\": \"MRTSSM4423XUSS\", \"date\": \"2020-06-01T00:00:00\", \"value_x\": 16108, \"series_id_y\": \"MRTSSM444USS\", \"value_y\": 36538}, {\"series_id_x\": \"MRTSSM4423XUSS\", \"date\": \"2020-07-01T00:00:00\", \"value_x\": 17327, \"series_id_y\": \"MRTSSM444USS\", \"value_y\": 35662}, {\"series_id_x\": \"MRTSSM4423XUSS\", \"date\": \"2020-08-01T00:00:00\", \"value_x\": 17798, \"series_id_y\": \"MRTSSM444USS\", \"value_y\": 36543}, {\"series_id_x\": \"MRTSSM4423XUSS\", \"date\": \"2020-09-01T00:00:00\", \"value_x\": 17729, \"series_id_y\": \"MRTSSM444USS\", \"value_y\": 36676}, {\"series_id_x\": \"MRTSSM4423XUSS\", \"date\": \"2020-10-01T00:00:00\", \"value_x\": 17978, \"series_id_y\": \"MRTSSM444USS\", \"value_y\": 36685}, {\"series_id_x\": \"MRTSSM4423XUSS\", \"date\": \"2020-11-01T00:00:00\", \"value_x\": 17556, \"series_id_y\": \"MRTSSM444USS\", \"value_y\": 37002}, {\"series_id_x\": \"MRTSSM4423XUSS\", \"date\": \"2020-12-01T00:00:00\", \"value_x\": 17077, \"series_id_y\": \"MRTSSM444USS\", \"value_y\": 37099}, {\"series_id_x\": \"MRTSSM4423XUSS\", \"date\": \"2021-01-01T00:00:00\", \"value_x\": 19623, \"series_id_y\": \"MRTSSM444USS\", \"value_y\": 39996}, {\"series_id_x\": \"MRTSSM4423XUSS\", \"date\": \"2021-02-01T00:00:00\", \"value_x\": 18560, \"series_id_y\": \"MRTSSM444USS\", \"value_y\": 38082}, {\"series_id_x\": \"MRTSSM4423XUSS\", \"date\": \"2021-03-01T00:00:00\", \"value_x\": 20753, \"series_id_y\": \"MRTSSM444USS\", \"value_y\": 43458}, {\"series_id_x\": \"MRTSSM4423XUSS\", \"date\": \"2021-04-01T00:00:00\", \"value_x\": 20967, \"series_id_y\": \"MRTSSM444USS\", \"value_y\": 42437}]}}, {\"mode\": \"vega-lite\"});\n",
       "</script>"
      ],
      "text/plain": [
       "alt.LayerChart(...)"
      ]
     },
     "execution_count": 25,
     "metadata": {},
     "output_type": "execute_result"
    }
   ],
   "source": [
    "# joining the two datasets\n",
    "building_furnishing = furnishing_expenditure.merge(building_materials_expenditure, on = 'date', how = 'inner')\n",
    "\n",
    "# building the plot\n",
    "furnishing_scatter_base = alt.Chart(building_furnishing,\n",
    "                                    title = \"Building Materials and Home Furnishings Retail Sales\").mark_circle().encode(\n",
    "    x = alt.X('value_y',\n",
    "              title = 'Building Materials (Mil. of $)'),\n",
    "    y = alt.Y('value_x',\n",
    "              title = 'Home Furnishings and Appliances (Mil. of $)'))\n",
    "\n",
    "furnishing_poly_fit = [\n",
    "    furnishing_scatter_base.transform_regression(\n",
    "        'value_y', 'value_x', method = 'poly', order = 3\n",
    "    ).mark_line(color = '#fb8072').encode()\n",
    "]\n",
    "\n",
    "alt.layer(furnishing_scatter_base, furnishing_scatter_base.transform_loess('value_y', 'value_x').mark_line(color = '#fdc086'), *furnishing_poly_fit)"
   ]
  },
  {
   "cell_type": "markdown",
   "metadata": {},
   "source": [
    "Generally, we can see that the relationship between expenditure on building materials and home furnishings can be roughly modelled as:  \n",
    "  \n",
    "${Home Furnishings} = {Building Materials}^{3}$"
   ]
  }
 ],
 "metadata": {
  "kernelspec": {
   "display_name": "Python 3 (Spyder)",
   "language": "python3",
   "name": "python3"
  },
  "language_info": {
   "codemirror_mode": {
    "name": "ipython",
    "version": 3
   },
   "file_extension": ".py",
   "mimetype": "text/x-python",
   "name": "python",
   "nbconvert_exporter": "python",
   "pygments_lexer": "ipython3",
   "version": "3.7.6"
  },
  "varInspector": {
   "cols": {
    "lenName": 16,
    "lenType": 16,
    "lenVar": 40
   },
   "kernels_config": {
    "python": {
     "delete_cmd_postfix": "",
     "delete_cmd_prefix": "del ",
     "library": "var_list.py",
     "varRefreshCmd": "print(var_dic_list())"
    },
    "r": {
     "delete_cmd_postfix": ") ",
     "delete_cmd_prefix": "rm(",
     "library": "var_list.r",
     "varRefreshCmd": "cat(var_dic_list()) "
    }
   },
   "types_to_exclude": [
    "module",
    "function",
    "builtin_function_or_method",
    "instance",
    "_Feature"
   ],
   "window_display": false
  }
 },
 "nbformat": 4,
 "nbformat_minor": 4
}
