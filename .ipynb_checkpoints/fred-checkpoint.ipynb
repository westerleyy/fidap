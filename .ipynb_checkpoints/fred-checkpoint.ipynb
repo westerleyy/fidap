{
 "cells": [
  {
   "cell_type": "code",
   "execution_count": 36,
   "metadata": {},
   "outputs": [],
   "source": [
    "import numpy as np\n",
    "import pandas as pd\n",
    "import altair as alt\n",
    "import fidap\n",
    "from config import api_key\n",
    "\n",
    "# instantiate connection\n",
    "fidap = fidap.fidap_client(api_key = api_key)"
   ]
  },
  {
   "cell_type": "code",
   "execution_count": 3,
   "metadata": {},
   "outputs": [],
   "source": [
    "fred_meta = fidap.sql(\"\"\"\n",
    "SELECT *\n",
    "FROM fidap-301014.fred.INFORMATION_SCHEMA.TABLES\n",
    "\"\"\")"
   ]
  },
  {
   "cell_type": "code",
   "execution_count": 7,
   "metadata": {
    "scrolled": true
   },
   "outputs": [
    {
     "name": "stdout",
     "output_type": "stream",
     "text": [
      "0             categories\n",
      "1            series_info\n",
      "2    series_observations\n",
      "Name: table_name, dtype: object\n"
     ]
    }
   ],
   "source": [
    "# get all table names\n",
    "print(fred_meta.table_name)"
   ]
  },
  {
   "cell_type": "code",
   "execution_count": 22,
   "metadata": {},
   "outputs": [],
   "source": [
    "#meta for each of the tables to figure out which might be useful \n",
    "categories_meta = fidap.sql(\"\"\"\n",
    "SELECT * EXCEPT(is_generated, generation_expression, is_stored, is_updatable)\n",
    "FROM fidap-301014.fred.INFORMATION_SCHEMA.COLUMNS\n",
    "WHERE table_name = 'categories'\n",
    "\"\"\")\n",
    "\n",
    "series_info_meta = fidap.sql(\"\"\"\n",
    "SELECT * EXCEPT(is_generated, generation_expression, is_stored, is_updatable)\n",
    "FROM fidap-301014.fred.INFORMATION_SCHEMA.COLUMNS\n",
    "WHERE table_name = 'series_info'\n",
    "\"\"\")\n",
    "\n",
    "series_observations_meta = fidap.sql(\"\"\"\n",
    "SELECT * EXCEPT(is_generated, generation_expression, is_stored, is_updatable)\n",
    "FROM fidap-301014.fred.INFORMATION_SCHEMA.COLUMNS\n",
    "WHERE table_name = 'series_observations'\n",
    "\"\"\")"
   ]
  },
  {
   "cell_type": "markdown",
   "metadata": {},
   "source": [
    "Suppose I want information on these few tables:  \n",
    "1) Monthly Supply of Houses in the United States  \n",
    "2) New Privately-Owned Housing Units Started: Total Units  \n",
    "3) New Houses Sold by Stage of Construction, Total  \n",
    "4) New One Family Houses for Sale in the United States  \n",
    "5) Producer Price Index by Commodity: Lumber and Wood Products: Hardwood Lumber  \n",
    "6) Producer Price Index by Commodity: Lumber and Wood Products: Oak and Maple Hardwood Flooring    \n",
    "  \n",
    "I can obtain some information from the `series_info` table of the `fred` project.  "
   ]
  },
  {
   "cell_type": "code",
   "execution_count": 49,
   "metadata": {},
   "outputs": [],
   "source": [
    "housing_data = fidap.sql(\"\"\"\n",
    "SELECT *\n",
    "FROM fidap-301014.fred.series_info\n",
    "WHERE series_id IN ('HOUST', 'MSACSR', 'NHSDPTS', 'HNFSUSNSA', 'WPU0812', 'WPU08120401', 'COMPUTSA', 'UNDCONTSA', 'RELDCBMO27SBOG', 'H8B1026NCBCMG', 'MRTSSM444USN', 'MRTSSM4423XUSS', 'PRRESCONS', 'MPCV00XXS')\n",
    "\"\"\")"
   ]
  },
  {
   "cell_type": "markdown",
   "metadata": {},
   "source": [
    "Now that I know what I am looking at, I can begin querying in earnest. What I would really like to find out is whether we can eyeball any relationship between supply of houses and construction of new houses. A quick inspection of the data tells us that we can get most of the data starting from the 1960s except for `Producer Price Index by Commodity: Lumber and Wood Products: Oak and Maple Hardwood Flooring` where the earliest records were from 1984.   "
   ]
  },
  {
   "cell_type": "code",
   "execution_count": 42,
   "metadata": {},
   "outputs": [],
   "source": [
    "# query for housing supply data \n",
    "monthly_supply_df = fidap.sql(\"\"\"\n",
    "SELECT series_id, date, value\n",
    "FROM fidap-301014.fred.series_observations\n",
    "WHERE series_id = 'MSACSR';\n",
    "\"\"\")\n",
    "\n",
    "flooring_pricing = fidap.sql(\"\"\"\n",
    "SELECT series_id, date, value\n",
    "FROM fidap-301014.fred.series_observations\n",
    "WHERE series_id = 'WPU080120401'\n",
    "\"\"\")\n",
    "\n",
    "# houses sold\n",
    "new_houses_sold = fidap.sql(\"\"\"\n",
    "SELECT series_id, date, value\n",
    "FROM fidap-301014.fred.series_observations\n",
    "WHERE series_id = 'NHSDPTS'\n",
    "\"\"\")"
   ]
  },
  {
   "cell_type": "markdown",
   "metadata": {},
   "source": [
    "The query above was a dud. There was no such series available in the table."
   ]
  },
  {
   "cell_type": "code",
   "execution_count": 43,
   "metadata": {},
   "outputs": [],
   "source": [
    "# id the series available \n",
    "available_series = fidap.sql(\"\"\"\n",
    "WITH all_series AS (\n",
    "SELECT DISTINCT series_id \n",
    "FROM fidap-301014.fred.series_observations\n",
    ")\n",
    "\n",
    "SELECT * \n",
    "FROM fidap-301014.fred.series_info AS i\n",
    "INNER JOIN all_series as s\n",
    "ON s.series_id = i.series_id;\n",
    "\"\"\")"
   ]
  },
  {
   "cell_type": "markdown",
   "metadata": {},
   "source": [
    "A quick manual trawl through the data suggested that some datasets are not imported. But that is okay, we can work with others instead. It is a little weird because we know that they exist from the `series_observations` table.  "
   ]
  },
  {
   "cell_type": "code",
   "execution_count": 50,
   "metadata": {},
   "outputs": [],
   "source": [
    "# housing construction has started\n",
    "housing_started = fidap.sql(\"\"\"\n",
    "SELECT series_id,date, value\n",
    "FROM fidap-301014.fred.series_observations\n",
    "WHERE series_id = 'HOUST';\n",
    "\"\"\")\n",
    "\n",
    "# lumber pricing index\n",
    "hardwood_lumber_pricing = fidap.sql(\"\"\"\n",
    "SELECT series_id, date, value\n",
    "FROM fidap-301014.fred.series_observations\n",
    "WHERE series_id = 'WPU0812'; \n",
    "\"\"\")\n",
    "\n",
    "# real estate loans \n",
    "delta_real_estate_loans = fidap.sql(\"\"\"\n",
    "SELECT series_id, date, value\n",
    "FROM fidap-301014.fred.series_observations\n",
    "WHERE series_id = 'H8B1026NCBCMG'; \n",
    "\"\"\")\n",
    "\n",
    "# private residential spending\n",
    "building_materials_expenditure = fidap.sql(\"\"\"\n",
    "SELECT series_id, date, value\n",
    "FROM fidap-301014.fred.series_observations\n",
    "WHERE series_id = 'MRTSSM444USN'; \n",
    "\"\"\")\n",
    "\n",
    "furnishing_expenditure = fidap.sql(\"\"\"\n",
    "SELECT series_id, date, value\n",
    "FROM fidap-301014.fred.series_observations\n",
    "WHERE series_id = 'MRTSSM4423XUSS'; \n",
    "\"\"\")\n",
    "\n",
    "# housing expenditure\n",
    "private_residential_expenditure = fidap.sql(\"\"\"\n",
    "SELECT series_id, date, value\n",
    "FROM fidap-301014.fred.series_observations\n",
    "WHERE series_id = 'PRRESCONS'; \n",
    "\"\"\")\n",
    "\n"
   ]
  },
  {
   "cell_type": "code",
   "execution_count": 48,
   "metadata": {},
   "outputs": [],
   "source": []
  },
  {
   "cell_type": "code",
   "execution_count": 35,
   "metadata": {},
   "outputs": [
    {
     "name": "stdout",
     "output_type": "stream",
     "text": [
      "  series_id  ... category_id\n",
      "0    MSACSR  ...       32426\n",
      "1     HOUST  ...       32302\n",
      "\n",
      "[2 rows x 17 columns]\n"
     ]
    }
   ],
   "source": [
    "print(housing_data)"
   ]
  }
 ],
 "metadata": {
  "kernelspec": {
   "display_name": "Python 3 (Spyder)",
   "language": "python3",
   "name": "python3"
  },
  "language_info": {
   "codemirror_mode": {
    "name": "ipython",
    "version": 3
   },
   "file_extension": ".py",
   "mimetype": "text/x-python",
   "name": "python",
   "nbconvert_exporter": "python",
   "pygments_lexer": "ipython3",
   "version": "3.7.6"
  },
  "varInspector": {
   "cols": {
    "lenName": 16,
    "lenType": 16,
    "lenVar": 40
   },
   "kernels_config": {
    "python": {
     "delete_cmd_postfix": "",
     "delete_cmd_prefix": "del ",
     "library": "var_list.py",
     "varRefreshCmd": "print(var_dic_list())"
    },
    "r": {
     "delete_cmd_postfix": ") ",
     "delete_cmd_prefix": "rm(",
     "library": "var_list.r",
     "varRefreshCmd": "cat(var_dic_list()) "
    }
   },
   "types_to_exclude": [
    "module",
    "function",
    "builtin_function_or_method",
    "instance",
    "_Feature"
   ],
   "window_display": false
  }
 },
 "nbformat": 4,
 "nbformat_minor": 4
}
