{
 "cells": [
  {
   "cell_type": "code",
   "execution_count": null,
   "metadata": {},
   "outputs": [],
   "source": [
    "import datetime\n",
    "from datetime import timedelta,date\n",
    "from pyspark.sql.types import *\n",
    "from pyspark.sql.functions import *\n",
    "import pyspark\n",
    "import psycopg2\n",
    "import sys\n",
    "from delta.tables import *\n",
    "import pandas as pd\n",
    "import urllib \n",
    "from google.oauth2 import service_account"
   ]
  },
  {
   "cell_type": "code",
   "execution_count": null,
   "metadata": {},
   "outputs": [],
   "source": [
    "def year_month_replacement(year_month):\n",
    "    year_month = year_month.replace(\"_\", \"-\")\n",
    "    year_month = year_month + \"-01\"\n",
    "    eop = pd.Period(year_month, freq = 'M').end_time.date()\n",
    "    return eop\n",
    "\n",
    "def apartment_list_df(url, city = False):\n",
    "    \n",
    "    # read into pd\n",
    "    rental_df = pd.read_csv(url)\n",
    "\n",
    "    # filter\n",
    "    rental_overall_df = rental_df.loc[(rental_df['Bedroom_Size'] == \"_Overall\"),]\n",
    "    rental_overall_df.Bedroom_Size = rental_overall_df.Bedroom_Size.replace(\"_Overall\", \"Overall\")\n",
    "    rental_overall_df.FIPS_Code = rental_overall_df.FIPS_Code.astype(str)\n",
    "\n",
    "    # get columns\n",
    "    columns = rental_overall_df.columns[4:].tolist()\n",
    "  \n",
    "    if city == True:\n",
    "        rental_overall_df_long = rental_overall_df.melt(id_vars=['City_Name', 'FIPS_Code'], value_vars=columns, value_name='Rent_Est', var_name='Year_Month')\n",
    "    else:\n",
    "        rental_overall_df_long = rental_overall_df.melt(id_vars=['CBSA_Name', 'FIPS_Code'], value_vars=columns, value_name='Rent_Est', var_name='Year_Month')\n",
    "        \n",
    "    # pivot longer\n",
    "    rental_overall_df_long_removed = rental_overall_df_long.loc[(rental_overall_df_long['Rent_Est'] != \"NA\")].copy()\n",
    "    fips_code = rental_overall_df_long_removed['FIPS_Code'].str.split('.', n = 1, expand = True)\n",
    "    rental_overall_df_long_removed['FIPS'] = fips_code[0]\n",
    "    rental_overall_df_long_removed.drop(columns = 'FIPS_Code', inplace = True)\n",
    "    rental_overall_df_long_removed['Date'] = rental_overall_df_long_removed.Year_Month.apply(year_month_replacement)\n",
    "  \n",
    "    if city == True:\n",
    "        rental_overall_df_long_removed.FIPS = rental_overall_df_long_removed.FIPS.str.rjust(7, '0')\n",
    "\n",
    "        # extract necessary columns \n",
    "        state = rental_overall_df_long_removed['City_Name'].str.split(', ', n = 1, expand = True)\n",
    "        rental_overall_df_long_removed['State'] = state[1]\n",
    "        rental_overall_df_long_removed = rental_overall_df_long_removed[['City_Name', 'State', 'FIPS', 'Date', 'Rent_Est']]\n",
    "    else:\n",
    "        rental_overall_df_long_removed.FIPS = rental_overall_df_long_removed.FIPS.str.rjust(5, '0')\n",
    "        # extract necessary columns \n",
    "        rental_overall_df_long_removed = rental_overall_df_long_removed[['CBSA_Name', 'FIPS', 'Date', 'Rent_Est']]\n",
    "  \n",
    "    # strip whitespace from rental estimates column\n",
    "    rental_overall_df_long_removed['Rent_Est'] = rental_overall_df_long_removed['Rent_Est'].str.strip()\n",
    "    rental_overall_df_long_removed['Rent_Est'] = rental_overall_df_long_removed['Rent_Est'].replace(\"NA\", None)\n",
    "    rental_overall_df_long_removed = rental_overall_df_long_removed[rental_overall_df_long_removed.Rent_Est.notnull()]\n",
    "  \n",
    "    rental_overall_df_long_removed.Rent_Est = rental_overall_df_long_removed.Rent_Est.astype(float)\n",
    "   \n",
    "    # convert to pyspark_df\n",
    "    rental_pyspark_df = spark.createDataFrame(rental_overall_df_long_removed)\n",
    "    rental_pyspark_df1 = rental_pyspark_df.where(\"Rent_Est NOT LIKE '%NA%'\")\n",
    "  \n",
    "    return rental_pyspark_df1"
   ]
  },
  {
   "cell_type": "code",
   "execution_count": null,
   "metadata": {},
   "outputs": [],
   "source": [
    "url = \"https://assets.ctfassets.net/jeox55pd4d8n/7psvfQ32X9RKlNO70pdsoo/74eb203d335ff6ee8fbb59f5af14b019/Apartment_List_Rent_Estimates_City_2021_8.csv\"\n",
    "\n",
    "# read\n",
    "city_rental_pyspark_df = apartment_list_df(url, city = True)\n",
    "\n",
    "cbsa_url = 'https://assets.ctfassets.net/jeox55pd4d8n/7yg8ugpkKEs9pgd21Ixxxz/bd9553d2bb2eff9bc52ac27d04c0ae70/Apartment_List_Rent_Estimates_CBSA_2021_8.csv'\n",
    "\n",
    "# read\n",
    "cbsa_rental_pyspark_df = apartment_list_df(cbsa_url, city = False)"
   ]
  }
 ],
 "metadata": {
  "kernelspec": {
   "display_name": "Python 3 (Spyder)",
   "language": "python3",
   "name": "python3"
  },
  "language_info": {
   "codemirror_mode": {
    "name": "ipython",
    "version": 3
   },
   "file_extension": ".py",
   "mimetype": "text/x-python",
   "name": "python",
   "nbconvert_exporter": "python",
   "pygments_lexer": "ipython3",
   "version": "3.7.6"
  },
  "varInspector": {
   "cols": {
    "lenName": 16,
    "lenType": 16,
    "lenVar": 40
   },
   "kernels_config": {
    "python": {
     "delete_cmd_postfix": "",
     "delete_cmd_prefix": "del ",
     "library": "var_list.py",
     "varRefreshCmd": "print(var_dic_list())"
    },
    "r": {
     "delete_cmd_postfix": ") ",
     "delete_cmd_prefix": "rm(",
     "library": "var_list.r",
     "varRefreshCmd": "cat(var_dic_list()) "
    }
   },
   "types_to_exclude": [
    "module",
    "function",
    "builtin_function_or_method",
    "instance",
    "_Feature"
   ],
   "window_display": false
  }
 },
 "nbformat": 4,
 "nbformat_minor": 4
}
