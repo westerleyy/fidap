{
 "cells": [
  {
   "cell_type": "markdown",
   "metadata": {},
   "source": [
    "### Microplaces and Violence  \n",
    "  \n",
    "Violent crime in America rose in 2020. The Economist suggested in a June 5th article, \"Reality bites\" that crime is geographically concentrated in certain neighborhoods. \n",
    "  \n",
    "The Department of Public Safety in Denver, CO responded with a letter stating that \"violence is just concentrated in just a few microplaces, each about two blocks square. In Denver 38 microplaces, equivalent to 1.5% of our landmass, accounted for about 25% of all violence in 2020.\"  \n",
    "  \n",
    "Can we say the same of Chicago, IL?   "
   ]
  },
  {
   "cell_type": "code",
   "execution_count": 2,
   "metadata": {},
   "outputs": [],
   "source": [
    "import pandas as pd\n",
    "import numpy as np\n",
    "import geopandas as gpd\n",
    "import matplotlib.pyplot as plt\n",
    "import seaborn as sns\n",
    "import fidap\n",
    "from config import api_key\n",
    "\n",
    "# instantiate api connection\n",
    "fidap = fidap.fidap_client(api_key=api_key)"
   ]
  },
  {
   "cell_type": "code",
   "execution_count": 4,
   "metadata": {},
   "outputs": [],
   "source": [
    "chicago_violent_crime_2020 = fidap.sql(\"\"\"\n",
    "SELECT case_number, primary_type, latitude, longitude, date, description  \n",
    "FROM bigquery-public-data.chicago_crime.crime\n",
    "WHERE year = 2020\n",
    "AND location IS NOT NULL\n",
    "AND primary_type IN ('HOMICIDE', 'CRIM SEXUAL ASSAULT', 'ROBBERY', 'BATTERY', 'ASSAULT', 'ARSON', 'KIDNAPPING', 'INTIMIDATION')\n",
    "\"\"\")"
   ]
  },
  {
   "cell_type": "markdown",
   "metadata": {},
   "source": [
    "Potential Avenues Moving Forward:  \n",
    "1) KMeans to identify clusters  \n",
    "2) Group them by census block groups to identify block groups that are particularly vulnerable to such crime  \n",
    "3) Figure out why?  "
   ]
  }
 ],
 "metadata": {
  "kernelspec": {
   "display_name": "Python 3 (Spyder)",
   "language": "python3",
   "name": "python3"
  },
  "language_info": {
   "codemirror_mode": {
    "name": "ipython",
    "version": 3
   },
   "file_extension": ".py",
   "mimetype": "text/x-python",
   "name": "python",
   "nbconvert_exporter": "python",
   "pygments_lexer": "ipython3",
   "version": "3.7.6"
  },
  "varInspector": {
   "cols": {
    "lenName": 16,
    "lenType": 16,
    "lenVar": 40
   },
   "kernels_config": {
    "python": {
     "delete_cmd_postfix": "",
     "delete_cmd_prefix": "del ",
     "library": "var_list.py",
     "varRefreshCmd": "print(var_dic_list())"
    },
    "r": {
     "delete_cmd_postfix": ") ",
     "delete_cmd_prefix": "rm(",
     "library": "var_list.r",
     "varRefreshCmd": "cat(var_dic_list()) "
    }
   },
   "types_to_exclude": [
    "module",
    "function",
    "builtin_function_or_method",
    "instance",
    "_Feature"
   ],
   "window_display": false
  }
 },
 "nbformat": 4,
 "nbformat_minor": 4
}
