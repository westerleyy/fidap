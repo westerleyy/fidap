{
 "cells": [
  {
   "cell_type": "code",
   "execution_count": 1,
   "metadata": {},
   "outputs": [],
   "source": [
    "from fidap import fidap_client\n",
    "from config import api_key\n",
    "import pandas as pd\n",
    "\n",
    "# instantiate api connection\n",
    "fidap = fidap_client(api_key=api_key)"
   ]
  },
  {
   "cell_type": "markdown",
   "metadata": {},
   "source": [
    "### Zip Codes to Census Tracts  \n",
    "  \n",
    "Zip Codes are maintained by the USPS and can be changed as frequently as every quarter. The USPS Zip Codes are associated with mail delivery routes and service areas than strict geospatial statistical units to be maintained over time.   \n",
    "  \n",
    "On the other hand, Census Tracts, Block Groups, and Blocks are stable statistical units maintained by the US Census Bureau. A glossary of their definitions can be found [here](https://www.census.gov/programs-surveys/geography/about/glossary.html).   \n",
    "  \n",
    "However, as data can be reported on either scale, HUD has created a crosswalk table that lists the USPS Zip Code that each Census Tract intersects with. In other words, some Census Tracts can intersect multiple Zip Codes. "
   ]
  },
  {
   "cell_type": "code",
   "execution_count": 4,
   "metadata": {
    "collapsed": true
   },
   "outputs": [
    {
     "data": {
      "text/html": [
       "<div>\n",
       "<style scoped>\n",
       "    .dataframe tbody tr th:only-of-type {\n",
       "        vertical-align: middle;\n",
       "    }\n",
       "\n",
       "    .dataframe tbody tr th {\n",
       "        vertical-align: top;\n",
       "    }\n",
       "\n",
       "    .dataframe thead th {\n",
       "        text-align: right;\n",
       "    }\n",
       "</style>\n",
       "<table border=\"1\" class=\"dataframe\">\n",
       "  <thead>\n",
       "    <tr style=\"text-align: right;\">\n",
       "      <th></th>\n",
       "      <th>census_tract_geoid</th>\n",
       "      <th>zip_count</th>\n",
       "    </tr>\n",
       "  </thead>\n",
       "  <tbody>\n",
       "    <tr>\n",
       "      <th>228</th>\n",
       "      <td>11001006202</td>\n",
       "      <td>44</td>\n",
       "    </tr>\n",
       "    <tr>\n",
       "      <th>233</th>\n",
       "      <td>11001010700</td>\n",
       "      <td>30</td>\n",
       "    </tr>\n",
       "    <tr>\n",
       "      <th>236</th>\n",
       "      <td>11001005800</td>\n",
       "      <td>29</td>\n",
       "    </tr>\n",
       "    <tr>\n",
       "      <th>238</th>\n",
       "      <td>11001010200</td>\n",
       "      <td>28</td>\n",
       "    </tr>\n",
       "    <tr>\n",
       "      <th>270</th>\n",
       "      <td>54011000600</td>\n",
       "      <td>25</td>\n",
       "    </tr>\n",
       "    <tr>\n",
       "      <th>227</th>\n",
       "      <td>54039000900</td>\n",
       "      <td>23</td>\n",
       "    </tr>\n",
       "    <tr>\n",
       "      <th>265</th>\n",
       "      <td>18003001300</td>\n",
       "      <td>22</td>\n",
       "    </tr>\n",
       "    <tr>\n",
       "      <th>30</th>\n",
       "      <td>51770000602</td>\n",
       "      <td>20</td>\n",
       "    </tr>\n",
       "    <tr>\n",
       "      <th>237</th>\n",
       "      <td>11001010100</td>\n",
       "      <td>20</td>\n",
       "    </tr>\n",
       "    <tr>\n",
       "      <th>243</th>\n",
       "      <td>36001001100</td>\n",
       "      <td>19</td>\n",
       "    </tr>\n",
       "  </tbody>\n",
       "</table>\n",
       "</div>"
      ],
      "text/plain": [
       "     census_tract_geoid  zip_count\n",
       "228         11001006202         44\n",
       "233         11001010700         30\n",
       "236         11001005800         29\n",
       "238         11001010200         28\n",
       "270         54011000600         25\n",
       "227         54039000900         23\n",
       "265         18003001300         22\n",
       "30          51770000602         20\n",
       "237         11001010100         20\n",
       "243         36001001100         19"
      ]
     },
     "execution_count": 4,
     "metadata": {},
     "output_type": "execute_result"
    }
   ],
   "source": [
    "census_tracts_zipcode_count = fidap.sql(\"\"\"\n",
    "WITH zipcode_count AS (\n",
    "SELECT census_tract_geoid, COUNT(zip_code) AS zip_count\n",
    "FROM  bigquery-public-data.hud_zipcode_crosswalk.zipcode_to_census_tracts\n",
    "GROUP BY census_tract_geoid)\n",
    "\n",
    "SELECT *\n",
    "FROM zipcode_count\n",
    "WHERE zip_count > 1\n",
    "\"\"\")\n",
    "\n",
    "census_tracts_zipcode_count.sort_values('zip_count', ascending=False).head(n = 10)"
   ]
  },
  {
   "cell_type": "markdown",
   "metadata": {},
   "source": [
    "In the table above, I looked at the number of zip codes that each Census Tract intersects with and sorted them in descending order. The top four are Tracts found in DC, followed by two others in West Virginia. "
   ]
  },
  {
   "cell_type": "markdown",
   "metadata": {},
   "source": [
    "There is another geospatial statistical concept/product that we might come into contact with - Zip Code Tabulation Areas (ZCTAs). An in-depth explanation can be found [here](https://www.census.gov/programs-surveys/geography/guidance/geo-areas/zctas.html).  \n",
    "  \n",
    "To cut a long story short, ZCTAs are created by the US Census Bureau to associate each Census Block with the Zip Code that occurred most commonly among addresses in that Block. As I have pointed out above, each Tract (and Block) can intersect multiple Zip Codes. As ZCTAs pick the most commonly occurring Zip Code, there can be cases that an address in a block is assigned to a Zip Code that is different to its USPS mailing address Zip Code. For the most part however, the ZCTA code is th same as the ZIP code for an area.   \n",
    "  \n",
    "Fidap should pipe in the ZCTA data file found [here](https://www.census.gov/cgi-bin/geo/shapefiles/index.php?year=2020&layergroup=ZIP+Code+Tabulation+Areas).  \n",
    "  \n",
    "As ZIP codes/ZCTAs are usually larger in size than Census Tracts, it can be difficult or downright impossible to subdivide or break down data collected at the scale of ZIP Codes or ZCTAs to Census Tracts and Blocks without some assumptions made along the way.  \n",
    "  \n",
    "On the flip side, data collected on the scale of Census Blocks can sometimes be aggregated to approximate the ZCTA or ZIP Code equivalent.   "
   ]
  }
 ],
 "metadata": {
  "kernelspec": {
   "display_name": "Python 3 (Spyder)",
   "language": "python3",
   "name": "python3"
  },
  "language_info": {
   "codemirror_mode": {
    "name": "ipython",
    "version": 3
   },
   "file_extension": ".py",
   "mimetype": "text/x-python",
   "name": "python",
   "nbconvert_exporter": "python",
   "pygments_lexer": "ipython3",
   "version": "3.7.6"
  },
  "varInspector": {
   "cols": {
    "lenName": 16,
    "lenType": 16,
    "lenVar": 40
   },
   "kernels_config": {
    "python": {
     "delete_cmd_postfix": "",
     "delete_cmd_prefix": "del ",
     "library": "var_list.py",
     "varRefreshCmd": "print(var_dic_list())"
    },
    "r": {
     "delete_cmd_postfix": ") ",
     "delete_cmd_prefix": "rm(",
     "library": "var_list.r",
     "varRefreshCmd": "cat(var_dic_list()) "
    }
   },
   "types_to_exclude": [
    "module",
    "function",
    "builtin_function_or_method",
    "instance",
    "_Feature"
   ],
   "window_display": false
  }
 },
 "nbformat": 4,
 "nbformat_minor": 4
}
