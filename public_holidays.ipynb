{
 "cells": [
  {
   "cell_type": "code",
   "execution_count": 2,
   "metadata": {},
   "outputs": [],
   "source": [
    "import pandas as pd\n",
    "import fidap\n",
    "from config import api_key\n",
    "import altair as alt\n",
    "\n",
    "# instantiate api connection\n",
    "fidap = fidap.fidap_client(api_key=api_key)"
   ]
  },
  {
   "cell_type": "markdown",
   "metadata": {},
   "source": [
    "### Public Holidays in 2022  \n",
    "  \n",
    "Are the same holidays celebrated around the world? Do some countries have more public holidays than others? Are some weeks of the year more likely to have public holidays?  \n",
    "  \n",
    "Granted, our dataset does not have a lot of countries to start with, just 34. But we can start by looking at the number of holidays that these 34 countries have.    "
   ]
  },
  {
   "cell_type": "code",
   "execution_count": 6,
   "metadata": {},
   "outputs": [],
   "source": [
    "ph_global_2022 = fidap.sql(\"\"\"\n",
    "SELECT COUNT(*) AS n_public_holidays, ph.countryRegionCode, c.country\n",
    "FROM fidap-301014.azure_open_datasets.public_holidays AS ph\n",
    "INNER JOIN gdelt-bq.extra.countryinfo2 AS c\n",
    "ON ph.countryRegionCode = c.iso\n",
    "WHERE EXTRACT(YEAR FROM ph.date) = 2022\n",
    "AND ph.countryRegionCode IS NOT NULL\n",
    "GROUP BY ph.countryRegionCode, c.country\n",
    "ORDER BY n_public_holidays DESC;\n",
    "\"\"\")"
   ]
  },
  {
   "cell_type": "code",
   "execution_count": 11,
   "metadata": {},
   "outputs": [
    {
     "data": {
      "text/html": [
       "\n",
       "<div id=\"altair-viz-e9b39831bfc74c649bcfdabdd401a9bf\"></div>\n",
       "<script type=\"text/javascript\">\n",
       "  (function(spec, embedOpt){\n",
       "    let outputDiv = document.currentScript.previousElementSibling;\n",
       "    if (outputDiv.id !== \"altair-viz-e9b39831bfc74c649bcfdabdd401a9bf\") {\n",
       "      outputDiv = document.getElementById(\"altair-viz-e9b39831bfc74c649bcfdabdd401a9bf\");\n",
       "    }\n",
       "    const paths = {\n",
       "      \"vega\": \"https://cdn.jsdelivr.net/npm//vega@5?noext\",\n",
       "      \"vega-lib\": \"https://cdn.jsdelivr.net/npm//vega-lib?noext\",\n",
       "      \"vega-lite\": \"https://cdn.jsdelivr.net/npm//vega-lite@4.8.1?noext\",\n",
       "      \"vega-embed\": \"https://cdn.jsdelivr.net/npm//vega-embed@6?noext\",\n",
       "    };\n",
       "\n",
       "    function loadScript(lib) {\n",
       "      return new Promise(function(resolve, reject) {\n",
       "        var s = document.createElement('script');\n",
       "        s.src = paths[lib];\n",
       "        s.async = true;\n",
       "        s.onload = () => resolve(paths[lib]);\n",
       "        s.onerror = () => reject(`Error loading script: ${paths[lib]}`);\n",
       "        document.getElementsByTagName(\"head\")[0].appendChild(s);\n",
       "      });\n",
       "    }\n",
       "\n",
       "    function showError(err) {\n",
       "      outputDiv.innerHTML = `<div class=\"error\" style=\"color:red;\">${err}</div>`;\n",
       "      throw err;\n",
       "    }\n",
       "\n",
       "    function displayChart(vegaEmbed) {\n",
       "      vegaEmbed(outputDiv, spec, embedOpt)\n",
       "        .catch(err => showError(`Javascript Error: ${err.message}<br>This usually means there's a typo in your chart specification. See the javascript console for the full traceback.`));\n",
       "    }\n",
       "\n",
       "    if(typeof define === \"function\" && define.amd) {\n",
       "      requirejs.config({paths});\n",
       "      require([\"vega-embed\"], displayChart, err => showError(`Error loading script: ${err.message}`));\n",
       "    } else if (typeof vegaEmbed === \"function\") {\n",
       "      displayChart(vegaEmbed);\n",
       "    } else {\n",
       "      loadScript(\"vega\")\n",
       "        .then(() => loadScript(\"vega-lite\"))\n",
       "        .then(() => loadScript(\"vega-embed\"))\n",
       "        .catch(showError)\n",
       "        .then(() => displayChart(vegaEmbed));\n",
       "    }\n",
       "  })({\"config\": {\"view\": {\"continuousWidth\": 400, \"continuousHeight\": 300}}, \"layer\": [{\"mark\": \"bar\", \"encoding\": {\"x\": {\"type\": \"quantitative\", \"field\": \"n_public_holidays\"}, \"y\": {\"type\": \"nominal\", \"field\": \"country\", \"sort\": \"-x\"}}}, {\"mark\": {\"type\": \"rule\", \"color\": \"red\"}, \"encoding\": {\"x\": {\"type\": \"quantitative\", \"aggregate\": \"mean\", \"field\": \"n_public_holidays\"}}}], \"data\": {\"name\": \"data-34af292dd61e82eb0d5b6000a0019efd\"}, \"height\": 700, \"$schema\": \"https://vega.github.io/schema/vega-lite/v4.8.1.json\", \"datasets\": {\"data-34af292dd61e82eb0d5b6000a0019efd\": [{\"n_public_holidays\": 64, \"countryRegionCode\": \"SE\", \"country\": \"Sweden\"}, {\"n_public_holidays\": 60, \"countryRegionCode\": \"NO\", \"country\": \"Norway\"}, {\"n_public_holidays\": 18, \"countryRegionCode\": \"AR\", \"country\": \"Argentina\"}, {\"n_public_holidays\": 17, \"countryRegionCode\": \"CO\", \"country\": \"Colombia\"}, {\"n_public_holidays\": 16, \"countryRegionCode\": \"JP\", \"country\": \"Japan\"}, {\"n_public_holidays\": 16, \"countryRegionCode\": \"GB\", \"country\": \"United Kingdom\"}, {\"n_public_holidays\": 15, \"countryRegionCode\": \"FI\", \"country\": \"Finland\"}, {\"n_public_holidays\": 15, \"countryRegionCode\": \"HU\", \"country\": \"Hungary\"}, {\"n_public_holidays\": 14, \"countryRegionCode\": \"HR\", \"country\": \"Croatia\"}, {\"n_public_holidays\": 14, \"countryRegionCode\": \"NZ\", \"country\": \"New Zealand\"}, {\"n_public_holidays\": 13, \"countryRegionCode\": \"CZ\", \"country\": \"Czechia\"}, {\"n_public_holidays\": 13, \"countryRegionCode\": \"BR\", \"country\": \"Brazil\"}, {\"n_public_holidays\": 13, \"countryRegionCode\": \"PL\", \"country\": \"Poland\"}, {\"n_public_holidays\": 13, \"countryRegionCode\": \"AT\", \"country\": \"Austria\"}, {\"n_public_holidays\": 13, \"countryRegionCode\": \"PT\", \"country\": \"Portugal\"}, {\"n_public_holidays\": 13, \"countryRegionCode\": \"SI\", \"country\": \"Slovenia\"}, {\"n_public_holidays\": 13, \"countryRegionCode\": \"ZA\", \"country\": \"South Africa\"}, {\"n_public_holidays\": 12, \"countryRegionCode\": \"IT\", \"country\": \"Italy\"}, {\"n_public_holidays\": 12, \"countryRegionCode\": \"BE\", \"country\": \"Belgium\"}, {\"n_public_holidays\": 12, \"countryRegionCode\": \"DK\", \"country\": \"Denmark\"}, {\"n_public_holidays\": 12, \"countryRegionCode\": \"IM\", \"country\": \"Isle of Man\"}, {\"n_public_holidays\": 11, \"countryRegionCode\": \"CA\", \"country\": \"Canada\"}, {\"n_public_holidays\": 11, \"countryRegionCode\": \"FR\", \"country\": \"France\"}, {\"n_public_holidays\": 11, \"countryRegionCode\": \"MX\", \"country\": \"Mexico\"}, {\"n_public_holidays\": 11, \"countryRegionCode\": \"IE\", \"country\": \"Ireland\"}, {\"n_public_holidays\": 11, \"countryRegionCode\": \"UA\", \"country\": \"Ukraine\"}, {\"n_public_holidays\": 11, \"countryRegionCode\": \"US\", \"country\": \"United States\"}, {\"n_public_holidays\": 10, \"countryRegionCode\": \"BY\", \"country\": \"Belarus\"}, {\"n_public_holidays\": 10, \"countryRegionCode\": \"NL\", \"country\": \"Netherlands\"}, {\"n_public_holidays\": 9, \"countryRegionCode\": \"ES\", \"country\": \"Spain\"}, {\"n_public_holidays\": 9, \"countryRegionCode\": \"DE\", \"country\": \"Germany\"}, {\"n_public_holidays\": 9, \"countryRegionCode\": \"AU\", \"country\": \"Australia\"}, {\"n_public_holidays\": 9, \"countryRegionCode\": \"CH\", \"country\": \"Switzerland\"}, {\"n_public_holidays\": 6, \"countryRegionCode\": \"IN\", \"country\": \"India\"}]}}, {\"mode\": \"vega-lite\"});\n",
       "</script>"
      ],
      "text/plain": [
       "alt.LayerChart(...)"
      ]
     },
     "execution_count": 11,
     "metadata": {},
     "output_type": "execute_result"
    }
   ],
   "source": [
    "bar = alt.Chart(ph_global_2022).mark_bar().encode(\n",
    "    x = 'n_public_holidays',\n",
    "    y = alt.Y('country', sort = '-x')\n",
    ")\n",
    "rule = alt.Chart(ph_global_2022).mark_rule(color = 'red').encode(\n",
    "    x = 'mean(n_public_holidays)'\n",
    ")\n",
    "\n",
    "(bar + rule).properties(height = 700)"
   ]
  },
  {
   "cell_type": "markdown",
   "metadata": {},
   "source": [
    "Next, we can look at the weeks of 2022 when there will be a public holiday. "
   ]
  },
  {
   "cell_type": "code",
   "execution_count": 12,
   "metadata": {},
   "outputs": [],
   "source": [
    "n_holidays_by_week = fidap.sql(\"\"\"\n",
    "SELECT COUNT(*) AS n_holidays, EXTRACT(WEEK FROM ph.date) AS n_week\n",
    "FROM fidap-301014.azure_open_datasets.public_holidays AS ph\n",
    "WHERE EXTRACT(YEAR FROM ph.date) = 2022\n",
    "GROUP BY n_week;\n",
    "\"\"\")"
   ]
  },
  {
   "cell_type": "code",
   "execution_count": 13,
   "metadata": {},
   "outputs": [
    {
     "data": {
      "text/html": [
       "\n",
       "<div id=\"altair-viz-c0a9b3530fdb4e47b29e290290c3f2d4\"></div>\n",
       "<script type=\"text/javascript\">\n",
       "  (function(spec, embedOpt){\n",
       "    let outputDiv = document.currentScript.previousElementSibling;\n",
       "    if (outputDiv.id !== \"altair-viz-c0a9b3530fdb4e47b29e290290c3f2d4\") {\n",
       "      outputDiv = document.getElementById(\"altair-viz-c0a9b3530fdb4e47b29e290290c3f2d4\");\n",
       "    }\n",
       "    const paths = {\n",
       "      \"vega\": \"https://cdn.jsdelivr.net/npm//vega@5?noext\",\n",
       "      \"vega-lib\": \"https://cdn.jsdelivr.net/npm//vega-lib?noext\",\n",
       "      \"vega-lite\": \"https://cdn.jsdelivr.net/npm//vega-lite@4.8.1?noext\",\n",
       "      \"vega-embed\": \"https://cdn.jsdelivr.net/npm//vega-embed@6?noext\",\n",
       "    };\n",
       "\n",
       "    function loadScript(lib) {\n",
       "      return new Promise(function(resolve, reject) {\n",
       "        var s = document.createElement('script');\n",
       "        s.src = paths[lib];\n",
       "        s.async = true;\n",
       "        s.onload = () => resolve(paths[lib]);\n",
       "        s.onerror = () => reject(`Error loading script: ${paths[lib]}`);\n",
       "        document.getElementsByTagName(\"head\")[0].appendChild(s);\n",
       "      });\n",
       "    }\n",
       "\n",
       "    function showError(err) {\n",
       "      outputDiv.innerHTML = `<div class=\"error\" style=\"color:red;\">${err}</div>`;\n",
       "      throw err;\n",
       "    }\n",
       "\n",
       "    function displayChart(vegaEmbed) {\n",
       "      vegaEmbed(outputDiv, spec, embedOpt)\n",
       "        .catch(err => showError(`Javascript Error: ${err.message}<br>This usually means there's a typo in your chart specification. See the javascript console for the full traceback.`));\n",
       "    }\n",
       "\n",
       "    if(typeof define === \"function\" && define.amd) {\n",
       "      requirejs.config({paths});\n",
       "      require([\"vega-embed\"], displayChart, err => showError(`Error loading script: ${err.message}`));\n",
       "    } else if (typeof vegaEmbed === \"function\") {\n",
       "      displayChart(vegaEmbed);\n",
       "    } else {\n",
       "      loadScript(\"vega\")\n",
       "        .then(() => loadScript(\"vega-lite\"))\n",
       "        .then(() => loadScript(\"vega-embed\"))\n",
       "        .catch(showError)\n",
       "        .then(() => displayChart(vegaEmbed));\n",
       "    }\n",
       "  })({\"config\": {\"view\": {\"continuousWidth\": 400, \"continuousHeight\": 300}}, \"data\": {\"name\": \"data-87cc4fedd303f3e03420af16b73736aa\"}, \"mark\": {\"type\": \"line\", \"interpolate\": \"step-after\"}, \"encoding\": {\"x\": {\"type\": \"quantitative\", \"field\": \"n_week\"}, \"y\": {\"type\": \"quantitative\", \"field\": \"n_holidays\"}}, \"$schema\": \"https://vega.github.io/schema/vega-lite/v4.8.1.json\", \"datasets\": {\"data-87cc4fedd303f3e03420af16b73736aa\": [{\"n_holidays\": 30, \"n_week\": 15}, {\"n_holidays\": 5, \"n_week\": 51}, {\"n_holidays\": 38, \"n_week\": 18}, {\"n_holidays\": 7, \"n_week\": 19}, {\"n_holidays\": 74, \"n_week\": 52}, {\"n_holidays\": 3, \"n_week\": 39}, {\"n_holidays\": 40, \"n_week\": 16}, {\"n_holidays\": 9, \"n_week\": 27}, {\"n_holidays\": 6, \"n_week\": 46}, {\"n_holidays\": 36, \"n_week\": 0}, {\"n_holidays\": 6, \"n_week\": 43}, {\"n_holidays\": 4, \"n_week\": 4}, {\"n_holidays\": 6, \"n_week\": 40}, {\"n_holidays\": 15, \"n_week\": 33}, {\"n_holidays\": 5, \"n_week\": 2}, {\"n_holidays\": 19, \"n_week\": 44}, {\"n_holidays\": 28, \"n_week\": 1}, {\"n_holidays\": 10, \"n_week\": 49}, {\"n_holidays\": 12, \"n_week\": 22}, {\"n_holidays\": 11, \"n_week\": 17}, {\"n_holidays\": 5, \"n_week\": 32}, {\"n_holidays\": 5, \"n_week\": 29}, {\"n_holidays\": 9, \"n_week\": 41}, {\"n_holidays\": 5, \"n_week\": 38}, {\"n_holidays\": 7, \"n_week\": 12}, {\"n_holidays\": 5, \"n_week\": 8}, {\"n_holidays\": 7, \"n_week\": 47}, {\"n_holidays\": 7, \"n_week\": 6}, {\"n_holidays\": 7, \"n_week\": 35}, {\"n_holidays\": 6, \"n_week\": 9}, {\"n_holidays\": 10, \"n_week\": 24}, {\"n_holidays\": 5, \"n_week\": 36}, {\"n_holidays\": 5, \"n_week\": 26}, {\"n_holidays\": 14, \"n_week\": 21}, {\"n_holidays\": 8, \"n_week\": 31}, {\"n_holidays\": 8, \"n_week\": 45}, {\"n_holidays\": 5, \"n_week\": 28}, {\"n_holidays\": 22, \"n_week\": 23}, {\"n_holidays\": 3, \"n_week\": 5}, {\"n_holidays\": 3, \"n_week\": 37}, {\"n_holidays\": 3, \"n_week\": 3}, {\"n_holidays\": 2, \"n_week\": 7}, {\"n_holidays\": 4, \"n_week\": 10}, {\"n_holidays\": 7, \"n_week\": 11}, {\"n_holidays\": 3, \"n_week\": 13}, {\"n_holidays\": 2, \"n_week\": 14}, {\"n_holidays\": 3, \"n_week\": 20}, {\"n_holidays\": 10, \"n_week\": 25}, {\"n_holidays\": 2, \"n_week\": 30}, {\"n_holidays\": 3, \"n_week\": 34}, {\"n_holidays\": 3, \"n_week\": 42}, {\"n_holidays\": 5, \"n_week\": 48}, {\"n_holidays\": 3, \"n_week\": 50}]}}, {\"mode\": \"vega-lite\"});\n",
       "</script>"
      ],
      "text/plain": [
       "alt.Chart(...)"
      ]
     },
     "execution_count": 13,
     "metadata": {},
     "output_type": "execute_result"
    }
   ],
   "source": [
    "alt.Chart(n_holidays_by_week).mark_line(interpolate = 'step-after').encode(\n",
    "    x = 'n_week',\n",
    "    y = 'n_holidays'\n",
    ")"
   ]
  },
  {
   "cell_type": "markdown",
   "metadata": {},
   "source": [
    "### Public Holidays in US  \n",
    "  \n",
    "Finally, we can also look at the number of public holidays in the US in 2021.   "
   ]
  },
  {
   "cell_type": "code",
   "execution_count": 16,
   "metadata": {},
   "outputs": [],
   "source": [
    "us_holdays = fidap.sql(\"\"\"\n",
    "SELECT holidayName, SUBSTR(CAST(ph.date AS STRING),1,10) AS holidayDate   \n",
    "FROM fidap-301014.azure_open_datasets.public_holidays AS ph\n",
    "WHERE EXTRACT(YEAR FROM ph.date) = 2021\n",
    "AND ph.countryRegionCode = 'US'\n",
    "ORDER BY holidayDate\n",
    "\"\"\")"
   ]
  },
  {
   "cell_type": "code",
   "execution_count": 17,
   "metadata": {},
   "outputs": [
    {
     "data": {
      "text/html": [
       "<div>\n",
       "<style scoped>\n",
       "    .dataframe tbody tr th:only-of-type {\n",
       "        vertical-align: middle;\n",
       "    }\n",
       "\n",
       "    .dataframe tbody tr th {\n",
       "        vertical-align: top;\n",
       "    }\n",
       "\n",
       "    .dataframe thead th {\n",
       "        text-align: right;\n",
       "    }\n",
       "</style>\n",
       "<table border=\"1\" class=\"dataframe\">\n",
       "  <thead>\n",
       "    <tr style=\"text-align: right;\">\n",
       "      <th></th>\n",
       "      <th>holidayName</th>\n",
       "      <th>holidayDate</th>\n",
       "    </tr>\n",
       "  </thead>\n",
       "  <tbody>\n",
       "    <tr>\n",
       "      <th>0</th>\n",
       "      <td>New Year's Day</td>\n",
       "      <td>2021-01-01</td>\n",
       "    </tr>\n",
       "    <tr>\n",
       "      <th>1</th>\n",
       "      <td>Martin Luther King Jr. Day</td>\n",
       "      <td>2021-01-18</td>\n",
       "    </tr>\n",
       "    <tr>\n",
       "      <th>2</th>\n",
       "      <td>Washington's Birthday</td>\n",
       "      <td>2021-02-15</td>\n",
       "    </tr>\n",
       "    <tr>\n",
       "      <th>3</th>\n",
       "      <td>Memorial Day</td>\n",
       "      <td>2021-05-31</td>\n",
       "    </tr>\n",
       "    <tr>\n",
       "      <th>4</th>\n",
       "      <td>Independence Day</td>\n",
       "      <td>2021-07-04</td>\n",
       "    </tr>\n",
       "    <tr>\n",
       "      <th>5</th>\n",
       "      <td>Independence Day (Observed)</td>\n",
       "      <td>2021-07-05</td>\n",
       "    </tr>\n",
       "    <tr>\n",
       "      <th>6</th>\n",
       "      <td>Labor Day</td>\n",
       "      <td>2021-09-06</td>\n",
       "    </tr>\n",
       "    <tr>\n",
       "      <th>7</th>\n",
       "      <td>Columbus Day</td>\n",
       "      <td>2021-10-11</td>\n",
       "    </tr>\n",
       "    <tr>\n",
       "      <th>8</th>\n",
       "      <td>Veterans Day</td>\n",
       "      <td>2021-11-11</td>\n",
       "    </tr>\n",
       "    <tr>\n",
       "      <th>9</th>\n",
       "      <td>Thanksgiving</td>\n",
       "      <td>2021-11-25</td>\n",
       "    </tr>\n",
       "    <tr>\n",
       "      <th>10</th>\n",
       "      <td>Christmas Day (Observed)</td>\n",
       "      <td>2021-12-24</td>\n",
       "    </tr>\n",
       "    <tr>\n",
       "      <th>11</th>\n",
       "      <td>Christmas Day</td>\n",
       "      <td>2021-12-25</td>\n",
       "    </tr>\n",
       "    <tr>\n",
       "      <th>12</th>\n",
       "      <td>New Year's Day (Observed)</td>\n",
       "      <td>2021-12-31</td>\n",
       "    </tr>\n",
       "  </tbody>\n",
       "</table>\n",
       "</div>"
      ],
      "text/plain": [
       "                    holidayName holidayDate\n",
       "0                New Year's Day  2021-01-01\n",
       "1    Martin Luther King Jr. Day  2021-01-18\n",
       "2         Washington's Birthday  2021-02-15\n",
       "3                  Memorial Day  2021-05-31\n",
       "4              Independence Day  2021-07-04\n",
       "5   Independence Day (Observed)  2021-07-05\n",
       "6                     Labor Day  2021-09-06\n",
       "7                  Columbus Day  2021-10-11\n",
       "8                  Veterans Day  2021-11-11\n",
       "9                  Thanksgiving  2021-11-25\n",
       "10     Christmas Day (Observed)  2021-12-24\n",
       "11                Christmas Day  2021-12-25\n",
       "12    New Year's Day (Observed)  2021-12-31"
      ]
     },
     "execution_count": 17,
     "metadata": {},
     "output_type": "execute_result"
    }
   ],
   "source": [
    "us_holdays"
   ]
  }
 ],
 "metadata": {
  "kernelspec": {
   "display_name": "Python 3 (Spyder)",
   "language": "python3",
   "name": "python3"
  },
  "language_info": {
   "codemirror_mode": {
    "name": "ipython",
    "version": 3
   },
   "file_extension": ".py",
   "mimetype": "text/x-python",
   "name": "python",
   "nbconvert_exporter": "python",
   "pygments_lexer": "ipython3",
   "version": "3.7.6"
  },
  "varInspector": {
   "cols": {
    "lenName": 16,
    "lenType": 16,
    "lenVar": 40
   },
   "kernels_config": {
    "python": {
     "delete_cmd_postfix": "",
     "delete_cmd_prefix": "del ",
     "library": "var_list.py",
     "varRefreshCmd": "print(var_dic_list())"
    },
    "r": {
     "delete_cmd_postfix": ") ",
     "delete_cmd_prefix": "rm(",
     "library": "var_list.r",
     "varRefreshCmd": "cat(var_dic_list()) "
    }
   },
   "types_to_exclude": [
    "module",
    "function",
    "builtin_function_or_method",
    "instance",
    "_Feature"
   ],
   "window_display": false
  }
 },
 "nbformat": 4,
 "nbformat_minor": 4
}
