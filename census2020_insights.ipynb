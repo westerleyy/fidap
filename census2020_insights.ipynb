{
 "cells": [
  {
   "cell_type": "markdown",
   "metadata": {},
   "source": [
    "### Census 2020  \n",
    "  \n",
    "In this notebook, I want to look at the ways in which Fidap's datasets can complement Census 2020 data.  \n",
    "  \n",
    "1) College towns/Cities and how they differ from places around  \n",
    "2) Counties with the highest case counts and how they are like  \n",
    "3) Diversity. Characteristics of largest metropolitan areas in the US  "
   ]
  },
  {
   "cell_type": "code",
   "execution_count": 1,
   "metadata": {},
   "outputs": [],
   "source": [
    "import pandas as pd\n",
    "import datetime\n",
    "import numpy as np\n",
    "import altair as alt\n",
    "import fidap\n",
    "import config\n",
    "\n",
    "# instantiate connection to fidap\n",
    "fidap = fidap.fidap_client(api_key = config.api_key)"
   ]
  },
  {
   "cell_type": "markdown",
   "metadata": {},
   "source": [
    "### Demographic Profile of Covid-19 Afflicted Counties  \n",
    "  \n",
    "The power of Fidap lies in its ability to perform analyses across different datasets. I want to see how that might work out here by querying for the top 20 counties that are severely affected by Covid-19 right now, measured in terms of 7-day moving average count of cases since the start of August.  "
   ]
  },
  {
   "cell_type": "code",
   "execution_count": 18,
   "metadata": {},
   "outputs": [],
   "source": [
    "county_moving_average = fidap.sql(\"\"\"\n",
    "WITH covid_cases AS (\n",
    "SELECT *, \n",
    "ROW_NUMBER() OVER (PARTITION BY county_fips_code ORDER BY date ASC) AS row_num,\n",
    "(confirmed_cases - (LAG(confirmed_cases, 1) OVER (PARTITION BY county_fips_code ORDER BY date ASC))) AS new_cases,\n",
    "(deaths - (LAG(deaths, 1) OVER (PARTITION BY county_fips_code ORDER BY date ASC))) AS new_deaths,\n",
    "FROM bigquery-public-data.covid19_nyt.us_counties\n",
    "WHERE date >= CAST('2021-08-01' AS DATE) \n",
    "AND confirmed_cases >= 0 \n",
    "AND deaths >= 0), \n",
    "\n",
    "census_join AS (\n",
    "SELECT CAST(c.date AS STRING) AS nyt_date, c.state_name, c.county, c.confirmed_cases, c.deaths, c.new_cases, c.new_deaths, c.row_num, c.county_fips_code,\n",
    "ROUND(100000*(AVG(c.new_cases) OVER (PARTITION BY c.county_fips_code ORDER BY c.date ASC ROWS 7 PRECEDING))/CAST(census.POP100 AS INT64), 2) AS new_cases_ma7,\n",
    "ROUND(100000*(AVG(c.new_deaths) OVER (PARTITION BY c.county_fips_code ORDER BY c.date ASC ROWS 7 PRECEDING))/CAST(census.POP100 AS INT64), 2) AS new_deaths_ma7,\n",
    "ROUND(100*CAST(P0020002 AS INT64)/CAST(POP100 AS INT64),2) AS Hispanic_Latinx,\n",
    "ROUND(100*CAST(P0020005 AS INT64)/CAST(POP100 AS INT64),2) AS White,\n",
    "ROUND(100*CAST(P0020006 AS INT64)/CAST(POP100 AS INT64),2) AS Black,\n",
    "ROUND(100*CAST(P0020007 AS INT64)/CAST(POP100 AS INT64),2) AS Indigenous,\n",
    "ROUND(100*(CAST(P0020008 AS INT64)+CAST(P0020009 AS INT64))/CAST(POP100 AS INT64),2) AS Asian_PacificIslander\n",
    "FROM covid_cases AS c\n",
    "INNER JOIN fidap-301014.us_census_2020.Redistricting_Data_Complete AS census \n",
    "ON census.GEOCODE = c.county_fips_code\n",
    "WHERE CHAR_LENGTH(census.GEOID) = 14)\n",
    "\n",
    "SELECT nyt_date, state_name, county, county_fips_code, confirmed_cases, deaths, new_cases, new_deaths, \n",
    "IF(row_num < 7, NULL, new_cases_ma7) new_cases_ma7,\n",
    "IF(row_num < 7, NULL, new_deaths_ma7) new_deaths_ma7,\n",
    "Hispanic_Latinx, White, Black, Indigenous, Asian_PacificIslander, \n",
    "100-(Hispanic_Latinx + White + Black + Indigenous + Asian_PacificIslander) AS Others_Mixed\n",
    "FROM census_join\n",
    "WHERE new_deaths_ma7 IS NOT NULL\n",
    "ORDER BY nyt_date DESC, new_cases_ma7 DESC\n",
    "LIMIT 10 ;\n",
    "\"\"\")\n",
    "\n",
    "county_moving_average = county_moving_average.assign(\n",
    "    county_name = lambda x: x.county + \", \" + x.state_name\n",
    ")\n",
    "county_moving_average_long = pd.melt(county_moving_average, id_vars = ['county_name'], \n",
    "                                     value_vars = ['Hispanic_Latinx', 'White', 'Black', 'Indigenous', 'Asian_PacificIslander', 'Others_Mixed'])\n"
   ]
  },
  {
   "cell_type": "code",
   "execution_count": 19,
   "metadata": {},
   "outputs": [],
   "source": [
    "national_average_racial_breakdown = fidap.sql(\"\"\"\n",
    "SELECT\n",
    "ROUND(100*SUM(CAST(P0020002 AS INT64))/SUM(CAST(POP100 AS INT64)),2) AS Hispanic_Latinx,\n",
    "ROUND(100*SUM(CAST(P0020005 AS INT64))/SUM(CAST(POP100 AS INT64)),2) AS White,\n",
    "ROUND(100*SUM(CAST(P0020006 AS INT64))/SUM(CAST(POP100 AS INT64)),2) AS Black,\n",
    "ROUND(100*SUM(CAST(P0020007 AS INT64))/SUM(CAST(POP100 AS INT64)),2) AS Indigenous,\n",
    "ROUND(100*SUM(CAST(P0020008 AS INT64)+CAST(P0020009 AS INT64))/SUM(CAST(POP100 AS INT64)),2) AS Asian_PacificIslander\n",
    "FROM fidap-301014.us_census_2020.Redistricting_Data_Complete \n",
    "WHERE CHAR_LENGTH(GEOID) = 14\n",
    "AND COUNTY IS NOT NULL;\n",
    "\"\"\")\n",
    "national_average_racial_breakdown = national_average_racial_breakdown.assign(\n",
    "    Others_Mixed = lambda x: 100-(x.Hispanic_Latinx + x.White + x.Black + x.Indigenous + x.Asian_PacificIslander),\n",
    "    county_name = \"National Average\"\n",
    ") \n",
    "\n",
    "\n",
    "national_average_racial_breakdown_long = pd.melt(national_average_racial_breakdown, \n",
    "                                                 id_vars = ['county_name'], \n",
    "                                                 value_vars = ['Hispanic_Latinx', 'White', 'Black', 'Indigenous', 'Asian_PacificIslander', 'Others_Mixed'])\n",
    "\n",
    "county_moving_average_long = county_moving_average_long.append(national_average_racial_breakdown_long, ignore_index = True)"
   ]
  },
  {
   "cell_type": "code",
   "execution_count": 20,
   "metadata": {},
   "outputs": [
    {
     "name": "stdout",
     "output_type": "stream",
     "text": [
      "10 highest county-level 7 day moving average count of new cases per 100,000 residents\n"
     ]
    },
    {
     "data": {
      "text/html": [
       "<div>\n",
       "<style scoped>\n",
       "    .dataframe tbody tr th:only-of-type {\n",
       "        vertical-align: middle;\n",
       "    }\n",
       "\n",
       "    .dataframe tbody tr th {\n",
       "        vertical-align: top;\n",
       "    }\n",
       "\n",
       "    .dataframe thead th {\n",
       "        text-align: right;\n",
       "    }\n",
       "</style>\n",
       "<table border=\"1\" class=\"dataframe\">\n",
       "  <thead>\n",
       "    <tr style=\"text-align: right;\">\n",
       "      <th></th>\n",
       "      <th>state_name</th>\n",
       "      <th>county</th>\n",
       "      <th>new_cases_ma7</th>\n",
       "    </tr>\n",
       "  </thead>\n",
       "  <tbody>\n",
       "    <tr>\n",
       "      <th>0</th>\n",
       "      <td>Florida</td>\n",
       "      <td>Miami-Dade</td>\n",
       "      <td>2807.94</td>\n",
       "    </tr>\n",
       "    <tr>\n",
       "      <th>1</th>\n",
       "      <td>Hawaii</td>\n",
       "      <td>Honolulu</td>\n",
       "      <td>1710.59</td>\n",
       "    </tr>\n",
       "    <tr>\n",
       "      <th>2</th>\n",
       "      <td>Florida</td>\n",
       "      <td>Palm Beach</td>\n",
       "      <td>1294.46</td>\n",
       "    </tr>\n",
       "    <tr>\n",
       "      <th>3</th>\n",
       "      <td>Florida</td>\n",
       "      <td>Orange</td>\n",
       "      <td>1291.20</td>\n",
       "    </tr>\n",
       "    <tr>\n",
       "      <th>4</th>\n",
       "      <td>Nevada</td>\n",
       "      <td>Clark</td>\n",
       "      <td>1219.91</td>\n",
       "    </tr>\n",
       "    <tr>\n",
       "      <th>5</th>\n",
       "      <td>Florida</td>\n",
       "      <td>Hillsborough</td>\n",
       "      <td>1200.25</td>\n",
       "    </tr>\n",
       "    <tr>\n",
       "      <th>6</th>\n",
       "      <td>Alabama</td>\n",
       "      <td>Jefferson</td>\n",
       "      <td>1117.69</td>\n",
       "    </tr>\n",
       "    <tr>\n",
       "      <th>7</th>\n",
       "      <td>Alabama</td>\n",
       "      <td>Mobile</td>\n",
       "      <td>1056.77</td>\n",
       "    </tr>\n",
       "    <tr>\n",
       "      <th>8</th>\n",
       "      <td>Mississippi</td>\n",
       "      <td>Harrison</td>\n",
       "      <td>1038.09</td>\n",
       "    </tr>\n",
       "    <tr>\n",
       "      <th>9</th>\n",
       "      <td>South Carolina</td>\n",
       "      <td>Charleston</td>\n",
       "      <td>1021.04</td>\n",
       "    </tr>\n",
       "  </tbody>\n",
       "</table>\n",
       "</div>"
      ],
      "text/plain": [
       "       state_name        county  new_cases_ma7\n",
       "0         Florida    Miami-Dade        2807.94\n",
       "1          Hawaii      Honolulu        1710.59\n",
       "2         Florida    Palm Beach        1294.46\n",
       "3         Florida        Orange        1291.20\n",
       "4          Nevada         Clark        1219.91\n",
       "5         Florida  Hillsborough        1200.25\n",
       "6         Alabama     Jefferson        1117.69\n",
       "7         Alabama        Mobile        1056.77\n",
       "8     Mississippi      Harrison        1038.09\n",
       "9  South Carolina    Charleston        1021.04"
      ]
     },
     "execution_count": 20,
     "metadata": {},
     "output_type": "execute_result"
    }
   ],
   "source": [
    "print(\"10 highest county-level 7 day moving average count of new cases per 100,000 residents\")\n",
    "county_moving_average[['state_name', 'county', 'new_cases_ma7']]"
   ]
  },
  {
   "cell_type": "code",
   "execution_count": 33,
   "metadata": {},
   "outputs": [
    {
     "data": {
      "text/html": [
       "\n",
       "<div id=\"altair-viz-f9593bc9743145e2affaeeb0242ac37e\"></div>\n",
       "<script type=\"text/javascript\">\n",
       "  (function(spec, embedOpt){\n",
       "    let outputDiv = document.currentScript.previousElementSibling;\n",
       "    if (outputDiv.id !== \"altair-viz-f9593bc9743145e2affaeeb0242ac37e\") {\n",
       "      outputDiv = document.getElementById(\"altair-viz-f9593bc9743145e2affaeeb0242ac37e\");\n",
       "    }\n",
       "    const paths = {\n",
       "      \"vega\": \"https://cdn.jsdelivr.net/npm//vega@5?noext\",\n",
       "      \"vega-lib\": \"https://cdn.jsdelivr.net/npm//vega-lib?noext\",\n",
       "      \"vega-lite\": \"https://cdn.jsdelivr.net/npm//vega-lite@4.8.1?noext\",\n",
       "      \"vega-embed\": \"https://cdn.jsdelivr.net/npm//vega-embed@6?noext\",\n",
       "    };\n",
       "\n",
       "    function loadScript(lib) {\n",
       "      return new Promise(function(resolve, reject) {\n",
       "        var s = document.createElement('script');\n",
       "        s.src = paths[lib];\n",
       "        s.async = true;\n",
       "        s.onload = () => resolve(paths[lib]);\n",
       "        s.onerror = () => reject(`Error loading script: ${paths[lib]}`);\n",
       "        document.getElementsByTagName(\"head\")[0].appendChild(s);\n",
       "      });\n",
       "    }\n",
       "\n",
       "    function showError(err) {\n",
       "      outputDiv.innerHTML = `<div class=\"error\" style=\"color:red;\">${err}</div>`;\n",
       "      throw err;\n",
       "    }\n",
       "\n",
       "    function displayChart(vegaEmbed) {\n",
       "      vegaEmbed(outputDiv, spec, embedOpt)\n",
       "        .catch(err => showError(`Javascript Error: ${err.message}<br>This usually means there's a typo in your chart specification. See the javascript console for the full traceback.`));\n",
       "    }\n",
       "\n",
       "    if(typeof define === \"function\" && define.amd) {\n",
       "      requirejs.config({paths});\n",
       "      require([\"vega-embed\"], displayChart, err => showError(`Error loading script: ${err.message}`));\n",
       "    } else if (typeof vegaEmbed === \"function\") {\n",
       "      displayChart(vegaEmbed);\n",
       "    } else {\n",
       "      loadScript(\"vega\")\n",
       "        .then(() => loadScript(\"vega-lite\"))\n",
       "        .then(() => loadScript(\"vega-embed\"))\n",
       "        .catch(showError)\n",
       "        .then(() => displayChart(vegaEmbed));\n",
       "    }\n",
       "  })({\"config\": {\"view\": {\"continuousWidth\": 400, \"continuousHeight\": 300}}, \"data\": {\"name\": \"data-cdb5f0f0f975fdb39e944c1f8771b7ee\"}, \"mark\": {\"type\": \"bar\", \"cornerRadiusTopLeft\": 3, \"cornerRadiusTopRight\": 3}, \"encoding\": {\"color\": {\"type\": \"nominal\", \"field\": \"variable\"}, \"x\": {\"type\": \"ordinal\", \"axis\": {\"labelAngle\": -70}, \"field\": \"county_name\", \"title\": \"County\"}, \"y\": {\"type\": \"quantitative\", \"field\": \"value\", \"title\": \"Racial Makeup (%)\"}}, \"height\": 300, \"width\": 500, \"$schema\": \"https://vega.github.io/schema/vega-lite/v4.8.1.json\", \"datasets\": {\"data-cdb5f0f0f975fdb39e944c1f8771b7ee\": [{\"county_name\": \"Miami-Dade, Florida\", \"variable\": \"Hispanic_Latinx\", \"value\": 25.94}, {\"county_name\": \"Honolulu, Hawaii\", \"variable\": \"Hispanic_Latinx\", \"value\": 12.02}, {\"county_name\": \"Palm Beach, Florida\", \"variable\": \"Hispanic_Latinx\", \"value\": 38.58}, {\"county_name\": \"Orange, Florida\", \"variable\": \"Hispanic_Latinx\", \"value\": 18.67}, {\"county_name\": \"Clark, Nevada\", \"variable\": \"Hispanic_Latinx\", \"value\": 49.53}, {\"county_name\": \"Hillsborough, Florida\", \"variable\": \"Hispanic_Latinx\", \"value\": 24.31}, {\"county_name\": \"Jefferson, Alabama\", \"variable\": \"Hispanic_Latinx\", \"value\": 10.82}, {\"county_name\": \"Mobile, Alabama\", \"variable\": \"Hispanic_Latinx\", \"value\": 2.48}, {\"county_name\": \"Harrison, Mississippi\", \"variable\": \"Hispanic_Latinx\", \"value\": 4.38}, {\"county_name\": \"Charleston, South Carolina\", \"variable\": \"Hispanic_Latinx\", \"value\": 22.15}, {\"county_name\": \"Miami-Dade, Florida\", \"variable\": \"White\", \"value\": 45.68}, {\"county_name\": \"Honolulu, Hawaii\", \"variable\": \"White\", \"value\": 28.69}, {\"county_name\": \"Palm Beach, Florida\", \"variable\": \"White\", \"value\": 39.71}, {\"county_name\": \"Orange, Florida\", \"variable\": \"White\", \"value\": 12.06}, {\"county_name\": \"Clark, Nevada\", \"variable\": \"White\", \"value\": 26.39}, {\"county_name\": \"Hillsborough, Florida\", \"variable\": \"White\", \"value\": 53.19}, {\"county_name\": \"Jefferson, Alabama\", \"variable\": \"White\", \"value\": 69.62}, {\"county_name\": \"Mobile, Alabama\", \"variable\": \"White\", \"value\": 37.41}, {\"county_name\": \"Harrison, Mississippi\", \"variable\": \"White\", \"value\": 23.91}, {\"county_name\": \"Charleston, South Carolina\", \"variable\": \"White\", \"value\": 58.97}, {\"county_name\": \"Miami-Dade, Florida\", \"variable\": \"Black\", \"value\": 19.92}, {\"county_name\": \"Honolulu, Hawaii\", \"variable\": \"Black\", \"value\": 0.58}, {\"county_name\": \"Palm Beach, Florida\", \"variable\": \"Black\", \"value\": 12.65}, {\"county_name\": \"Orange, Florida\", \"variable\": \"Black\", \"value\": 62.45}, {\"county_name\": \"Clark, Nevada\", \"variable\": \"Black\", \"value\": 14.04}, {\"county_name\": \"Hillsborough, Florida\", \"variable\": \"Black\", \"value\": 13.75}, {\"county_name\": \"Jefferson, Alabama\", \"variable\": \"Black\", \"value\": 13.38}, {\"county_name\": \"Mobile, Alabama\", \"variable\": \"Black\", \"value\": 55.85}, {\"county_name\": \"Harrison, Mississippi\", \"variable\": \"Black\", \"value\": 69.42}, {\"county_name\": \"Charleston, South Carolina\", \"variable\": \"Black\", \"value\": 13.42}, {\"county_name\": \"Miami-Dade, Florida\", \"variable\": \"Indigenous\", \"value\": 0.11}, {\"county_name\": \"Honolulu, Hawaii\", \"variable\": \"Indigenous\", \"value\": 0.33}, {\"county_name\": \"Palm Beach, Florida\", \"variable\": \"Indigenous\", \"value\": 0.35000000000000003}, {\"county_name\": \"Orange, Florida\", \"variable\": \"Indigenous\", \"value\": 0.15}, {\"county_name\": \"Clark, Nevada\", \"variable\": \"Indigenous\", \"value\": 0.36}, {\"county_name\": \"Hillsborough, Florida\", \"variable\": \"Indigenous\", \"value\": 0.23}, {\"county_name\": \"Jefferson, Alabama\", \"variable\": \"Indigenous\", \"value\": 0.17}, {\"county_name\": \"Mobile, Alabama\", \"variable\": \"Indigenous\", \"value\": 0.31}, {\"county_name\": \"Harrison, Mississippi\", \"variable\": \"Indigenous\", \"value\": 0.31}, {\"county_name\": \"Charleston, South Carolina\", \"variable\": \"Indigenous\", \"value\": 0.16}, {\"county_name\": \"Miami-Dade, Florida\", \"variable\": \"Asian_PacificIslander\", \"value\": 4.24}, {\"county_name\": \"Honolulu, Hawaii\", \"variable\": \"Asian_PacificIslander\", \"value\": 32.27}, {\"county_name\": \"Palm Beach, Florida\", \"variable\": \"Asian_PacificIslander\", \"value\": 4.62}, {\"county_name\": \"Orange, Florida\", \"variable\": \"Asian_PacificIslander\", \"value\": 2.48}, {\"county_name\": \"Clark, Nevada\", \"variable\": \"Asian_PacificIslander\", \"value\": 4.8}, {\"county_name\": \"Hillsborough, Florida\", \"variable\": \"Asian_PacificIslander\", \"value\": 3.55}, {\"county_name\": \"Jefferson, Alabama\", \"variable\": \"Asian_PacificIslander\", \"value\": 1.56}, {\"county_name\": \"Mobile, Alabama\", \"variable\": \"Asian_PacificIslander\", \"value\": 0.53}, {\"county_name\": \"Harrison, Mississippi\", \"variable\": \"Asian_PacificIslander\", \"value\": 0.37}, {\"county_name\": \"Charleston, South Carolina\", \"variable\": \"Asian_PacificIslander\", \"value\": 1.38}, {\"county_name\": \"Miami-Dade, Florida\", \"variable\": \"Others_Mixed\", \"value\": 4.11}, {\"county_name\": \"Honolulu, Hawaii\", \"variable\": \"Others_Mixed\", \"value\": 26.11}, {\"county_name\": \"Palm Beach, Florida\", \"variable\": \"Others_Mixed\", \"value\": 4.09}, {\"county_name\": \"Orange, Florida\", \"variable\": \"Others_Mixed\", \"value\": 4.19}, {\"county_name\": \"Clark, Nevada\", \"variable\": \"Others_Mixed\", \"value\": 4.88}, {\"county_name\": \"Hillsborough, Florida\", \"variable\": \"Others_Mixed\", \"value\": 4.97}, {\"county_name\": \"Jefferson, Alabama\", \"variable\": \"Others_Mixed\", \"value\": 4.45}, {\"county_name\": \"Mobile, Alabama\", \"variable\": \"Others_Mixed\", \"value\": 3.42}, {\"county_name\": \"Harrison, Mississippi\", \"variable\": \"Others_Mixed\", \"value\": 1.6099999999999999}, {\"county_name\": \"Charleston, South Carolina\", \"variable\": \"Others_Mixed\", \"value\": 3.92}, {\"county_name\": \"National Average\", \"variable\": \"Hispanic_Latinx\", \"value\": 19.52}, {\"county_name\": \"National Average\", \"variable\": \"White\", \"value\": 57.28}, {\"county_name\": \"National Average\", \"variable\": \"Black\", \"value\": 11.93}, {\"county_name\": \"National Average\", \"variable\": \"Indigenous\", \"value\": 0.67}, {\"county_name\": \"National Average\", \"variable\": \"Asian_PacificIslander\", \"value\": 6.05}, {\"county_name\": \"National Average\", \"variable\": \"Others_Mixed\", \"value\": 4.550000000000011}]}}, {\"mode\": \"vega-lite\"});\n",
       "</script>"
      ],
      "text/plain": [
       "alt.Chart(...)"
      ]
     },
     "execution_count": 33,
     "metadata": {},
     "output_type": "execute_result"
    }
   ],
   "source": [
    "alt.Chart(county_moving_average_long).mark_bar(\n",
    "    cornerRadiusTopLeft = 3,\n",
    "    cornerRadiusTopRight = 3\n",
    ").encode(\n",
    "    x = alt.X('county_name:O', title = \"County\", axis = alt.Axis(labelAngle = -70)),\n",
    "    y = alt.Y('value:Q', title = \"Racial Makeup (%)\"),\n",
    "    color = 'variable:N' \n",
    ").properties(width = 500, height = 300)"
   ]
  },
  {
   "cell_type": "markdown",
   "metadata": {},
   "source": [
    "Almost of all of the states with the highest case loads in recent days are in the South. Of the 10 counties, 7 of them have a greater share of racial and ethnic minorities as a proportion of their population than the national average. This is particularly pronounced in Florida and Alabama. "
   ]
  },
  {
   "cell_type": "markdown",
   "metadata": {},
   "source": [
    "### Life in Extremis  \n",
    "  \n",
    "Without any access to age data, the Census 2020 Redistricting Data only provides racial and ethnic breakdowns, can we identify with some confidence where college towns are? At the other end of the spectrum, can we also identify retirement villages? \n",
    "\n",
    "How do we even know if a place is a college town? What is a college town?   "
   ]
  },
  {
   "cell_type": "code",
   "execution_count": 56,
   "metadata": {},
   "outputs": [],
   "source": [
    "college_town = fidap.sql(\"\"\"\n",
    "WITH college_town AS (\n",
    "SELECT CAST(POP100 AS INT64) AS total, CAST(P0050008 AS INT64) AS student_housing, GEOCODE AS county_fips_code, c.county_name, STUSAB as state,\n",
    "ROUND(100*SAFE_DIVIDE(CAST(P0050008 AS INT64),CAST(POP100 AS INT64)), 2) AS pct_student_housing,\n",
    "c.county_geom\n",
    "FROM fidap-301014.us_census_2020.Redistricting_Data_Complete\n",
    "INNER JOIN bigquery-public-data.geo_us_boundaries.counties AS c\n",
    "ON c.county_fips_code = GEOCODE\n",
    "WHERE CHAR_LENGTH(GEOID) = 14\n",
    "AND COUNTY IS NOT NULL\n",
    "ORDER BY pct_student_housing DESC\n",
    "LIMIT 50\n",
    ")\n",
    "SELECT state, county_name, county_fips_code, total, student_housing, pct_student_housing, tags.value AS tags\n",
    "FROM bigquery-public-data.geo_openstreetmap.planet_features_multipolygons AS pt, college_town\n",
    "LEFT JOIN UNNEST(all_tags) AS tags\n",
    "WHERE (tags.key = 'name')\n",
    "AND ST_WITHIN(pt.geometry, college_town.county_geom)\n",
    "AND ('amenity', 'university') IN (SELECT(key, value) FROM UNNEST(all_tags));\n",
    "\"\"\")\n",
    "\n",
    "# will time out if we combine the queries into one\n",
    "community_college_town = fidap.sql(\"\"\"\n",
    "WITH college_town AS (\n",
    "SELECT CAST(POP100 AS INT64) AS total, CAST(P0050008 AS INT64) AS student_housing, GEOCODE AS county_fips_code, c.county_name, STUSAB as state,\n",
    "ROUND(100*SAFE_DIVIDE(CAST(P0050008 AS INT64),CAST(POP100 AS INT64)), 2) AS pct_student_housing,\n",
    "c.county_geom\n",
    "FROM fidap-301014.us_census_2020.Redistricting_Data_Complete\n",
    "INNER JOIN bigquery-public-data.geo_us_boundaries.counties AS c\n",
    "ON c.county_fips_code = GEOCODE\n",
    "WHERE CHAR_LENGTH(GEOID) = 14\n",
    "AND COUNTY IS NOT NULL\n",
    "ORDER BY pct_student_housing DESC\n",
    "LIMIT 50\n",
    ")\n",
    "SELECT state, county_name, county_fips_code, total, student_housing, pct_student_housing, tags.value AS tags\n",
    "FROM bigquery-public-data.geo_openstreetmap.planet_features_multipolygons AS pt, college_town\n",
    "LEFT JOIN UNNEST(all_tags) AS tags\n",
    "WHERE (tags.key = 'name')\n",
    "AND ST_WITHIN(pt.geometry, college_town.county_geom)\n",
    "AND ('amenity', 'college') IN (SELECT(key, value) FROM UNNEST(all_tags));\n",
    "\"\"\")"
   ]
  },
  {
   "cell_type": "code",
   "execution_count": 80,
   "metadata": {},
   "outputs": [
    {
     "data": {
      "text/html": [
       "\n",
       "<div id=\"altair-viz-1355e3785d3144a8be195f85fa5ec38a\"></div>\n",
       "<script type=\"text/javascript\">\n",
       "  (function(spec, embedOpt){\n",
       "    let outputDiv = document.currentScript.previousElementSibling;\n",
       "    if (outputDiv.id !== \"altair-viz-1355e3785d3144a8be195f85fa5ec38a\") {\n",
       "      outputDiv = document.getElementById(\"altair-viz-1355e3785d3144a8be195f85fa5ec38a\");\n",
       "    }\n",
       "    const paths = {\n",
       "      \"vega\": \"https://cdn.jsdelivr.net/npm//vega@5?noext\",\n",
       "      \"vega-lib\": \"https://cdn.jsdelivr.net/npm//vega-lib?noext\",\n",
       "      \"vega-lite\": \"https://cdn.jsdelivr.net/npm//vega-lite@4.8.1?noext\",\n",
       "      \"vega-embed\": \"https://cdn.jsdelivr.net/npm//vega-embed@6?noext\",\n",
       "    };\n",
       "\n",
       "    function loadScript(lib) {\n",
       "      return new Promise(function(resolve, reject) {\n",
       "        var s = document.createElement('script');\n",
       "        s.src = paths[lib];\n",
       "        s.async = true;\n",
       "        s.onload = () => resolve(paths[lib]);\n",
       "        s.onerror = () => reject(`Error loading script: ${paths[lib]}`);\n",
       "        document.getElementsByTagName(\"head\")[0].appendChild(s);\n",
       "      });\n",
       "    }\n",
       "\n",
       "    function showError(err) {\n",
       "      outputDiv.innerHTML = `<div class=\"error\" style=\"color:red;\">${err}</div>`;\n",
       "      throw err;\n",
       "    }\n",
       "\n",
       "    function displayChart(vegaEmbed) {\n",
       "      vegaEmbed(outputDiv, spec, embedOpt)\n",
       "        .catch(err => showError(`Javascript Error: ${err.message}<br>This usually means there's a typo in your chart specification. See the javascript console for the full traceback.`));\n",
       "    }\n",
       "\n",
       "    if(typeof define === \"function\" && define.amd) {\n",
       "      requirejs.config({paths});\n",
       "      require([\"vega-embed\"], displayChart, err => showError(`Error loading script: ${err.message}`));\n",
       "    } else if (typeof vegaEmbed === \"function\") {\n",
       "      displayChart(vegaEmbed);\n",
       "    } else {\n",
       "      loadScript(\"vega\")\n",
       "        .then(() => loadScript(\"vega-lite\"))\n",
       "        .then(() => loadScript(\"vega-embed\"))\n",
       "        .catch(showError)\n",
       "        .then(() => displayChart(vegaEmbed));\n",
       "    }\n",
       "  })({\"config\": {\"view\": {\"continuousWidth\": 400, \"continuousHeight\": 300}}, \"data\": {\"name\": \"data-a18cfc9ad0600f621944ed0c3b08d14a\"}, \"mark\": \"bar\", \"encoding\": {\"x\": {\"type\": \"nominal\", \"axis\": {\"labelAngle\": -70}, \"field\": \"full_name\", \"title\": \"County\"}, \"y\": {\"type\": \"quantitative\", \"field\": \"pct_student_housing\", \"title\": \"Pop. in Student Housing (%)\"}}, \"width\": 400, \"$schema\": \"https://vega.github.io/schema/vega-lite/v4.8.1.json\", \"datasets\": {\"data-a18cfc9ad0600f621944ed0c3b08d14a\": [{\"state\": \"VA\", \"county_name\": \"Williamsburg\", \"county_fips_code\": 51830, \"total\": 15425, \"student_housing\": 4755, \"pct_student_housing\": 30.83, \"tags\": 2, \"full_name\": \"Williamsburg, VA\"}, {\"state\": \"ID\", \"county_name\": \"Madison\", \"county_fips_code\": 16065, \"total\": 52913, \"student_housing\": 14286, \"pct_student_housing\": 27.0, \"tags\": 1, \"full_name\": \"Madison, ID\"}, {\"state\": \"VA\", \"county_name\": \"Radford\", \"county_fips_code\": 51750, \"total\": 16070, \"student_housing\": 3315, \"pct_student_housing\": 20.63, \"tags\": 1, \"full_name\": \"Radford, VA\"}, {\"state\": \"SD\", \"county_name\": \"Clay\", \"county_fips_code\": 46027, \"total\": 14967, \"student_housing\": 2257, \"pct_student_housing\": 15.08, \"tags\": 1, \"full_name\": \"Clay, SD\"}, {\"state\": \"VA\", \"county_name\": \"Prince Edward\", \"county_fips_code\": 51147, \"total\": 21849, \"student_housing\": 2997, \"pct_student_housing\": 13.72, \"tags\": 1, \"full_name\": \"Prince Edward, VA\"}, {\"state\": \"WA\", \"county_name\": \"Whitman\", \"county_fips_code\": 53075, \"total\": 47973, \"student_housing\": 6130, \"pct_student_housing\": 12.78, \"tags\": 1, \"full_name\": \"Whitman, WA\"}, {\"state\": \"MA\", \"county_name\": \"Hampshire\", \"county_fips_code\": 25015, \"total\": 162308, \"student_housing\": 20717, \"pct_student_housing\": 12.76, \"tags\": 6, \"full_name\": \"Hampshire, MA\"}, {\"state\": \"VA\", \"county_name\": \"Harrisonburg\", \"county_fips_code\": 51660, \"total\": 51814, \"student_housing\": 6547, \"pct_student_housing\": 12.64, \"tags\": 3, \"full_name\": \"Harrisonburg, VA\"}, {\"state\": \"NY\", \"county_name\": \"Tompkins\", \"county_fips_code\": 36109, \"total\": 105740, \"student_housing\": 13084, \"pct_student_housing\": 12.37, \"tags\": 4, \"full_name\": \"Tompkins, NY\"}, {\"state\": \"NC\", \"county_name\": \"Watauga\", \"county_fips_code\": 37189, \"total\": 54086, \"student_housing\": 6573, \"pct_student_housing\": 12.15, \"tags\": 7, \"full_name\": \"Watauga, NC\"}]}}, {\"mode\": \"vega-lite\"});\n",
       "</script>"
      ],
      "text/plain": [
       "alt.Chart(...)"
      ]
     },
     "execution_count": 80,
     "metadata": {},
     "output_type": "execute_result"
    }
   ],
   "source": [
    "top10_college_towns = college_town.sort_values(\"pct_student_housing\", ascending = False).reset_index(drop=True).iloc[:10,]\n",
    "top10_college_towns = top10_college_towns.assign(\n",
    "    full_name = lambda x: x.county_name + \", \" + x.state\n",
    ")\n",
    "\n",
    "alt.Chart(top10_college_towns).mark_bar().encode(\n",
    "    x = alt.X('full_name', title = \"County\", axis = alt.Axis(labelAngle = -70)),\n",
    "    y = alt.Y('pct_student_housing', title = \"Pop. in Student Housing (%)\")\n",
    ").properties(width = 400)"
   ]
  },
  {
   "cell_type": "markdown",
   "metadata": {},
   "source": [
    "So, we have identified counties which have a high proportion of its population comprising of individuals who live in student housing. Generally, we are looking at counties where this percentage is above 7.5%. "
   ]
  },
  {
   "cell_type": "code",
   "execution_count": 57,
   "metadata": {},
   "outputs": [],
   "source": [
    "# this is not perfect but better than nothing \n",
    "# counting the number of higher education facilities within such towns\n",
    "college_town = college_town.append(community_college_town).drop_duplicates()\n",
    "college_town = college_town.groupby(['state', 'county_name', 'county_fips_code', 'total', 'student_housing', 'pct_student_housing']).agg('count')\n",
    "college_town = college_town.reset_index()"
   ]
  },
  {
   "cell_type": "code",
   "execution_count": 63,
   "metadata": {},
   "outputs": [
    {
     "data": {
      "text/html": [
       "\n",
       "<div id=\"altair-viz-26331852d671408e9f601a3fa78c7a91\"></div>\n",
       "<script type=\"text/javascript\">\n",
       "  (function(spec, embedOpt){\n",
       "    let outputDiv = document.currentScript.previousElementSibling;\n",
       "    if (outputDiv.id !== \"altair-viz-26331852d671408e9f601a3fa78c7a91\") {\n",
       "      outputDiv = document.getElementById(\"altair-viz-26331852d671408e9f601a3fa78c7a91\");\n",
       "    }\n",
       "    const paths = {\n",
       "      \"vega\": \"https://cdn.jsdelivr.net/npm//vega@5?noext\",\n",
       "      \"vega-lib\": \"https://cdn.jsdelivr.net/npm//vega-lib?noext\",\n",
       "      \"vega-lite\": \"https://cdn.jsdelivr.net/npm//vega-lite@4.8.1?noext\",\n",
       "      \"vega-embed\": \"https://cdn.jsdelivr.net/npm//vega-embed@6?noext\",\n",
       "    };\n",
       "\n",
       "    function loadScript(lib) {\n",
       "      return new Promise(function(resolve, reject) {\n",
       "        var s = document.createElement('script');\n",
       "        s.src = paths[lib];\n",
       "        s.async = true;\n",
       "        s.onload = () => resolve(paths[lib]);\n",
       "        s.onerror = () => reject(`Error loading script: ${paths[lib]}`);\n",
       "        document.getElementsByTagName(\"head\")[0].appendChild(s);\n",
       "      });\n",
       "    }\n",
       "\n",
       "    function showError(err) {\n",
       "      outputDiv.innerHTML = `<div class=\"error\" style=\"color:red;\">${err}</div>`;\n",
       "      throw err;\n",
       "    }\n",
       "\n",
       "    function displayChart(vegaEmbed) {\n",
       "      vegaEmbed(outputDiv, spec, embedOpt)\n",
       "        .catch(err => showError(`Javascript Error: ${err.message}<br>This usually means there's a typo in your chart specification. See the javascript console for the full traceback.`));\n",
       "    }\n",
       "\n",
       "    if(typeof define === \"function\" && define.amd) {\n",
       "      requirejs.config({paths});\n",
       "      require([\"vega-embed\"], displayChart, err => showError(`Error loading script: ${err.message}`));\n",
       "    } else if (typeof vegaEmbed === \"function\") {\n",
       "      displayChart(vegaEmbed);\n",
       "    } else {\n",
       "      loadScript(\"vega\")\n",
       "        .then(() => loadScript(\"vega-lite\"))\n",
       "        .then(() => loadScript(\"vega-embed\"))\n",
       "        .catch(showError)\n",
       "        .then(() => displayChart(vegaEmbed));\n",
       "    }\n",
       "  })({\"config\": {\"view\": {\"continuousWidth\": 400, \"continuousHeight\": 300}}, \"data\": {\"name\": \"data-6145fdcf0c9b804de01398f02efe6982\"}, \"mark\": \"bar\", \"encoding\": {\"x\": {\"type\": \"quantitative\", \"bin\": true, \"field\": \"tags\", \"title\": \"No. of Colleges\"}, \"y\": {\"type\": \"quantitative\", \"aggregate\": \"count\", \"title\": \"No. of Counties\"}}, \"$schema\": \"https://vega.github.io/schema/vega-lite/v4.8.1.json\", \"datasets\": {\"data-6145fdcf0c9b804de01398f02efe6982\": [{\"state\": \"AL\", \"county_name\": \"Macon\", \"county_fips_code\": 1087, \"total\": 19532, \"student_housing\": 1882, \"pct_student_housing\": 9.64, \"tags\": 1}, {\"state\": \"AL\", \"county_name\": \"Sumter\", \"county_fips_code\": 1119, \"total\": 12345, \"student_housing\": 981, \"pct_student_housing\": 7.95, \"tags\": 2}, {\"state\": \"AR\", \"county_name\": \"Clark\", \"county_fips_code\": 5019, \"total\": 21446, \"student_housing\": 2554, \"pct_student_housing\": 11.91, \"tags\": 2}, {\"state\": \"AR\", \"county_name\": \"Columbia\", \"county_fips_code\": 5027, \"total\": 22801, \"student_housing\": 1701, \"pct_student_housing\": 7.46, \"tags\": 1}, {\"state\": \"CT\", \"county_name\": \"Tolland\", \"county_fips_code\": 9013, \"total\": 149788, \"student_housing\": 11378, \"pct_student_housing\": 7.6, \"tags\": 2}, {\"state\": \"GA\", \"county_name\": \"Lumpkin\", \"county_fips_code\": 13187, \"total\": 33488, \"student_housing\": 3612, \"pct_student_housing\": 10.79, \"tags\": 2}, {\"state\": \"IA\", \"county_name\": \"Story\", \"county_fips_code\": 19169, \"total\": 98537, \"student_housing\": 11250, \"pct_student_housing\": 11.42, \"tags\": 2}, {\"state\": \"IA\", \"county_name\": \"Winneshiek\", \"county_fips_code\": 19191, \"total\": 20070, \"student_housing\": 1463, \"pct_student_housing\": 7.29, \"tags\": 2}, {\"state\": \"ID\", \"county_name\": \"Madison\", \"county_fips_code\": 16065, \"total\": 52913, \"student_housing\": 14286, \"pct_student_housing\": 27.0, \"tags\": 1}, {\"state\": \"IL\", \"county_name\": \"McDonough\", \"county_fips_code\": 17109, \"total\": 27238, \"student_housing\": 2057, \"pct_student_housing\": 7.55, \"tags\": 2}, {\"state\": \"IN\", \"county_name\": \"Monroe\", \"county_fips_code\": 18105, \"total\": 139718, \"student_housing\": 10645, \"pct_student_housing\": 7.62, \"tags\": 2}, {\"state\": \"IN\", \"county_name\": \"Tippecanoe\", \"county_fips_code\": 18157, \"total\": 186251, \"student_housing\": 13824, \"pct_student_housing\": 7.42, \"tags\": 3}, {\"state\": \"KS\", \"county_name\": \"Atchison\", \"county_fips_code\": 20005, \"total\": 16348, \"student_housing\": 1395, \"pct_student_housing\": 8.53, \"tags\": 2}, {\"state\": \"KS\", \"county_name\": \"Riley\", \"county_fips_code\": 20161, \"total\": 71959, \"student_housing\": 6013, \"pct_student_housing\": 8.36, \"tags\": 2}, {\"state\": \"KY\", \"county_name\": \"Calloway\", \"county_fips_code\": 21035, \"total\": 37103, \"student_housing\": 2782, \"pct_student_housing\": 7.5, \"tags\": 1}, {\"state\": \"KY\", \"county_name\": \"Rowan\", \"county_fips_code\": 21205, \"total\": 24662, \"student_housing\": 2645, \"pct_student_housing\": 10.73, \"tags\": 2}, {\"state\": \"LA\", \"county_name\": \"Lincoln\", \"county_fips_code\": 22061, \"total\": 48396, \"student_housing\": 4647, \"pct_student_housing\": 9.6, \"tags\": 4}, {\"state\": \"MA\", \"county_name\": \"Hampshire\", \"county_fips_code\": 25015, \"total\": 162308, \"student_housing\": 20717, \"pct_student_housing\": 12.76, \"tags\": 6}, {\"state\": \"MI\", \"county_name\": \"Houghton\", \"county_fips_code\": 26061, \"total\": 37361, \"student_housing\": 3170, \"pct_student_housing\": 8.48, \"tags\": 2}, {\"state\": \"MO\", \"county_name\": \"Adair\", \"county_fips_code\": 29001, \"total\": 25314, \"student_housing\": 2332, \"pct_student_housing\": 9.21, \"tags\": 4}, {\"state\": \"MO\", \"county_name\": \"Saline\", \"county_fips_code\": 29195, \"total\": 23333, \"student_housing\": 1718, \"pct_student_housing\": 7.36, \"tags\": 1}, {\"state\": \"MS\", \"county_name\": \"Lafayette\", \"county_fips_code\": 28071, \"total\": 55813, \"student_housing\": 4989, \"pct_student_housing\": 8.94, \"tags\": 2}, {\"state\": \"MS\", \"county_name\": \"Oktibbeha\", \"county_fips_code\": 28105, \"total\": 51788, \"student_housing\": 5160, \"pct_student_housing\": 9.96, \"tags\": 5}, {\"state\": \"NC\", \"county_name\": \"Jackson\", \"county_fips_code\": 37099, \"total\": 43109, \"student_housing\": 4238, \"pct_student_housing\": 9.83, \"tags\": 2}, {\"state\": \"NC\", \"county_name\": \"Watauga\", \"county_fips_code\": 37189, \"total\": 54086, \"student_housing\": 6573, \"pct_student_housing\": 12.15, \"tags\": 7}, {\"state\": \"NE\", \"county_name\": \"Dawes\", \"county_fips_code\": 31045, \"total\": 8199, \"student_housing\": 636, \"pct_student_housing\": 7.76, \"tags\": 1}, {\"state\": \"NE\", \"county_name\": \"Wayne\", \"county_fips_code\": 31179, \"total\": 9697, \"student_housing\": 1141, \"pct_student_housing\": 11.77, \"tags\": 1}, {\"state\": \"NY\", \"county_name\": \"Allegany\", \"county_fips_code\": 36003, \"total\": 46456, \"student_housing\": 3808, \"pct_student_housing\": 8.2, \"tags\": 4}, {\"state\": \"NY\", \"county_name\": \"Otsego\", \"county_fips_code\": 36077, \"total\": 58524, \"student_housing\": 4578, \"pct_student_housing\": 7.82, \"tags\": 2}, {\"state\": \"NY\", \"county_name\": \"Tompkins\", \"county_fips_code\": 36109, \"total\": 105740, \"student_housing\": 13084, \"pct_student_housing\": 12.37, \"tags\": 4}, {\"state\": \"OH\", \"county_name\": \"Athens\", \"county_fips_code\": 39009, \"total\": 62431, \"student_housing\": 7432, \"pct_student_housing\": 11.9, \"tags\": 2}, {\"state\": \"OK\", \"county_name\": \"Payne\", \"county_fips_code\": 40119, \"total\": 81646, \"student_housing\": 7205, \"pct_student_housing\": 8.82, \"tags\": 2}, {\"state\": \"PA\", \"county_name\": \"Centre\", \"county_fips_code\": 42027, \"total\": 158172, \"student_housing\": 14269, \"pct_student_housing\": 9.02, \"tags\": 1}, {\"state\": \"PA\", \"county_name\": \"Union\", \"county_fips_code\": 42119, \"total\": 42681, \"student_housing\": 3163, \"pct_student_housing\": 7.41, \"tags\": 1}, {\"state\": \"SD\", \"county_name\": \"Brookings\", \"county_fips_code\": 46011, \"total\": 34375, \"student_housing\": 2884, \"pct_student_housing\": 8.39, \"tags\": 1}, {\"state\": \"SD\", \"county_name\": \"Clay\", \"county_fips_code\": 46027, \"total\": 14967, \"student_housing\": 2257, \"pct_student_housing\": 15.08, \"tags\": 1}, {\"state\": \"TX\", \"county_name\": \"Brazos\", \"county_fips_code\": 48041, \"total\": 233849, \"student_housing\": 17502, \"pct_student_housing\": 7.48, \"tags\": 6}, {\"state\": \"TX\", \"county_name\": \"Erath\", \"county_fips_code\": 48143, \"total\": 42545, \"student_housing\": 3186, \"pct_student_housing\": 7.49, \"tags\": 1}, {\"state\": \"TX\", \"county_name\": \"Waller\", \"county_fips_code\": 48473, \"total\": 56794, \"student_housing\": 5814, \"pct_student_housing\": 10.24, \"tags\": 1}, {\"state\": \"VA\", \"county_name\": \"Harrisonburg\", \"county_fips_code\": 51660, \"total\": 51814, \"student_housing\": 6547, \"pct_student_housing\": 12.64, \"tags\": 3}, {\"state\": \"VA\", \"county_name\": \"Lynchburg\", \"county_fips_code\": 51680, \"total\": 79009, \"student_housing\": 9002, \"pct_student_housing\": 11.39, \"tags\": 4}, {\"state\": \"VA\", \"county_name\": \"Montgomery\", \"county_fips_code\": 51121, \"total\": 99721, \"student_housing\": 10247, \"pct_student_housing\": 10.28, \"tags\": 1}, {\"state\": \"VA\", \"county_name\": \"Prince Edward\", \"county_fips_code\": 51147, \"total\": 21849, \"student_housing\": 2997, \"pct_student_housing\": 13.72, \"tags\": 1}, {\"state\": \"VA\", \"county_name\": \"Radford\", \"county_fips_code\": 51750, \"total\": 16070, \"student_housing\": 3315, \"pct_student_housing\": 20.63, \"tags\": 1}, {\"state\": \"VA\", \"county_name\": \"Williamsburg\", \"county_fips_code\": 51830, \"total\": 15425, \"student_housing\": 4755, \"pct_student_housing\": 30.83, \"tags\": 2}, {\"state\": \"WA\", \"county_name\": \"Whitman\", \"county_fips_code\": 53075, \"total\": 47973, \"student_housing\": 6130, \"pct_student_housing\": 12.78, \"tags\": 1}]}}, {\"mode\": \"vega-lite\"});\n",
       "</script>"
      ],
      "text/plain": [
       "alt.Chart(...)"
      ]
     },
     "execution_count": 63,
     "metadata": {},
     "output_type": "execute_result"
    }
   ],
   "source": [
    "alt.Chart(college_town).mark_bar().encode(\n",
    "    x = alt.X(\"tags:Q\", bin = True, title = \"No. of Colleges\"),\n",
    "    y = alt.Y(\"count()\", title = \"No. of Counties\")\n",
    ")"
   ]
  },
  {
   "cell_type": "markdown",
   "metadata": {},
   "source": [
    "Secondly, we also want to look at the number of colleges, as in traditional four-year universities and community colleges, present within the county. A good number of them have only one college. And that is fine. Then there are the counties with a rather high number of such colleges, as much as 7! The truth is that some of these \"colleges\" might actually be a part of the same university or college network. They are counted as distinct entities because they are logged as such on OSM.  \n",
    "  \n",
    "However, this approach breaks down a little when we are looking at retirement homes. We can pick out counties with a high proportion of its residents living within assisted living and nursing facilities. However, we cannot count the number of nursing homes because people generally do not digitize and georeference nursing homes, much less put them up on OSM."
   ]
  },
  {
   "cell_type": "code",
   "execution_count": 39,
   "metadata": {},
   "outputs": [],
   "source": [
    "nursing_home_town = fidap.sql(\"\"\"\n",
    "SELECT CAST(POP100 AS INT64) AS total, CAST(P0050005 AS INT64) AS nursing_homes, GEOCODE AS county_fips_code, c.county_name, STUSAB as state,\n",
    "ROUND(100*SAFE_DIVIDE(CAST(P0050005 AS INT64),CAST(POP100 AS INT64)), 2) AS pct_nursing_homes\n",
    "FROM fidap-301014.us_census_2020.Redistricting_Data_Complete\n",
    "INNER JOIN bigquery-public-data.geo_us_boundaries.counties AS c\n",
    "ON c.county_fips_code = GEOCODE\n",
    "WHERE CHAR_LENGTH(GEOID) = 14\n",
    "AND COUNTY IS NOT NULL\n",
    "ORDER BY pct_nursing_homes DESC\n",
    "LIMIT 50;\n",
    "\"\"\")"
   ]
  },
  {
   "cell_type": "markdown",
   "metadata": {},
   "source": [
    "### Urban Diversity  \n",
    "  \n",
    "How diverse are America's cities? Which are some of the most diverse city in America? But the question is, how exactly do we measure diversity? Within a company, HR can compute Diversity, Equity, and Inclusion statistics. But how do we do so for an entire human population?   \n",
    "  \n",
    "If we take the textbook answer from biology, then we know that we are just concerned about the number and relative abundance of different groups found within any organisational unit.   \n",
    "  \n",
    "Okay. So moving forwards, how can measure this? Taking a leaf out of Biology, we can calculate Simpson's Diversity Index which can be expressed as:  \n",
    "  \n",
    "$$\n",
    "D = 1-\\frac{\\sum_{}n(n-1)}{N(N-1)}\n",
    "$$  \n",
    "  \n",
    "where n is the total number of organisms of a particular species, and N is the total number of organisms of all species. Obviously, the value of D ranges from 0 to 1, no diversity to infinite diversity respectively.  \n",
    "  \n",
    "With that in mind, we are actually able to calculate the diversity score for each of America's biggest urban counties.  "
   ]
  },
  {
   "cell_type": "code",
   "execution_count": 121,
   "metadata": {},
   "outputs": [],
   "source": [
    "# counting from largest MSAs\n",
    "urban_diversity = fidap.sql(\"\"\"\n",
    "WITH basic_count AS (\n",
    "SELECT DISTINCT CBSA, COUNTY, NAME, STUSAB AS STATE, CAST(POP100 AS INT64) AS total, \n",
    "CAST(P0020002 AS INT64) AS latinx, \n",
    "CAST(P0020005 AS INT64) AS white,\n",
    "CAST(P0020006 AS INT64) AS black,\n",
    "CAST(P0020007 AS INT64) AS indigenous,\n",
    "CAST(P0020008 AS INT64) AS asian,\n",
    "CAST(P0020009 AS INT64) AS pacific_islander,\n",
    "CAST(P0020010 AS INT64) AS others,\n",
    "CAST(P0020011 AS INT64) AS mixed\n",
    "FROM fidap-301014.us_census_2020.Redistricting_Data_Complete\n",
    "WHERE CBSA IS NOT NULL\n",
    "AND MEMI = '1'\n",
    "AND CHAR_LENGTH(GEOCODE) = 5\n",
    "),\n",
    "\n",
    "diversity AS (\n",
    "SELECT *,\n",
    "1 - SAFE_DIVIDE(((latinx*(latinx - 1)) + (white*(white - 1)) + (black*(black - 1)) + (indigenous*(indigenous - 1)) + (asian*(asian - 1)) + (pacific_islander*(pacific_islander - 1)) + (others*(others - 1)) + (mixed*(mixed - 1))),(total*(total-1))) AS diversity_score\n",
    "FROM basic_count\n",
    "ORDER BY total DESC\n",
    "LIMIT 20)\n",
    "\n",
    "SELECT CBSA, COUNTY, diversity.NAME, STATE, c.lsad_name, diversity_score,\n",
    "total, latinx, white, black, indigenous, asian, pacific_islander, others, mixed\n",
    "FROM diversity\n",
    "INNER JOIN bigquery-public-data.geo_us_boundaries.cbsa AS c\n",
    "ON c.geo_id = diversity.CBSA;\n",
    "\"\"\")"
   ]
  }
 ],
 "metadata": {
  "kernelspec": {
   "display_name": "Python 3 (Spyder)",
   "language": "python3",
   "name": "python3"
  },
  "language_info": {
   "codemirror_mode": {
    "name": "ipython",
    "version": 3
   },
   "file_extension": ".py",
   "mimetype": "text/x-python",
   "name": "python",
   "nbconvert_exporter": "python",
   "pygments_lexer": "ipython3",
   "version": "3.7.6"
  },
  "varInspector": {
   "cols": {
    "lenName": 16,
    "lenType": 16,
    "lenVar": 40
   },
   "kernels_config": {
    "python": {
     "delete_cmd_postfix": "",
     "delete_cmd_prefix": "del ",
     "library": "var_list.py",
     "varRefreshCmd": "print(var_dic_list())"
    },
    "r": {
     "delete_cmd_postfix": ") ",
     "delete_cmd_prefix": "rm(",
     "library": "var_list.r",
     "varRefreshCmd": "cat(var_dic_list()) "
    }
   },
   "types_to_exclude": [
    "module",
    "function",
    "builtin_function_or_method",
    "instance",
    "_Feature"
   ],
   "window_display": false
  }
 },
 "nbformat": 4,
 "nbformat_minor": 4
}
