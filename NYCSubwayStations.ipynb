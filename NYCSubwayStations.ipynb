{
 "cells": [
  {
   "cell_type": "code",
   "execution_count": 1,
   "metadata": {},
   "outputs": [],
   "source": [
    "import pandas as pd\n",
    "import numpy as np\n",
    "import geopandas as gpd\n",
    "import seaborn as sns\n",
    "import matplotlib.pyplot as plt\n",
    "from fidap import fidap_client\n",
    "import config\n",
    "from config import api_key\n",
    "from shapely import wkt\n",
    "\n",
    "# instantiate api connection\n",
    "fidap = fidap_client(api_key=api_key)"
   ]
  },
  {
   "cell_type": "markdown",
   "metadata": {},
   "source": [
    "### Subway Stations in NYC  \n",
    "  \n",
    "Let us say that we are interested in the subway stations in NYC, and we want to find out where they are using the OpenStreetMap (OSM) dataset. "
   ]
  },
  {
   "cell_type": "code",
   "execution_count": 58,
   "metadata": {},
   "outputs": [],
   "source": [
    "## SQL query to get subway stations in NYC\n",
    "subway_stations_proper = fidap.sql(\"\"\"\n",
    "SELECT geometry, short_name.value AS stn_name\n",
    "FROM bigquery-public-data.geo_openstreetmap.planet_features_points\n",
    "JOIN UNNEST(all_tags) AS short_name\n",
    "WHERE short_name.key = 'short_name'\n",
    "AND ('network', 'NYC Subway') IN (SELECT(key, value) FROM UNNEST(all_tags))\n",
    "\"\"\")"
   ]
  },
  {
   "cell_type": "code",
   "execution_count": 15,
   "metadata": {},
   "outputs": [
    {
     "data": {
      "text/html": [
       "<div>\n",
       "<style scoped>\n",
       "    .dataframe tbody tr th:only-of-type {\n",
       "        vertical-align: middle;\n",
       "    }\n",
       "\n",
       "    .dataframe tbody tr th {\n",
       "        vertical-align: top;\n",
       "    }\n",
       "\n",
       "    .dataframe thead th {\n",
       "        text-align: right;\n",
       "    }\n",
       "</style>\n",
       "<table border=\"1\" class=\"dataframe\">\n",
       "  <thead>\n",
       "    <tr style=\"text-align: right;\">\n",
       "      <th></th>\n",
       "      <th>geometry</th>\n",
       "      <th>stn_name</th>\n",
       "    </tr>\n",
       "  </thead>\n",
       "  <tbody>\n",
       "    <tr>\n",
       "      <th>0</th>\n",
       "      <td>POINT(-73.9719996 40.7943793)</td>\n",
       "      <td>96 St</td>\n",
       "    </tr>\n",
       "    <tr>\n",
       "      <th>1</th>\n",
       "      <td>POINT(-73.9473618 40.7038293)</td>\n",
       "      <td>Lorimer St</td>\n",
       "    </tr>\n",
       "    <tr>\n",
       "      <th>2</th>\n",
       "      <td>POINT(-73.9533503 40.7068552)</td>\n",
       "      <td>Hewes St</td>\n",
       "    </tr>\n",
       "    <tr>\n",
       "      <th>3</th>\n",
       "      <td>POINT(-73.9408924 40.8141229)</td>\n",
       "      <td>135 St</td>\n",
       "    </tr>\n",
       "    <tr>\n",
       "      <th>4</th>\n",
       "      <td>POINT(-73.9362163 40.8204635)</td>\n",
       "      <td>145 St</td>\n",
       "    </tr>\n",
       "    <tr>\n",
       "      <th>5</th>\n",
       "      <td>POINT(-73.9455416 40.8077529)</td>\n",
       "      <td>125 St</td>\n",
       "    </tr>\n",
       "    <tr>\n",
       "      <th>6</th>\n",
       "      <td>POINT(-73.98311 40.677316)</td>\n",
       "      <td>Union St</td>\n",
       "    </tr>\n",
       "    <tr>\n",
       "      <th>7</th>\n",
       "      <td>POINT(-73.968501 40.576312)</td>\n",
       "      <td>Ocean Pkwy</td>\n",
       "    </tr>\n",
       "    <tr>\n",
       "      <th>8</th>\n",
       "      <td>POINT(-73.96007 40.688873)</td>\n",
       "      <td>Classon Av</td>\n",
       "    </tr>\n",
       "    <tr>\n",
       "      <th>9</th>\n",
       "      <td>POINT(-73.988691 40.745494)</td>\n",
       "      <td>28 St</td>\n",
       "    </tr>\n",
       "  </tbody>\n",
       "</table>\n",
       "</div>"
      ],
      "text/plain": [
       "                        geometry    stn_name\n",
       "0  POINT(-73.9719996 40.7943793)       96 St\n",
       "1  POINT(-73.9473618 40.7038293)  Lorimer St\n",
       "2  POINT(-73.9533503 40.7068552)    Hewes St\n",
       "3  POINT(-73.9408924 40.8141229)      135 St\n",
       "4  POINT(-73.9362163 40.8204635)      145 St\n",
       "5  POINT(-73.9455416 40.8077529)      125 St\n",
       "6     POINT(-73.98311 40.677316)    Union St\n",
       "7    POINT(-73.968501 40.576312)  Ocean Pkwy\n",
       "8     POINT(-73.96007 40.688873)  Classon Av\n",
       "9    POINT(-73.988691 40.745494)       28 St"
      ]
     },
     "execution_count": 15,
     "metadata": {},
     "output_type": "execute_result"
    }
   ],
   "source": [
    "subway_stations_proper.head(n = 5)"
   ]
  },
  {
   "cell_type": "code",
   "execution_count": 24,
   "metadata": {},
   "outputs": [
    {
     "data": {
      "text/plain": [
       "424"
      ]
     },
     "execution_count": 24,
     "metadata": {},
     "output_type": "execute_result"
    }
   ],
   "source": [
    "subway_stations_proper.shape[0]"
   ]
  },
  {
   "cell_type": "markdown",
   "metadata": {},
   "source": [
    "Great, we got all 424 of them. But the problem is that the `geometry` column is not exactly conducive for plotting. We have to convert the dataframe into a `GeoDataFrame` using the `GeoPandas` module. "
   ]
  },
  {
   "cell_type": "code",
   "execution_count": 59,
   "metadata": {},
   "outputs": [],
   "source": [
    "## converting into gdf\n",
    "subway_stations_proper['geometry'] = subway_stations_proper['geometry'].apply(wkt.loads)\n",
    "subway_stations_gdf = gpd.GeoDataFrame(subway_stations_proper, geometry = 'geometry', crs = 'epsg:4326')"
   ]
  },
  {
   "cell_type": "markdown",
   "metadata": {},
   "source": [
    "With this conversion complete, we are able to plot the map of all subway stations in NYC. "
   ]
  },
  {
   "cell_type": "code",
   "execution_count": 60,
   "metadata": {},
   "outputs": [
    {
     "data": {
      "text/plain": [
       "<AxesSubplot:>"
      ]
     },
     "execution_count": 60,
     "metadata": {},
     "output_type": "execute_result"
    },
    {
     "data": {
      "image/png": "[encoded data removed]",
      "text/plain": [
       "<Figure size 432x288 with 1 Axes>"
      ]
     },
     "metadata": {},
     "output_type": "display_data"
    }
   ],
   "source": [
    "subway_stations_gdf.plot()"
   ]
  },
  {
   "cell_type": "markdown",
   "metadata": {},
   "source": [
    "What if we want to draw a quarter mile radius around each subway station? "
   ]
  },
  {
   "cell_type": "code",
   "execution_count": 65,
   "metadata": {},
   "outputs": [],
   "source": [
    "subway_stations = subway_stations_gdf.copy()\n",
    "subway_stations = subway_stations.to_crs('EPSG:3857')\n",
    "subway_stations.geometry = subway_stations.geometry.buffer(400, 6)"
   ]
  },
  {
   "cell_type": "code",
   "execution_count": 69,
   "metadata": {},
   "outputs": [
    {
     "data": {
      "text/plain": [
       "(-8243074.348871691, -8208320.680530597, 4947177.7203211505, 5000910.190615622)"
      ]
     },
     "execution_count": 69,
     "metadata": {},
     "output_type": "execute_result"
    },
    {
     "data": {
      "image/png": "[encoded data removed]",
      "text/plain": [
       "<Figure size 432x288 with 1 Axes>"
      ]
     },
     "metadata": {},
     "output_type": "display_data"
    }
   ],
   "source": [
    "subway_stations.plot().axis('off')"
   ]
  },
  {
   "cell_type": "markdown",
   "metadata": {},
   "source": [
    "Okay, what if we want to see a 1-mile buffer? "
   ]
  },
  {
   "cell_type": "code",
   "execution_count": 71,
   "metadata": {},
   "outputs": [],
   "source": [
    "subway_stations_1mi = subway_stations_gdf.copy()\n",
    "subway_stations_1mi = subway_stations_1mi.to_crs('EPSG:3857')\n",
    "subway_stations_1mi.geometry = subway_stations_1mi.geometry.buffer(1600, 6)"
   ]
  },
  {
   "cell_type": "code",
   "execution_count": 72,
   "metadata": {},
   "outputs": [
    {
     "data": {
      "text/plain": [
       "(-8244394.348871691, -8207000.680530597, 4945857.7203211505, 5002230.190615622)"
      ]
     },
     "execution_count": 72,
     "metadata": {},
     "output_type": "execute_result"
    },
    {
     "data": {
      "image/png": "[encoded data removed]",
      "text/plain": [
       "<Figure size 432x288 with 1 Axes>"
      ]
     },
     "metadata": {},
     "output_type": "display_data"
    }
   ],
   "source": [
    "subway_stations_1mi.plot().axis('off')"
   ]
  }
 ],
 "metadata": {
  "kernelspec": {
   "display_name": "Python 3 (Spyder)",
   "language": "python3",
   "name": "python3"
  },
  "language_info": {
   "codemirror_mode": {
    "name": "ipython",
    "version": 3
   },
   "file_extension": ".py",
   "mimetype": "text/x-python",
   "name": "python",
   "nbconvert_exporter": "python",
   "pygments_lexer": "ipython3",
   "version": "3.7.6"
  },
  "varInspector": {
   "cols": {
    "lenName": 16,
    "lenType": 16,
    "lenVar": 40
   },
   "kernels_config": {
    "python": {
     "delete_cmd_postfix": "",
     "delete_cmd_prefix": "del ",
     "library": "var_list.py",
     "varRefreshCmd": "print(var_dic_list())"
    },
    "r": {
     "delete_cmd_postfix": ") ",
     "delete_cmd_prefix": "rm(",
     "library": "var_list.r",
     "varRefreshCmd": "cat(var_dic_list()) "
    }
   },
   "types_to_exclude": [
    "module",
    "function",
    "builtin_function_or_method",
    "instance",
    "_Feature"
   ],
   "window_display": false
  }
 },
 "nbformat": 4,
 "nbformat_minor": 4
}
