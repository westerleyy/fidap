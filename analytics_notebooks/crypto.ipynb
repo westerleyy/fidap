{
 "cells": [
  {
   "cell_type": "code",
   "execution_count": null,
   "metadata": {},
   "outputs": [],
   "source": [
    "import pandas as pd\n",
    "import datetime\n",
    "import numpy as np\n",
    "import altair as alt\n",
    "import fidap\n",
    "import config\n",
    "import geopandas as gpd\n",
    "from shapely import wkt\n",
    "import matplotlib.pyplot as plt\n",
    "\n",
    "# instantiate connection to fidap\n",
    "fidap = fidap.fidap_client(api_key = config.api_key)"
   ]
  },
  {
   "cell_type": "code",
   "execution_count": null,
   "metadata": {},
   "outputs": [],
   "source": [
    "btc_corr = fidap.sql(\"\"\"\n",
    "WITH BTC AS (\n",
    "SELECT CAST(Open_Timr AS STRING) AS b_date, symbol, close,\n",
    "LAG(close, 1) OVER (PARTITION BY symbol ORDER BY date ASC) AS previous_day_close,\n",
    "ROUND((close/LAG(close, 1) OVER (PARTITION BY symbol ORDER BY date ASC)) - 1,2) AS pct_over_previous_day_close\n",
    "FROM fidap-301014.binance.binance\n",
    "WHERE symbol IN ('BTC/USDT')\n",
    "ORDER BY date, symbol), \n",
    "\n",
    "ETH AS (\n",
    "SELECT CAST(date AS STRING) AS e_date, symbol, close,\n",
    "LAG(close, 1) OVER (PARTITION BY symbol ORDER BY date ASC) AS previous_day_close,\n",
    "ROUND((close/LAG(close, 1) OVER (PARTITION BY symbol ORDER BY date ASC)) - 1,2) AS pct_over_previous_day_close\n",
    "FROM fidap-301014.binance.klines_1day\n",
    "WHERE symbol IN ('ETH/USDT')\n",
    "ORDER BY date, symbol\n",
    ")\n",
    "\n",
    "SELECT CORR(b.pct_over_previous_day_close, e.pct_over_previous_day_close) AS corr_eth_btc\n",
    "FROM ETH AS e \n",
    "INNER JOIN BTC AS b \n",
    "ON b_date = e_date \n",
    "WHERE e.pct_over_previous_day_close IS NOT NULL\n",
    "\"\"\")"
   ]
  },
  {
   "cell_type": "code",
   "execution_count": null,
   "metadata": {},
   "outputs": [],
   "source": [
    "highly_traded_pairs = fidap.sql(\"\"\"\n",
    "SELECT PAIR_NAME, VOLUME, CAST(TIMESTAMP_MILLIS(CAST(OPEN_TIME AS INT64)) AS STRING) AS Open_Date\n",
    "FROM fidap-301014.binance.klines_1month\n",
    "ORDER BY Open_Date DESC, VOLUME DESC\n",
    "LIMIT 10\n",
    "\"\"\")"
   ]
  },
  {
   "cell_type": "code",
   "execution_count": null,
   "metadata": {},
   "outputs": [],
   "source": [
    "most_pops_pairs = fidap.sql(\"\"\"\n",
    "WITH ten_most_traded_pair AS (\n",
    "SELECT PAIR_NAME, Quote_asset_volume, CAST(TIMESTAMP_MILLIS(Open_Time) AS STRING) AS Open_Date\n",
    "FROM fidap-301014.binance.klines_1day\n",
    "ORDER BY Open_Date DESC, Quote_asset_volume DESC\n",
    "LIMIT 10) \n",
    "\n",
    "SELECT b.PAIR_NAME, Number_of_trades, SUBSTR(CAST(TIMESTAMP_MILLIS(a.Open_Time) AS STRING),1,10) AS Open_Date\n",
    "FROM fidap-301014.binance.klines_1day AS a\n",
    "INNER JOIN ten_most_traded_pair AS b\n",
    "ON a.PAIR_NAME = b.PAIR_NAME\n",
    "WHERE a.Open_Time > UNIX_MILLIS(TIMESTAMP \"2021-09-21 00:00:00+00\")\n",
    "ORDER BY b.PAIR_NAME, Open_Date\n",
    "\"\"\")"
   ]
  }
 ],
 "metadata": {
  "kernelspec": {
   "display_name": "Python 3 (Spyder)",
   "language": "python3",
   "name": "python3"
  },
  "language_info": {
   "codemirror_mode": {
    "name": "ipython",
    "version": 3
   },
   "file_extension": ".py",
   "mimetype": "text/x-python",
   "name": "python",
   "nbconvert_exporter": "python",
   "pygments_lexer": "ipython3",
   "version": "3.7.6"
  },
  "varInspector": {
   "cols": {
    "lenName": 16,
    "lenType": 16,
    "lenVar": 40
   },
   "kernels_config": {
    "python": {
     "delete_cmd_postfix": "",
     "delete_cmd_prefix": "del ",
     "library": "var_list.py",
     "varRefreshCmd": "print(var_dic_list())"
    },
    "r": {
     "delete_cmd_postfix": ") ",
     "delete_cmd_prefix": "rm(",
     "library": "var_list.r",
     "varRefreshCmd": "cat(var_dic_list()) "
    }
   },
   "types_to_exclude": [
    "module",
    "function",
    "builtin_function_or_method",
    "instance",
    "_Feature"
   ],
   "window_display": false
  }
 },
 "nbformat": 4,
 "nbformat_minor": 4
}
