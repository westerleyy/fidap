{
 "cells": [
  {
   "cell_type": "code",
   "execution_count": 1,
   "metadata": {},
   "outputs": [],
   "source": [
    "import pandas as pd\n",
    "import numpy as np\n",
    "import altair as alt\n",
    "import config\n",
    "import fidap\n",
    "import geopandas as gpd\n",
    "from shapely import wkt\n",
    "import matplotlib.pyplot as plt\n",
    "\n",
    "# set up fidap connection\n",
    "fidap = fidap.fidap_client(api_key = config.api_key)"
   ]
  },
  {
   "cell_type": "markdown",
   "metadata": {},
   "source": [
    "### America's Housing Crisis  \n",
    "  \n",
    "Everyone knows that the US is in the midst of a housing crisis where affordable housing is an oxymoronic phrase in some of the more desirable cities. An [NYT article](https://www.nytimes.com/2021/08/10/opinion/housing-crisis-eviction.html) from yesterday (August 10, 2021) shows why.   \n",
    "  \n",
    "[Research](https://www.apartmentlist.com/research/national-rent-data) has also pointed towards rising rental prices across the country.    \n",
    "  \n",
    "We can make use of data from Redfin data to identify which parts of the US have seen a revival in the housing market. We cannot use Zillow because the data ends at the end of March 2021.    "
   ]
  },
  {
   "cell_type": "code",
   "execution_count": null,
   "metadata": {},
   "outputs": [],
   "source": [
    "# getting state and county names and shapefile\n",
    "continental_county_boundaries = fidap.sql(\"\"\"\n",
    "SELECT c.lsad_name, s.state, CONCAT(c.lsad_name, \", \", s.state) AS full_county_name, \n",
    "c.geo_id, c.county_geom \n",
    "FROM bigquery-public-data.geo_us_boundaries.counties AS c\n",
    "INNER JOIN bigquery-public-data.geo_us_boundaries.states AS s\n",
    "ON s.state_fips_code = c.state_fips_code\n",
    "WHERE c.state_fips_code NOT IN ('02', '15', '66', '72', '69', '78', '60');\n",
    "\"\"\")\n",
    "\n",
    "# continental_county_boundaries.county_geom = continental_county_boundaries.county_geom.apply(wkt.loads)\n",
    "# continental_county_boundaries_gdf = gpd.GeoDataFrame(continental_county_boundaries, geometry = 'county_geom', crs = 'epsg:4326')"
   ]
  },
  {
   "cell_type": "markdown",
   "metadata": {},
   "source": [
    "#### Transaction Volumes  \n",
    "  \n",
    "The easiest indicator is to look at the number of homes sold since January 2020.  "
   ]
  },
  {
   "cell_type": "code",
   "execution_count": null,
   "metadata": {
    "scrolled": true
   },
   "outputs": [],
   "source": [
    "weekly_homes_sold = fidap.sql(\"\"\"\n",
    "SELECT period_end, SUM(CAST(total_homes_sold AS FLOAT64)) AS total_homes_sold\n",
    "FROM fidap-301014.redfin.weekly_housing_market\n",
    "WHERE duration = '1 weeks'\n",
    "AND CAST(period_begin AS DATE) > \"2019-12-31\"\n",
    "AND region_type = 'county'\n",
    "GROUP BY period_end\n",
    "\"\"\")\n",
    "\n",
    "weekly_homes_sold.period_end = pd.to_datetime(weekly_homes_sold.period_end)\n",
    "\n",
    "# plotting it\n",
    "alt.Chart(weekly_homes_sold).mark_line(point = True).encode(\n",
    "    x = alt.X('period_end', title = \"Date\"),\n",
    "    y = alt.Y('total_homes_sold', title = \"No. of Homes Sold\")\n",
    ").properties(title = \"All Homes Sold\")"
   ]
  },
  {
   "cell_type": "markdown",
   "metadata": {},
   "source": [
    "Interestingly, homes sold in metropolitan areas have held steady at approximately 50% of Redfin's total throughout 2020 and 2021."
   ]
  },
  {
   "cell_type": "code",
   "execution_count": null,
   "metadata": {},
   "outputs": [],
   "source": [
    "monthly_homes_sold = fidap.sql(\"\"\"\n",
    "SELECT LEFT(period_end, 4) AS period_year, SUBSTR(period_end, 6, 2) AS period_month, SUM(CAST(total_homes_sold AS FLOAT64)) AS total_homes_sold\n",
    "FROM fidap-301014.redfin.weekly_housing_market\n",
    "WHERE duration = '1 weeks'\n",
    "AND region_type = 'county'\n",
    "AND CAST(period_begin AS DATE) > \"2019-12-31\"\n",
    "GROUP BY LEFT(period_end, 4), SUBSTR(period_end, 6, 2)\n",
    "\"\"\")\n",
    "\n",
    "# plotting it\n",
    "alt.Chart(monthly_homes_sold).mark_line(point = True).encode(\n",
    "    x = alt.X('period_month', title = \"Month of Year\"),\n",
    "    y = alt.Y('total_homes_sold', title = \"No. of Homes Sold\"),\n",
    "    color = alt.Color('period_year:N', title = \"Year\")\n",
    ").properties(title = \"All Homes Sold\")"
   ]
  },
  {
   "cell_type": "markdown",
   "metadata": {},
   "source": [
    "What we can conclude is that across the country, transaction volumes have risen, and are higher than 2020.  \n",
    "  \n",
    "Which are some of the counties that have seen the most amount of action? "
   ]
  },
  {
   "cell_type": "code",
   "execution_count": null,
   "metadata": {},
   "outputs": [],
   "source": [
    "#redfin_sales_sorted = redfin_sales.copy()\n",
    "# redfin_sales_sorted['weekly_rank'] = redfin_sales_sorted.groupby('period_end')['total_homes_sold'].rank('dense', ascending = False)\n",
    "\n",
    "# ranking query\n",
    "redfin_sales_sorted = fidap.sql(\"\"\"\n",
    "SELECT period_end, CAST(total_homes_sold AS FLOAT64) AS total_homes_sold, region_name,\n",
    "ROW_NUMBER() OVER(PARTITION BY period_end ORDER BY CAST(total_homes_sold AS FLOAT64) DESC) AS weekly_rank\n",
    "FROM fidap-301014.redfin.weekly_housing_market\n",
    "WHERE duration = '1 weeks'\n",
    "AND region_type = 'county'\n",
    "AND CAST(period_begin AS DATE) > \"2019-12-31\"\n",
    "\"\"\")\n",
    "\n",
    "redfin_sales_sorted.period_end = pd.to_datetime(redfin_sales_sorted.period_end)\n",
    "\n",
    "# top 3 counties by transaction volume\n",
    "redfin_sales_sorted_top = redfin_sales_sorted[(redfin_sales_sorted['weekly_rank']<4)]\n",
    "\n",
    "\n",
    "# plotting\n",
    "alt.Chart(redfin_sales_sorted_top).mark_line().encode(\n",
    "    x = alt.X('period_end', title = \"Date\"),\n",
    "    y = alt.Y('total_homes_sold', title = \"No. of Homes Sold\", impute = alt.ImputeParams(value = None)),\n",
    "    color = alt.Color('region_name', title = \"County\")\n",
    ")"
   ]
  },
  {
   "cell_type": "markdown",
   "metadata": {},
   "source": [
    "The counties with the highest transaction volumes are the big urban counties corresponding to Chicago, Houston, Los Angeles, and Phoenix. This did not change despite the pandemic. Cities remain desirable for buyers.  \n",
    "  \n",
    "At the same time, we also want to identify counties which saw the biggest jump in sales expressed in percentage. We can compare July 2020 with July 2021 since housing sales generally peak in the summer months.By the way, it is way easier in SQL than in Python with CTEs.   "
   ]
  },
  {
   "cell_type": "code",
   "execution_count": null,
   "metadata": {},
   "outputs": [],
   "source": [
    "# calculate the differences \n",
    "biggest_jumps = fidap.sql(\"\"\"\n",
    "WITH july_2020 AS (\n",
    "SELECT SUM(CAST(total_homes_sold AS FLOAT64)) AS ths_jul20, region_name,\n",
    "FROM fidap-301014.redfin.weekly_housing_market\n",
    "WHERE duration = '1 weeks'\n",
    "AND region_type = 'county'\n",
    "AND period_end LIKE '2020-07%'\n",
    "GROUP BY region_name\n",
    "),\n",
    "\n",
    "july_2021 AS (\n",
    "SELECT SUM(CAST(total_homes_sold AS FLOAT64)) AS ths_jul21, region_name,\n",
    "FROM fidap-301014.redfin.weekly_housing_market\n",
    "WHERE duration = '1 weeks'\n",
    "AND region_type = 'county'\n",
    "AND period_end LIKE '2021-07%'\n",
    "GROUP BY region_name\n",
    ")\n",
    "\n",
    "SELECT ju.region_name, ths_jul20, ths_jul21, ROUND(100*(ths_jul21-ths_jul20)/ths_jul20,2) AS homes_sold_delta_pct\n",
    "FROM july_2021 AS ju \n",
    "INNER JOIN july_2020 AS ja\n",
    "ON ju.region_name = ja.region_name\n",
    "WHERE ths_jul20 > 10\n",
    "\"\"\")\n",
    "\n",
    "# reshaping\n",
    "biggest_jumps = biggest_jumps.rename(columns = {\n",
    "    'ths_jul20':'July 2020',\n",
    "    'ths_jul21':'July 2021'\n",
    "})\n",
    "\n",
    "biggest_jumps = biggest_jumps.sort_values('homes_sold_delta_pct', ascending = False)\n",
    "biggest_jumps = biggest_jumps.reset_index(drop = True)\n",
    "biggest_jumps_top10 = biggest_jumps.loc[1:10,:]\n",
    "\n",
    "biggest_jumps_long = pd.melt(biggest_jumps_top10, id_vars = ['region_name', 'homes_sold_delta_pct'], value_vars = ['July 2020', 'July 2021'])\n",
    "\n",
    "# plotting\n",
    "\n",
    "alt.Chart(biggest_jumps_long).mark_bar().encode(\n",
    "    x = alt.X('variable', axis = alt.Axis(labels = False), title = None),\n",
    "    y = alt.Y('value', title = \"No. of Homes Sold\"),\n",
    "    color = alt.Color('variable', title = \"Month\"),\n",
    "    column = alt.Column('region_name', title = \"\", header = alt.Header(labelAngle = 15, labelPadding = -30, labelOrient = 'top'))\n",
    ")"
   ]
  },
  {
   "cell_type": "code",
   "execution_count": null,
   "metadata": {},
   "outputs": [],
   "source": [
    "ytd_transaction_vols = fidap.sql(\"\"\"\n",
    "WITH ths_2020 AS (\n",
    "SELECT SUM(CAST(total_homes_sold AS FLOAT64)) AS ths_20, region_name\n",
    "FROM fidap-301014.redfin.weekly_housing_market\n",
    "WHERE duration = '1 weeks'\n",
    "AND region_type = 'county'\n",
    "AND period_end LIKE '2020%'\n",
    "GROUP BY region_name \n",
    "),\n",
    "\n",
    "ths_2021 AS (\n",
    "SELECT SUM(CAST(total_homes_sold AS FLOAT64)) AS ths_21, region_name,\n",
    "FROM fidap-301014.redfin.weekly_housing_market\n",
    "WHERE duration = '1 weeks'\n",
    "AND region_type = 'county'\n",
    "AND period_end LIKE '2021%'\n",
    "GROUP BY region_name\n",
    "),\n",
    "\n",
    "county_geom AS (\n",
    "SELECT CONCAT(c.lsad_name, \", \", s.state) AS full_county_name, c.geo_id, c.county_geom \n",
    "FROM bigquery-public-data.geo_us_boundaries.counties AS c\n",
    "INNER JOIN bigquery-public-data.geo_us_boundaries.states AS s\n",
    "ON s.state_fips_code = c.state_fips_code\n",
    ")\n",
    "\n",
    "SELECT ju.region_name AS county, cg.geo_id AS geoid,  ths_20, ths_21, (100*(ths_21/ths_20)) AS homes_sold_pct,\n",
    "ROW_NUMBER() OVER (ORDER BY ths_20 DESC) AS jan20_rank,\n",
    "ROW_NUMBER() OVER (ORDER BY ths_21 DESC) AS jul21_rank,\n",
    "ROW_NUMBER() OVER (ORDER BY ths_20 DESC) - ROW_NUMBER() OVER (ORDER BY ths_21 DESC) AS rank_change,\n",
    "cg.county_geom AS geom\n",
    "FROM ths_2021 AS ju \n",
    "INNER JOIN ths_2020 AS ja\n",
    "ON ju.region_name = ja.region_name\n",
    "INNER JOIN county_geom AS cg\n",
    "ON ju.region_name = cg.full_county_name\n",
    "WHERE ths_20 > 10 \n",
    "\"\"\")"
   ]
  },
  {
   "cell_type": "code",
   "execution_count": null,
   "metadata": {},
   "outputs": [],
   "source": [
    "alt.Chart(ytd_transaction_vols).mark_bar().encode(\n",
    "    x = alt.X('homes_sold_bin:Q',title = \"Homes Sold in 2021 as % of 2020\"),\n",
    "    y = 'count()'\n",
    ").transform_bin('homes_sold_bin', 'homes_sold_pct', bin = alt.Bin(step = 25))"
   ]
  },
  {
   "cell_type": "markdown",
   "metadata": {},
   "source": [
    "What we can see is that generally, as of July 25 2021, transaction volumes for the year 2021 across most counties are up to 75% of transaction volumes for the entire year of 2020. This is generally little higher than expected. At the same time, we see that there is an extremely severe right skew which suggests that demand has spiked in certain counties.  "
   ]
  },
  {
   "cell_type": "code",
   "execution_count": null,
   "metadata": {},
   "outputs": [],
   "source": [
    "ytd_transaction_vols = ytd_transaction_vols.sort_values('rank_change', ascending = False)\n",
    "ytd_transaction_vols.head(n = 10)"
   ]
  },
  {
   "cell_type": "markdown",
   "metadata": {},
   "source": [
    "Each county is first ranked by transaction volume in each year. And then, counties are ranked in descending order by the number of places it has moved up. We see that the counties which have seen the biggest increments in transaction volumes are largely in the South. "
   ]
  },
  {
   "cell_type": "code",
   "execution_count": null,
   "metadata": {},
   "outputs": [],
   "source": [
    "ytd_transaction_vols = ytd_transaction_vols.sort_values('homes_sold_pct', ascending = False)\n",
    "\n",
    "top_transaction_counties = ytd_transaction_vols[(ytd_transaction_vols['homes_sold_pct']>=100)]\n",
    "top_transaction_counties.head(n=10)"
   ]
  },
  {
   "cell_type": "markdown",
   "metadata": {},
   "source": [
    "If we rank counties by increments in transaction volumes in terms of percentage change, again we see that Southern counties take the top spots."
   ]
  },
  {
   "cell_type": "code",
   "execution_count": null,
   "metadata": {
    "scrolled": true
   },
   "outputs": [],
   "source": [
    "state_col = top_transaction_counties['region_name'].str.split(\", \", n = 1, expand = True)\n",
    "top_transaction_counties.loc['state'] = state_col[1]\n",
    "top_transaction_counties_states = top_transaction_counties.groupby('state').agg('count')\n",
    "top_transaction_counties_states = top_transaction_counties_states.loc[:, \"region_name\"].reset_index().sort_values('region_name', ascending = False)\n",
    "top_transaction_counties_states.head()"
   ]
  },
  {
   "cell_type": "markdown",
   "metadata": {},
   "source": [
    "Really, if we look at counties in the United States that have already surpassed 2020's transaction volumes by end-July 2021, they are most commonly found in Southern states like GA, TX, TN, OK, and FL."
   ]
  },
  {
   "cell_type": "code",
   "execution_count": null,
   "metadata": {},
   "outputs": [],
   "source": [
    "ytd_transaction_vols['geometry'] = gpd.GeoSeries.from_wkt(ytd_transaction_vols['geom'])\n",
    "ytd_transaction_vols_gdf = gpd.GeoDataFrame(ytd_transaction_vols, \n",
    "                                            geometry = 'geometry', crs = 'epsg:4326')\n",
    "\n",
    "# only continental US\n",
    "ytd_transaction_vols_gdf_filtered = ytd_transaction_vols_gdf[(~ytd_transaction_vols_gdf['county'].str.contains('AK')) & (~ytd_transaction_vols_gdf['county'].str.contains('HI')) & (ytd_transaction_vols_gdf['homes_sold_pct']>100)]\n",
    "\n",
    "fig, ax  = plt.subplots(figsize = (12,9))\n",
    "continental_county_boundaries_gdf.plot(ax = ax, color = '#f0f0f0', )\n",
    "ytd_transaction_vols_gdf_filtered.plot(ax = ax, column = 'homes_sold_pct', \n",
    "                                       cmap = 'Oranges', legend = True,\n",
    "                                       legend_kwds = {'orientation':'horizontal'})\n",
    "fig.suptitle(\"Counties with High Transaction Volumes\")\n",
    "ax.set_axis_off()\n",
    "plt.show()"
   ]
  },
  {
   "cell_type": "markdown",
   "metadata": {},
   "source": [
    "#### Transaction Prices"
   ]
  },
  {
   "cell_type": "markdown",
   "metadata": {},
   "source": [
    "We can view changes in property prices across the entire US first. "
   ]
  },
  {
   "cell_type": "code",
   "execution_count": null,
   "metadata": {},
   "outputs": [],
   "source": [
    "weekly_price_psf = fidap.sql(\"\"\"\n",
    "SELECT period_end, APPROX_QUANTILES(CAST(median_sale_ppsf AS FLOAT64), 100)[OFFSET(50)] AS Median, APPROX_QUANTILES(CAST(median_sale_ppsf AS FLOAT64),100)[OFFSET(75)] AS ThirdQuartile, APPROX_QUANTILES(CAST(median_sale_ppsf AS FLOAT64),100)[OFFSET(25)] AS FirstQuartile\n",
    "FROM fidap-301014.redfin.weekly_housing_market\n",
    "WHERE duration = '1 weeks'\n",
    "AND region_type = 'county'\n",
    "AND CAST(period_begin AS DATE) > '2020-01-01'\n",
    "GROUP BY period_end \n",
    "\"\"\")\n",
    "\n",
    "weekly_price_psf = weekly_price_psf.reset_index()\n",
    "\n",
    "weekly_price_psf.period_end = pd.to_datetime(weekly_price_psf.period_end)\n",
    "weekly_price_psf = pd.melt(weekly_price_psf, id_vars = 'period_end', \n",
    "                           value_vars = ['Median', 'FirstQuartile', 'ThirdQuartile'])\n",
    "\n",
    "alt.Chart(weekly_price_psf).mark_line(point = True).encode(\n",
    "    x = alt.X('period_end', title = \"Date\"),\n",
    "    y = alt.Y('value', title = 'Sale Price ($/psf)'),\n",
    "    color = 'variable'\n",
    ")"
   ]
  },
  {
   "cell_type": "markdown",
   "metadata": {},
   "source": [
    "What we can see is that prices have risen across the board. The rate of sales price increase per square foot is generally the same at different price levels. However, prices in the higher range seem to have increased at a faster rate. I suppose we can look at states where prices have risen the most.  \n",
    "  \n",
    "Due to data querying and downloading restrictions, we have to smoothen out the data a litle by increasing the duration to 12 weeks and only looking at tranactions starting March 2020 when Covid-19 was just making its presence felt in the US.   "
   ]
  },
  {
   "cell_type": "code",
   "execution_count": null,
   "metadata": {},
   "outputs": [],
   "source": [
    "state_weekly_price_psf = fidap.sql(\"\"\"\n",
    "SELECT RIGHT(region_name, 2) AS state, period_end, APPROX_QUANTILES(CAST(median_sale_ppsf AS FLOAT64), 100)[OFFSET(50)] AS Median, APPROX_QUANTILES(CAST(median_sale_ppsf AS FLOAT64),100)[OFFSET(75)] AS ThirdQuartile, APPROX_QUANTILES(CAST(median_sale_ppsf AS FLOAT64),100)[OFFSET(25)] AS FirstQuartile\n",
    "FROM fidap-301014.redfin.weekly_housing_market\n",
    "WHERE duration = '12 weeks'\n",
    "AND region_type = 'county'\n",
    "AND region_name NOT LIKE 'All Redfin Metros'\n",
    "AND CAST(period_begin AS DATE) > '2020-03-01'\n",
    "GROUP BY period_end, RIGHT(region_name, 2)\n",
    "\"\"\")\n",
    "\n",
    "state_weekly_price_psf = state_weekly_price_psf.reset_index()\n",
    "\n",
    "state_weekly_price_psf.period_end = pd.to_datetime(state_weekly_price_psf.period_end)\n",
    "state_weekly_price_psf = pd.melt(state_weekly_price_psf, id_vars = ['period_end', 'state'], \n",
    "                                 value_vars = ['Median', 'FirstQuartile', 'ThirdQuartile'])\n",
    "\n",
    "# plotting\n",
    "alt.data_transformers.disable_max_rows()\n",
    "alt.Chart(state_weekly_price_psf).mark_line().encode(\n",
    "    x = alt.X('period_end', title = \"Date\"),\n",
    "    y = alt.Y('value', title = 'Sale Price ($/psf)'),\n",
    "    color = 'variable',\n",
    "    facet = alt.Facet('state:O', columns = 5)\n",
    ").properties(width = 100, height = 100)"
   ]
  },
  {
   "cell_type": "markdown",
   "metadata": {},
   "source": [
    "Unfortunately, we do not have information on MT, ND, and SD. But what we have paints a rather interesting picture. There are states where housing prices have remained flat and others that have consistently risen such as HI, CA, WA, NJ, MA, and AZ. Interestingly, prices seem to have flatlined or even decreased in NE. In UT, CA, and HI, we see a much larger increase in prices at the higher price ranges than at the lower ranges.  "
   ]
  },
  {
   "cell_type": "code",
   "execution_count": null,
   "metadata": {},
   "outputs": [],
   "source": [
    "price_jumps = fidap.sql(\"\"\"\n",
    "WITH jan_2020 AS (\n",
    "SELECT AVG(CAST(median_sale_ppsf AS FLOAT64)) AS jan20, region_name,\n",
    "FROM fidap-301014.redfin.weekly_housing_market\n",
    "WHERE duration = '1 weeks'\n",
    "AND region_type = 'county'\n",
    "AND period_end LIKE '2020-01%'\n",
    "GROUP BY region_name\n",
    "),\n",
    "\n",
    "july_2021 AS (\n",
    "SELECT AVG(CAST(median_sale_ppsf AS FLOAT64)) AS jul21, region_name,\n",
    "FROM fidap-301014.redfin.weekly_housing_market\n",
    "WHERE duration = '1 weeks'\n",
    "AND region_type = 'county'\n",
    "AND period_end LIKE '2021-07%'\n",
    "GROUP BY region_name\n",
    ")\n",
    "\n",
    "SELECT ju.region_name, jan20, jul21, ROUND(100*(jul21-jan20)/jan20,2) AS median_delta_pct,\n",
    "ROW_NUMBER() OVER (ORDER BY jan20 DESC) AS jan20_rank,\n",
    "ROW_NUMBER() OVER (ORDER BY jul21 DESC) AS jul21_rank,\n",
    "(ROW_NUMBER() OVER (ORDER BY jan20 DESC) - ROW_NUMBER() OVER (ORDER BY jul21 DESC)) AS delta_rank \n",
    "FROM july_2021 AS ju \n",
    "INNER JOIN jan_2020 AS ja\n",
    "ON ju.region_name = ja.region_name\n",
    "WHERE jan20 IS NOT NULL\n",
    "ORDER BY delta_rank DESC\n",
    "\"\"\")"
   ]
  },
  {
   "cell_type": "code",
   "execution_count": null,
   "metadata": {},
   "outputs": [],
   "source": [
    "price_jumps = price_jumps.rename(columns = {\n",
    "    'region_name': 'County',\n",
    "    'jan20': 'Jan 2020',\n",
    "    'jul21': 'Jul 2021',\n",
    "    'jan20_rank': 'Jan 2020 PPSF Rank',\n",
    "    'jul21_rank': 'Jul 2021 PPSF Rank',\n",
    "    'delta_rank': 'PPSF Rank Change',\n",
    "    'median_delta_pct': 'PPSF Change Pct'\n",
    "})\n",
    "\n",
    "price_jumps = price_jumps.sort_values('PPSF Rank Change', ascending = False)\n",
    "\n",
    "price_jumps.head(n = 10)"
   ]
  },
  {
   "cell_type": "code",
   "execution_count": null,
   "metadata": {},
   "outputs": [],
   "source": [
    "price_jumps = price_jumps.sort_values('PPSF Change Pct', ascending = False)\n",
    "price_jumps.head(n = 10)"
   ]
  },
  {
   "cell_type": "markdown",
   "metadata": {},
   "source": [
    "Interestingly, we see that counties in the South are seeing a huge spike in prices. Some of these places are starting at a very low base. "
   ]
  },
  {
   "cell_type": "markdown",
   "metadata": {},
   "source": [
    "#### Relationship between Transaction Prices and Transaction Volumes  \n",
    "  \n",
    "Interestingly enough, there is no clear relationship between the two. Prices have not necessarily spiked in places where transaction volumes have shot up.   "
   ]
  },
  {
   "cell_type": "code",
   "execution_count": null,
   "metadata": {},
   "outputs": [],
   "source": [
    "# renaming cols\n",
    "ytd_transaction_vols_renamed = ytd_transaction_vols.rename(columns = {\n",
    "    'rank_change': 'Transaction Rank Change',\n",
    "    'county': 'County',\n",
    "    'homes_sold_pct': 'Transaction Pct'\n",
    "})\n",
    "\n",
    "# inner join\n",
    "rank_change_comp = pd.merge(price_jumps[['County', 'PPSF Rank Change', 'PPSF Change Pct']], ytd_transaction_vols_renamed[['County', 'Transaction Rank Change', 'Transaction Pct']])"
   ]
  },
  {
   "cell_type": "code",
   "execution_count": null,
   "metadata": {},
   "outputs": [],
   "source": [
    "# plotting\n",
    "alt.Chart(rank_change_comp).mark_point().encode(\n",
    "    x = 'Transaction Pct',\n",
    "    y = 'PPSF Change Pct'\n",
    ")"
   ]
  },
  {
   "cell_type": "code",
   "execution_count": null,
   "metadata": {},
   "outputs": [],
   "source": [
    "# plotting\n",
    "alt.Chart(rank_change_comp).mark_point().encode(\n",
    "    x = 'Transaction Rank Change',\n",
    "    y = 'PPSF Rank Change'\n",
    ")"
   ]
  },
  {
   "cell_type": "code",
   "execution_count": null,
   "metadata": {},
   "outputs": [],
   "source": [
    "rank_change_comp.corr()"
   ]
  },
  {
   "cell_type": "markdown",
   "metadata": {},
   "source": [
    "Okay, so there is no correlation between median sales price per square foot and transaction volumes. "
   ]
  },
  {
   "cell_type": "markdown",
   "metadata": {},
   "source": [
    "#### Affordable Urban Housing  \n",
    "  \n",
    "An even more interesting point to note here is that most of the counties highlighted above are not even major metropolitan areas! So does that imply that beneath the noise of rising housing prices in America's biggest cities, prices and transaction volumes are rising in other parts of the country?  \n",
    "  \n",
    "Let us look at the top 50 Metropolitan Statistical Areas and the counties that fall within these zones.  "
   ]
  },
  {
   "cell_type": "code",
   "execution_count": null,
   "metadata": {},
   "outputs": [],
   "source": [
    "top_cbsa = fidap.sql(\"\"\"\n",
    "WITH top_cbsa AS (\n",
    "SELECT c2.name, c1.total_pop, c2.cbsa_geom\n",
    "FROM bigquery-public-data.census_bureau_acs.cbsa_2018_5yr AS c1\n",
    "INNER JOIN bigquery-public-data.geo_us_boundaries.cbsa AS c2\n",
    "ON c1.geo_id = c2.geo_id\n",
    "WHERE c2.msa_indicator = '1'\n",
    "AND RIGHT(c2.name, 2) NOT IN ('GM', 'MP', 'HI', 'VI', 'AK', 'PR')\n",
    "ORDER BY c1.total_pop DESC \n",
    "LIMIT 50)\n",
    "\n",
    "SELECT c.lsad_name AS county_name, s.state, CONCAT(c.lsad_name, \", \", s.state) AS full_county_name, \n",
    "c.geo_id, tc.name AS msa_name, tc.total_pop, c.county_geom \n",
    "FROM bigquery-public-data.geo_us_boundaries.counties AS c, top_cbsa AS tc\n",
    "INNER JOIN bigquery-public-data.geo_us_boundaries.states AS s\n",
    "ON s.state_fips_code = c.state_fips_code\n",
    "WHERE c.state_fips_code NOT IN ('02', '15', '66', '72', '69', '78', '60')\n",
    "AND ST_CONTAINS(tc.cbsa_geom, c.county_geom);\n",
    "\"\"\")\n",
    "\n",
    "# convert to gdf\n",
    "top_cbsa['county_geom'] = gpd.GeoSeries.from_wkt(top_cbsa['county_geom'])\n",
    "top_cbsa_counties_gdf = gpd.GeoDataFrame(top_cbsa, geometry = 'county_geom', crs = 'epsg:4326')"
   ]
  },
  {
   "cell_type": "markdown",
   "metadata": {},
   "source": [
    "So let's take the top 100 counties which have seen the biggest jump in transaction volumes and median sale price per square foot."
   ]
  },
  {
   "cell_type": "code",
   "execution_count": null,
   "metadata": {},
   "outputs": [],
   "source": [
    "top_100_price_rank_change = price_jumps.sort_values('PPSF Rank Change', ascending = False).reset_index(drop = True).loc[:99, ['County', 'PPSF Rank Change']]\n",
    "top_cbsa_counties_price_gdf = top_cbsa_counties_gdf.merge(top_100_price_rank_change, left_on = 'full_county_name', right_on = 'County')\n",
    "top_cbsa_counties_price_gdf"
   ]
  },
  {
   "cell_type": "code",
   "execution_count": null,
   "metadata": {},
   "outputs": [],
   "source": [
    "top_100_txn_rank_change = ytd_transaction_vols_renamed.sort_values('Transaction Rank Change', ascending = False).reset_index(drop = True).loc[:99, ['County', 'Transaction Rank Change']]\n",
    "top_cbsa_counties_txn_gdf = top_cbsa_counties_gdf.merge(top_100_txn_rank_change, left_on = 'full_county_name', right_on = 'County')\n",
    "top_cbsa_counties_txn_gdf"
   ]
  },
  {
   "cell_type": "markdown",
   "metadata": {},
   "source": [
    "Let us look at CBSA price movements. "
   ]
  },
  {
   "cell_type": "code",
   "execution_count": null,
   "metadata": {},
   "outputs": [],
   "source": [
    "cbsa_price = fidap.sql(\"\"\"\n",
    "WITH top_cbsa AS (\n",
    "SELECT c2.name, c2.cbsa_geom\n",
    "FROM bigquery-public-data.census_bureau_acs.cbsa_2018_5yr AS c1\n",
    "INNER JOIN bigquery-public-data.geo_us_boundaries.cbsa AS c2\n",
    "ON c1.geo_id = c2.geo_id\n",
    "WHERE c2.msa_indicator = '1'\n",
    "AND RIGHT(c2.name, 2) NOT IN ('GM', 'MP', 'HI', 'VI', 'AK', 'PR')\n",
    "ORDER BY c1.total_pop DESC \n",
    "LIMIT 20),\n",
    "\n",
    "cbsa_counties AS (\n",
    "SELECT c.lsad_name AS county_name, s.state, CONCAT(c.lsad_name, \", \", s.state) AS full_county_name, tc.name AS msa_name, c.county_geom \n",
    "FROM bigquery-public-data.geo_us_boundaries.counties AS c, top_cbsa AS tc\n",
    "INNER JOIN bigquery-public-data.geo_us_boundaries.states AS s\n",
    "ON s.state_fips_code = c.state_fips_code\n",
    "WHERE c.state_fips_code NOT IN ('02', '15', '66', '72', '69', '78', '60')\n",
    "AND ST_CONTAINS(tc.cbsa_geom, c.county_geom))\n",
    "\n",
    "SELECT cc.msa_name, period_end, \n",
    "AVG(CAST(median_sale_ppsf AS FLOAT64)) AS ppsf\n",
    "FROM fidap-301014.redfin.weekly_housing_market AS w\n",
    "INNER JOIN cbsa_counties AS cc\n",
    "ON cc.full_county_name = w.region_name\n",
    "WHERE duration = '1 weeks'\n",
    "AND region_type = 'county'\n",
    "AND CAST(period_begin AS DATE) > '2020-01-01'\n",
    "GROUP BY period_end, cc.msa_name;\n",
    "\"\"\")\n",
    "\n",
    "cbsa_price.period_end = pd.to_datetime(cbsa_price.period_end)"
   ]
  },
  {
   "cell_type": "markdown",
   "metadata": {},
   "source": [
    "If we look at the chart below, what we can observe is an increase in median sale price per square foot, yes, but expressed as a percentage, it is not the craziest either. "
   ]
  },
  {
   "cell_type": "code",
   "execution_count": null,
   "metadata": {},
   "outputs": [],
   "source": [
    "alt.Chart(cbsa_price).mark_line().encode(\n",
    "    x = alt.X('period_end', title = \"Date\"),\n",
    "    y = alt.Y('ppsf', title = \"Sale Price ($/ft2)\"),\n",
    "    color = 'msa_name'\n",
    ").interactive()"
   ]
  }
 ],
 "metadata": {
  "kernelspec": {
   "display_name": "Python 3 (Spyder)",
   "language": "python3",
   "name": "python3"
  },
  "language_info": {
   "codemirror_mode": {
    "name": "ipython",
    "version": 3
   },
   "file_extension": ".py",
   "mimetype": "text/x-python",
   "name": "python",
   "nbconvert_exporter": "python",
   "pygments_lexer": "ipython3",
   "version": "3.7.6"
  },
  "varInspector": {
   "cols": {
    "lenName": 16,
    "lenType": 16,
    "lenVar": 40
   },
   "kernels_config": {
    "python": {
     "delete_cmd_postfix": "",
     "delete_cmd_prefix": "del ",
     "library": "var_list.py",
     "varRefreshCmd": "print(var_dic_list())"
    },
    "r": {
     "delete_cmd_postfix": ") ",
     "delete_cmd_prefix": "rm(",
     "library": "var_list.r",
     "varRefreshCmd": "cat(var_dic_list()) "
    }
   },
   "types_to_exclude": [
    "module",
    "function",
    "builtin_function_or_method",
    "instance",
    "_Feature"
   ],
   "window_display": false
  }
 },
 "nbformat": 4,
 "nbformat_minor": 4
}
